{
 "cells": [
  {
   "cell_type": "code",
   "execution_count": 1,
   "metadata": {},
   "outputs": [],
   "source": [
    "## import packages\n",
    "from datetime import datetime\n",
    "import os\n",
    "import pandas as pd\n",
    "import numpy as np\n",
    "import seaborn as sns\n",
    "import matplotlib.pyplot as plt"
   ]
  },
  {
   "cell_type": "code",
   "execution_count": null,
   "metadata": {},
   "outputs": [],
   "source": [
    "import hail as hl"
   ]
  },
  {
   "cell_type": "code",
   "execution_count": 3,
   "metadata": {},
   "outputs": [
    {
     "name": "stderr",
     "output_type": "stream",
     "text": [
      "/opt/conda/lib/python3.10/site-packages/hail/context.py:352: UserWarning:\n",
      "\n",
      "Using hl.init with a default_reference argument is deprecated. To set a default reference genome after initializing hail, call `hl.default_reference` with an argument to set the default reference genome.\n",
      "\n",
      "/opt/conda/lib/python3.10/site-packages/hailtop/aiocloud/aiogoogle/user_config.py:43: UserWarning:\n",
      "\n",
      "Reading spark-defaults.conf to determine GCS requester pays configuration. This is deprecated. Please use `hailctl config set gcs_requester_pays/project` and `hailctl config set gcs_requester_pays/buckets`.\n",
      "\n",
      "Setting default log level to \"WARN\".\n",
      "To adjust logging level use sc.setLogLevel(newLevel). For SparkR, use setLogLevel(newLevel).\n",
      "Running on Apache Spark version 3.3.0\n",
      "SparkUI available at http://all-of-us-11150-m.us-central1-c.c.terra-vpc-sc-fd39b54c.internal:46399\n",
      "Welcome to\n",
      "     __  __     <>__\n",
      "    / /_/ /__  __/ /\n",
      "   / __  / _ `/ / /\n",
      "  /_/ /_/\\_,_/_/_/   version 0.2.130.post1-c69cd67afb8b\n",
      "LOGGING: writing to /home/jupyter/workspaces/prswithwgsvsarraydata/hail-20250112-0208-0.2.130.post1-c69cd67afb8b.log\n"
     ]
    }
   ],
   "source": [
    "# set up hail\n",
    "hl.init(default_reference = \"GRCh38\")"
   ]
  },
  {
   "cell_type": "code",
   "execution_count": 4,
   "metadata": {},
   "outputs": [],
   "source": [
    "bucket = os.getenv('WORKSPACE_BUCKET')"
   ]
  },
  {
   "cell_type": "markdown",
   "metadata": {},
   "source": [
    "# Array"
   ]
  },
  {
   "cell_type": "code",
   "execution_count": 6,
   "metadata": {},
   "outputs": [],
   "source": [
    "mt_array = hl.read_matrix_table(f\"{bucket}/ArrayData/Array_GT_QCed.mt\")\n",
    "mt_array = mt_array.key_rows_by(\"locus\")"
   ]
  },
  {
   "cell_type": "code",
   "execution_count": 7,
   "metadata": {},
   "outputs": [
    {
     "name": "stderr",
     "output_type": "stream",
     "text": [
      "2024-11-22 05:16:09.889 Hail: INFO: Reading table to impute column types 1) / 1]\n",
      "2024-11-22 05:16:14.822 Hail: INFO: Loading <StructExpression of type struct{person_id: str, Age: int32, is_sex_Male: int32, is_sex_Female: int32, is_White: int32, is_Black_or_African_American: int32, is_Native_Hawaiian_or_Other_Pacific_Islander: int32, is_Asian: int32, is_Middle_Eastern_or_North_African: int32, is_gender_Male: int32, is_gender_Female: int32, is_Hispanic: int32, is_anc_pred_eur: int32, is_anc_pred_amr: int32, is_anc_pred_afr: int32, is_anc_pred_sas: int32, is_anc_pred_eas: int32, is_anc_pred_mid: int32, PC1: float64, PC2: float64, PC3: float64, PC4: float64, PC5: float64, PC6: float64, PC7: float64, PC8: float64, PC9: float64, PC10: float64, PC11: float64, PC12: float64, PC13: float64, PC14: float64, PC15: float64, PC16: float64, BMI: float64, Height: float64, DBP: float64, SBP: float64, HbA1c: float64, leukocyte: float64, Lymphocyte: float64, RBC: float64, Neutrophil: float64, Hemoglobin_concentration: float64, hematocrit_percentage: float64, Eosinophil: float64, Platelet: float64, Monocyte: float64, MCV: float64, MCH: float64, Basophil: float64, MCHC: float64, HDL: float64, LDL: float64, TC: float64, TG: float64, eur_bin: int32, amr_bin: int32, afr_bin: int32, oth_bin: int32, sas_bin: int32, eas_bin: int32, mid_bin: int32}> fields. Counts by type:\n",
      "  float64: 38\n",
      "  int32: 24\n",
      "  str: 1\n",
      "2024-11-22 05:16:16.245 Hail: INFO: Reading table to impute column types\n",
      "2024-11-22 05:16:19.831 Hail: INFO: Loading <StructExpression of type struct{person_id: str, Age: int32, is_sex_Male: int32, is_sex_Female: int32, is_White: int32, is_Black_or_African_American: int32, is_Native_Hawaiian_or_Other_Pacific_Islander: int32, is_Asian: int32, is_Middle_Eastern_or_North_African: int32, is_gender_Male: int32, is_gender_Female: int32, is_Hispanic: int32, is_anc_pred_eur: int32, is_anc_pred_amr: int32, is_anc_pred_afr: int32, is_anc_pred_sas: int32, is_anc_pred_eas: int32, is_anc_pred_mid: int32, PC1: float64, PC2: float64, PC3: float64, PC4: float64, PC5: float64, PC6: float64, PC7: float64, PC8: float64, PC9: float64, PC10: float64, PC11: float64, PC12: float64, PC13: float64, PC14: float64, PC15: float64, PC16: float64, Asthma: float64, Breast_Cancer: float64, CHD: float64, Colorectal_Cancer: int32, Prostate_Cancer: int32, T2D: float64, T1D: float64, eur_bin: int32, amr_bin: int32, afr_bin: int32, oth_bin: int32, sas_bin: int32, eas_bin: int32, mid_bin: int32}> fields. Counts by type:\n",
      "  int32: 26\n",
      "  float64: 21\n",
      "  str: 1\n"
     ]
    }
   ],
   "source": [
    "## read Sample_quant \n",
    "Sample_quant = hl.import_table(f\"{bucket}/Pheno/quant_all.tsv\", \n",
    "                         missing='',\n",
    "                        impute=True,\n",
    "                        types = {\"person_id\": \"str\"})\n",
    "Sample_quant = Sample_quant.key_by(\"person_id\")\n",
    "mt_array_quant = mt_array.semi_join_cols(Sample_quant)\n",
    "mt_array_quant = mt_array_quant.annotate_cols(**Sample_quant[mt_array_quant.s])\n",
    "\n",
    "\n",
    "#### read Sample_binary\n",
    "Sample_binary = hl.import_table(f\"{bucket}/Pheno/binary_all.tsv\", \n",
    "                         missing='',\n",
    "                        impute=True,\n",
    "                        types = {\"person_id\": \"str\"})\n",
    "Sample_binary = Sample_binary.key_by(\"person_id\")\n",
    "mt_array_binary = mt_array.semi_join_cols(Sample_binary)\n",
    "mt_array_binary = mt_array_binary.annotate_cols(**Sample_binary[mt_array_binary.s])"
   ]
  },
  {
   "cell_type": "markdown",
   "metadata": {
    "heading_collapsed": true
   },
   "source": [
    "## Create ancestry specific MT"
   ]
  },
  {
   "cell_type": "code",
   "execution_count": 8,
   "metadata": {
    "hidden": true
   },
   "outputs": [],
   "source": [
    "mt_array_quant_eur = mt_array_quant.filter_cols(mt_array_quant.is_anc_pred_eur == 1)\n",
    "mt_array_quant_amr = mt_array_quant.filter_cols(mt_array_quant.is_anc_pred_amr == 1)\n",
    "mt_array_quant_afr = mt_array_quant.filter_cols(mt_array_quant.is_anc_pred_afr == 1)\n",
    "\n",
    "mt_array_binary_eur = mt_array_binary.filter_cols(mt_array_binary.is_anc_pred_eur == 1)\n",
    "mt_array_binary_amr = mt_array_binary.filter_cols(mt_array_binary.is_anc_pred_amr == 1)\n",
    "mt_array_binary_afr = mt_array_binary.filter_cols(mt_array_binary.is_anc_pred_afr == 1)"
   ]
  },
  {
   "cell_type": "markdown",
   "metadata": {
    "heading_collapsed": true
   },
   "source": [
    "## Annotate rows with allele frequency"
   ]
  },
  {
   "cell_type": "code",
   "execution_count": 9,
   "metadata": {
    "hidden": true
   },
   "outputs": [],
   "source": [
    "mt_array_quant_eur = mt_array_quant_eur.annotate_rows(allele_freq = hl.agg.mean(mt_array_quant_eur.GT) / 2)\n",
    "mt_array_quant_amr = mt_array_quant_amr.annotate_rows(allele_freq = hl.agg.mean(mt_array_quant_amr.GT) / 2)\n",
    "mt_array_quant_afr = mt_array_quant_afr.annotate_rows(allele_freq = hl.agg.mean(mt_array_quant_afr.GT) / 2)\n",
    "\n",
    "mt_array_binary_eur = mt_array_binary_eur.annotate_rows(allele_freq = hl.agg.mean(mt_array_binary_eur.GT) / 2)\n",
    "mt_array_binary_amr = mt_array_binary_amr.annotate_rows(allele_freq = hl.agg.mean(mt_array_binary_amr.GT) / 2)\n",
    "mt_array_binary_afr = mt_array_binary_afr.annotate_rows(allele_freq = hl.agg.mean(mt_array_binary_afr.GT) / 2)"
   ]
  },
  {
   "cell_type": "code",
   "execution_count": 10,
   "metadata": {
    "hidden": true
   },
   "outputs": [
    {
     "name": "stderr",
     "output_type": "stream",
     "text": [
      "2024-11-22 05:24:08.237 Hail: INFO: wrote table with 975876 rows in 74 partitions to gs://fc-secure-9afe7562-2fad-4781-ab60-03528a626c19/AF/array_quant_eur.ht\n",
      "2024-11-22 05:28:32.402 Hail: INFO: wrote table with 975876 rows in 74 partitions to gs://fc-secure-9afe7562-2fad-4781-ab60-03528a626c19/AF/array_quant_amr.ht\n",
      "2024-11-22 05:33:13.343 Hail: INFO: wrote table with 975876 rows in 74 partitions to gs://fc-secure-9afe7562-2fad-4781-ab60-03528a626c19/AF/array_quant_afr.ht\n",
      "2024-11-22 05:38:27.949 Hail: INFO: wrote table with 975876 rows in 74 partitions to gs://fc-secure-9afe7562-2fad-4781-ab60-03528a626c19/AF/array_binary_eur.ht\n",
      "2024-11-22 05:42:55.332 Hail: INFO: wrote table with 975876 rows in 74 partitions to gs://fc-secure-9afe7562-2fad-4781-ab60-03528a626c19/AF/array_binary_amr.ht\n",
      "2024-11-22 05:47:33.014 Hail: INFO: wrote table with 975876 rows in 74 partitions to gs://fc-secure-9afe7562-2fad-4781-ab60-03528a626c19/AF/array_binary_afr.ht\n"
     ]
    }
   ],
   "source": [
    "mt_array_quant_eur.rows().write(f\"{bucket}/AF/array_quant_eur.ht\", overwrite=True)\n",
    "mt_array_quant_amr.rows().write(f\"{bucket}/AF/array_quant_amr.ht\", overwrite=True)\n",
    "mt_array_quant_afr.rows().write(f\"{bucket}/AF/array_quant_afr.ht\", overwrite=True)\n",
    "\n",
    "mt_array_binary_eur.rows().write(f\"{bucket}/AF/array_binary_eur.ht\", overwrite=True)\n",
    "mt_array_binary_amr.rows().write(f\"{bucket}/AF/array_binary_amr.ht\", overwrite=True)\n",
    "mt_array_binary_afr.rows().write(f\"{bucket}/AF/array_binary_afr.ht\", overwrite=True)"
   ]
  },
  {
   "cell_type": "markdown",
   "metadata": {},
   "source": [
    "## Subset to clumped variants"
   ]
  },
  {
   "cell_type": "markdown",
   "metadata": {},
   "source": [
    "### quant"
   ]
  },
  {
   "cell_type": "code",
   "execution_count": 39,
   "metadata": {},
   "outputs": [],
   "source": [
    "array_quant_eur = hl.read_table(f\"{bucket}/AF/array_quant_eur.ht\")\n",
    "array_quant_amr = hl.read_table(f\"{bucket}/AF/array_quant_amr.ht\")\n",
    "array_quant_afr = hl.read_table(f\"{bucket}/AF/array_quant_afr.ht\")"
   ]
  },
  {
   "cell_type": "code",
   "execution_count": 40,
   "metadata": {},
   "outputs": [
    {
     "name": "stdout",
     "output_type": "stream",
     "text": [
      "Number of variants in array_quant_eur: 975876\n",
      "Number of variants in array_quant_amr: 975876\n",
      "Number of variants in array_quant_afr: 975876\n"
     ]
    }
   ],
   "source": [
    "# Print row counts\n",
    "print(f\"Number of variants in array_quant_eur: {array_quant_eur.count()}\")\n",
    "print(f\"Number of variants in array_quant_amr: {array_quant_amr.count()}\")\n",
    "print(f\"Number of variants in array_quant_afr: {array_quant_afr.count()}\")"
   ]
  },
  {
   "cell_type": "markdown",
   "metadata": {},
   "source": [
    "### binary"
   ]
  },
  {
   "cell_type": "code",
   "execution_count": 41,
   "metadata": {},
   "outputs": [],
   "source": [
    "array_binary_eur = hl.read_table(f\"{bucket}/AF/array_binary_eur.ht\")\n",
    "array_binary_amr = hl.read_table(f\"{bucket}/AF/array_binary_amr.ht\")\n",
    "array_binary_afr = hl.read_table(f\"{bucket}/AF/array_binary_afr.ht\")"
   ]
  },
  {
   "cell_type": "code",
   "execution_count": 42,
   "metadata": {
    "code_folding": []
   },
   "outputs": [
    {
     "name": "stdout",
     "output_type": "stream",
     "text": [
      "Number of variants in array_binary_eur: 975876\n",
      "Number of variants in array_binary_amr: 975876\n",
      "Number of variants in array_binary_afr: 975876\n"
     ]
    }
   ],
   "source": [
    "# Print row counts\n",
    "print(f\"Number of variants in array_binary_eur: {array_binary_eur.count()}\")\n",
    "print(f\"Number of variants in array_binary_amr: {array_binary_amr.count()}\")\n",
    "print(f\"Number of variants in array_binary_afr: {array_binary_afr.count()}\")"
   ]
  },
  {
   "cell_type": "markdown",
   "metadata": {},
   "source": [
    "### Subset and plot together"
   ]
  },
  {
   "cell_type": "code",
   "execution_count": 43,
   "metadata": {
    "scrolled": false
   },
   "outputs": [
    {
     "name": "stderr",
     "output_type": "stream",
     "text": [
      "2025-01-12 03:45:12.670 Hail: INFO: wrote table with 262399 rows in 1 partition to /tmp/__iruid_86678-G0mTV6Djg06tR6Ivc6b5SV\n",
      "2025-01-12 03:45:16.357 Hail: INFO: wrote table with 262399 rows in 1 partition to /tmp/__iruid_87610-vg2kwABW1oaEWnQOdo7TiD\n",
      "2025-01-12 03:45:19.910 Hail: INFO: wrote table with 262399 rows in 1 partition to /tmp/__iruid_88542-IQaQQMCMsLBukDTLpxqVfa\n",
      "2025-01-12 03:45:23.910 Hail: INFO: wrote table with 261858 rows in 1 partition to /tmp/__iruid_89474-RH6RkTeSCUAj6ROALXKUC5\n",
      "2025-01-12 03:45:27.325 Hail: INFO: wrote table with 261858 rows in 1 partition to /tmp/__iruid_90406-Dn7psN3ioKOkBcg692BPbL\n",
      "2025-01-12 03:45:30.889 Hail: INFO: wrote table with 261858 rows in 1 partition to /tmp/__iruid_91338-PhLN6vEkzbF9wZfVdvHZLi\n",
      "2025-01-12 03:45:34.902 Hail: INFO: wrote table with 261583 rows in 1 partition to /tmp/__iruid_92270-W1oWg2186auLQ2wRDTLHaf\n",
      "2025-01-12 03:45:39.034 Hail: INFO: wrote table with 261583 rows in 1 partition to /tmp/__iruid_93202-tGBQb8TmsIi4LaSJRJl4Km\n",
      "2025-01-12 03:45:43.529 Hail: INFO: wrote table with 261583 rows in 1 partition to /tmp/__iruid_94134-5tw6O8uSfntootlEpCWI9o\n",
      "2025-01-12 03:45:47.408 Hail: INFO: wrote table with 262106 rows in 1 partition to /tmp/__iruid_95066-ww65A5NqsMAdaL6rHyGNVY\n",
      "2025-01-12 03:45:50.840 Hail: INFO: wrote table with 262106 rows in 1 partition to /tmp/__iruid_95998-dL7crbmgDuWKlFS238Hzge\n",
      "2025-01-12 03:45:54.281 Hail: INFO: wrote table with 262106 rows in 1 partition to /tmp/__iruid_96930-2f4HXsziHKkfyPcFBfWreY\n",
      "2025-01-12 03:45:58.112 Hail: INFO: wrote table with 262290 rows in 1 partition to /tmp/__iruid_97862-xTAdR1zviFKyuiRgghLtf5\n",
      "2025-01-12 03:46:01.796 Hail: INFO: wrote table with 262290 rows in 1 partition to /tmp/__iruid_98794-5hA1dUM8irFvmZemX1KvDU\n",
      "2025-01-12 03:46:05.342 Hail: INFO: wrote table with 262290 rows in 1 partition to /tmp/__iruid_99726-yhryXIH8fWec4HdQYRlNKA\n",
      "2025-01-12 03:46:08.992 Hail: INFO: wrote table with 261711 rows in 1 partition to /tmp/__iruid_100658-Gtxf4tO6hIDtQ9hv1O5huy\n",
      "2025-01-12 03:46:12.556 Hail: INFO: wrote table with 261711 rows in 1 partition to /tmp/__iruid_101590-VoGMUyQt617bffyoha37vg\n",
      "2025-01-12 03:46:15.855 Hail: INFO: wrote table with 261711 rows in 1 partition to /tmp/__iruid_102522-ls1kcaQ8WDfRkQiN8JXIZ6\n",
      "2025-01-12 03:46:19.615 Hail: INFO: wrote table with 262804 rows in 1 partition to /tmp/__iruid_103454-whm4YrcwyiBq5DnM9No1at\n",
      "2025-01-12 03:46:23.055 Hail: INFO: wrote table with 262804 rows in 1 partition to /tmp/__iruid_104386-zhe79ofCD0lgYrBmlPHAbf\n",
      "2025-01-12 03:46:26.595 Hail: INFO: wrote table with 262804 rows in 1 partition to /tmp/__iruid_105318-vQT0LmVmKIVkYivvvNVzA1\n",
      "2025-01-12 03:46:30.271 Hail: INFO: wrote table with 262905 rows in 1 partition to /tmp/__iruid_106250-VtYbXSi8a5BEOYVjZ7BYy0\n",
      "2025-01-12 03:46:33.716 Hail: INFO: wrote table with 262905 rows in 1 partition to /tmp/__iruid_107182-g6mMZKaHXYlW74XiNXRICj\n",
      "2025-01-12 03:46:37.087 Hail: INFO: wrote table with 262905 rows in 1 partition to /tmp/__iruid_108114-3XnUrbpicjXzx9gDtBP6V6\n",
      "2025-01-12 03:46:40.953 Hail: INFO: wrote table with 261535 rows in 1 partition to /tmp/__iruid_109046-45HydK9GDfEEijWUnIlfY1\n",
      "2025-01-12 03:46:44.355 Hail: INFO: wrote table with 261535 rows in 1 partition to /tmp/__iruid_109978-0j31onbXQAIXGGxaclv7bG\n",
      "2025-01-12 03:46:47.751 Hail: INFO: wrote table with 261535 rows in 1 partition to /tmp/__iruid_110910-3nQt3GU61s6PJ7DkFyFVQB\n",
      "2025-01-12 03:46:51.532 Hail: INFO: wrote table with 262969 rows in 1 partition to /tmp/__iruid_111842-6eqfYhQ0rQVcvXi9pID6dr\n",
      "2025-01-12 03:46:55.025 Hail: INFO: wrote table with 262969 rows in 1 partition to /tmp/__iruid_112774-cPZwZZtf0nZM9oLhfXH95l\n",
      "2025-01-12 03:46:58.369 Hail: INFO: wrote table with 262969 rows in 1 partition to /tmp/__iruid_113706-GSIXEB9JGIiQkKKzfOXrFR\n",
      "[Stage 245:====================================================>  (70 + 4) / 74]\r"
     ]
    }
   ],
   "source": [
    "# Define the phenotypes and ancestries for both quantitative and binary datasets\n",
    "quantitative_phenotypes = [\"Height\", \"DBP\", \"HDL\", \"TC\", \"RBC\", \"leukocyte\"]\n",
    "binary_phenotypes = [\"Asthma\", \"T2D\", \"Colorectal_Cancer\", \"Breast_Cancer\"]\n",
    "ancestries = [\"eur\", \"amr\", \"afr\"]\n",
    "\n",
    "# Initialize a dictionary to store allele frequencies\n",
    "allele_frequencies = {}\n",
    "\n",
    "# Process quantitative phenotypes\n",
    "for pheno in quantitative_phenotypes:\n",
    "    # Read the sumstats for the current phenotype (quantitative)\n",
    "    sumstats = hl.read_table(f\"{bucket}/hail_checkpoints/{pheno}_sumstats_checkpoint.ht\")\n",
    "    \n",
    "    # Process each ancestry for the quantitative phenotypes\n",
    "    for anc in ancestries:\n",
    "        # Dynamically subset the MatrixTable based on ancestry\n",
    "        if anc == \"eur\":\n",
    "            subset_array = array_quant_eur.semi_join(sumstats)\n",
    "        elif anc == \"amr\":\n",
    "            subset_array = array_quant_amr.semi_join(sumstats)\n",
    "        elif anc == \"afr\":\n",
    "            subset_array = array_quant_afr.semi_join(sumstats)\n",
    "        \n",
    "        # Collect allele frequencies into a Python list\n",
    "        af_list = subset_array.allele_freq.collect()\n",
    "        \n",
    "        # Store the allele frequencies in the dictionary\n",
    "        key = f\"{pheno}_{anc}\"\n",
    "        allele_frequencies[key] = af_list\n",
    "\n",
    "# Process binary phenotypes\n",
    "for pheno in binary_phenotypes:\n",
    "    # Read the sumstats for the current phenotype (binary)\n",
    "    sumstats = hl.read_table(f\"{bucket}/hail_checkpoints/{pheno}_sumstats_checkpoint.ht\")\n",
    "    \n",
    "    # Process each ancestry for the binary phenotypes\n",
    "    for anc in ancestries:\n",
    "        # Dynamically subset the MatrixTable based on ancestry\n",
    "        if anc == \"eur\":\n",
    "            subset_array = array_binary_eur.semi_join(sumstats)\n",
    "        elif anc == \"amr\":\n",
    "            subset_array = array_binary_amr.semi_join(sumstats)\n",
    "        elif anc == \"afr\":\n",
    "            subset_array = array_binary_afr.semi_join(sumstats)\n",
    "        \n",
    "        # Collect allele frequencies into a Python list\n",
    "        af_list = subset_array.allele_freq.collect()\n",
    "        \n",
    "        # Store the allele frequencies in the dictionary\n",
    "        key = f\"{pheno}_{anc}\"\n",
    "        allele_frequencies[key] = af_list"
   ]
  },
  {
   "cell_type": "code",
   "execution_count": 44,
   "metadata": {},
   "outputs": [
    {
     "data": {
      "image/png": "[encoded data removed]",
      "text/plain": [
       "<Figure size 2200x600 with 30 Axes>"
      ]
     },
     "metadata": {},
     "output_type": "display_data"
    }
   ],
   "source": [
    "# Rename some phenotypes\n",
    "phenotype_mapping = {\n",
    "    'leukocyte': 'Leukocyte',  \n",
    "    'Colorectal_Cancer': 'Colorectal Cancer',  \n",
    "    'Breast_Cancer': 'Breast Cancer',\n",
    "}\n",
    "\n",
    "# Create the figure and subplots with much wider and shorter dimensions\n",
    "fig, axes = plt.subplots(len(ancestries), len(quantitative_phenotypes) + len(binary_phenotypes), \n",
    "                         figsize=(len(quantitative_phenotypes) + len(binary_phenotypes) * 4, len(ancestries) * 2),  # Wider, shorter\n",
    "                         sharex=True, sharey='col')\n",
    "\n",
    "# Combine the two phenotype lists\n",
    "all_phenotypes = quantitative_phenotypes + binary_phenotypes\n",
    "\n",
    "# Loop through ancestries and phenotypes to plot histograms\n",
    "for j, anc in enumerate(ancestries):  # Iterate over ancestries in rows\n",
    "    for i, pheno in enumerate(all_phenotypes):  # Iterate over phenotypes in columns\n",
    "        key = f\"{pheno}_{anc}\"\n",
    "        data = allele_frequencies.get(key, [])\n",
    "        \n",
    "        # Plot the histogram with density (proportions) instead of raw count\n",
    "        axes[j, i].hist(\n",
    "            data, bins=100, alpha=0.7, edgecolor='black', linewidth=0.5,\n",
    "            color=['red', '#ff7f0e', 'slateblue'][j], density=True  # Normalize to get proportions\n",
    "        )\n",
    "        axes[j, i].set_xlim(0, 0.5)  # Set the limit for the MAF range\n",
    "        \n",
    "        # Set titles and labels\n",
    "        if j == 0:  # Only on the first row\n",
    "            # Use the mapped descriptive name for the phenotype if available\n",
    "            axes[j, i].set_title(phenotype_mapping.get(pheno, pheno), fontsize=18)  # Set phenotype title with the mapped label\n",
    "        \n",
    "        # Place ancestry label on the right side of each column\n",
    "        if i == len(all_phenotypes) - 1:\n",
    "            axes[j, i].text(1.05, 0.5, anc.upper(), ha='left', va='center', fontsize=20, transform=axes[j, i].transAxes)\n",
    "\n",
    "        # Set x-axis ticks\n",
    "        axes[j, i].set_xticks([x / 10 for x in range(6)])  # Create ticks from 0 to 0.5 with step 0.1\n",
    "        axes[j, i].set_xticklabels([f'{x/10:.1f}' for x in range(6)])  # Format ticks as 0.0, 0.1, ..., 0.5\n",
    "\n",
    "# Add overall x-axis label\n",
    "fig.supxlabel(\"MAF\", fontsize=20)\n",
    "\n",
    "# Add one shared y-axis label for the entire figure (and hide all individual y-axis labels)\n",
    "fig.text(-0.01, 0.5, \"Proportion\", ha='center', va='center', fontsize=20, rotation=90)\n",
    "\n",
    "# Remove all individual y-axis labels\n",
    "for ax in axes.flatten():\n",
    "    ax.set_ylabel('')  # Hide individual y-axis labels\n",
    "\n",
    "# Adjust layout to ensure proper spacing\n",
    "plt.tight_layout(rect=[0, 0, 1, 0.93])\n",
    "\n",
    "# Show the plot\n",
    "plt.show()"
   ]
  },
  {
   "cell_type": "markdown",
   "metadata": {},
   "source": [
    "# WGS"
   ]
  },
  {
   "cell_type": "code",
   "execution_count": 23,
   "metadata": {},
   "outputs": [],
   "source": [
    "mt_wgs = hl.read_matrix_table(f\"{bucket}/WGSData/WGS_GT_QCed_clumpedUnion.mt\")\n",
    "mt_wgs = mt_wgs.key_rows_by(\"locus\")"
   ]
  },
  {
   "cell_type": "code",
   "execution_count": 28,
   "metadata": {},
   "outputs": [
    {
     "name": "stderr",
     "output_type": "stream",
     "text": [
      "2025-01-06 03:38:32.644 Hail: INFO: Reading table to impute column types\n",
      "2025-01-06 03:38:36.961 Hail: INFO: Loading <StructExpression of type struct{person_id: str, Age: int32, is_sex_Male: int32, is_sex_Female: int32, is_White: int32, is_Black_or_African_American: int32, is_Native_Hawaiian_or_Other_Pacific_Islander: int32, is_Asian: int32, is_Middle_Eastern_or_North_African: int32, is_gender_Male: int32, is_gender_Female: int32, is_Hispanic: int32, is_anc_pred_eur: int32, is_anc_pred_amr: int32, is_anc_pred_afr: int32, is_anc_pred_sas: int32, is_anc_pred_eas: int32, is_anc_pred_mid: int32, PC1: float64, PC2: float64, PC3: float64, PC4: float64, PC5: float64, PC6: float64, PC7: float64, PC8: float64, PC9: float64, PC10: float64, PC11: float64, PC12: float64, PC13: float64, PC14: float64, PC15: float64, PC16: float64, BMI: float64, Height: float64, DBP: float64, SBP: float64, HbA1c: float64, leukocyte: float64, Lymphocyte: float64, RBC: float64, Neutrophil: float64, Hemoglobin_concentration: float64, hematocrit_percentage: float64, Eosinophil: float64, Platelet: float64, Monocyte: float64, MCV: float64, MCH: float64, Basophil: float64, MCHC: float64, HDL: float64, LDL: float64, TC: float64, TG: float64, eur_bin: int32, amr_bin: int32, afr_bin: int32, oth_bin: int32, sas_bin: int32, eas_bin: int32, mid_bin: int32}> fields. Counts by type:\n",
      "  float64: 38\n",
      "  int32: 24\n",
      "  str: 1\n",
      "2025-01-06 03:38:38.007 Hail: INFO: Reading table to impute column types\n",
      "2025-01-06 03:38:41.213 Hail: INFO: Loading <StructExpression of type struct{person_id: str, Age: int32, is_sex_Male: int32, is_sex_Female: int32, is_White: int32, is_Black_or_African_American: int32, is_Native_Hawaiian_or_Other_Pacific_Islander: int32, is_Asian: int32, is_Middle_Eastern_or_North_African: int32, is_gender_Male: int32, is_gender_Female: int32, is_Hispanic: int32, is_anc_pred_eur: int32, is_anc_pred_amr: int32, is_anc_pred_afr: int32, is_anc_pred_sas: int32, is_anc_pred_eas: int32, is_anc_pred_mid: int32, PC1: float64, PC2: float64, PC3: float64, PC4: float64, PC5: float64, PC6: float64, PC7: float64, PC8: float64, PC9: float64, PC10: float64, PC11: float64, PC12: float64, PC13: float64, PC14: float64, PC15: float64, PC16: float64, Asthma: float64, Breast_Cancer: float64, CHD: float64, Colorectal_Cancer: int32, Prostate_Cancer: int32, T2D: float64, T1D: float64, eur_bin: int32, amr_bin: int32, afr_bin: int32, oth_bin: int32, sas_bin: int32, eas_bin: int32, mid_bin: int32}> fields. Counts by type:\n",
      "  int32: 26\n",
      "  float64: 21\n",
      "  str: 1\n"
     ]
    }
   ],
   "source": [
    "## read Sample_quant \n",
    "Sample_quant = hl.import_table(f\"{bucket}/Pheno/quant_all.tsv\", \n",
    "                         missing='',\n",
    "                        impute=True,\n",
    "                        types = {\"person_id\": \"str\"})\n",
    "Sample_quant = Sample_quant.key_by(\"person_id\")\n",
    "mt_wgs_quant = mt_wgs.semi_join_cols(Sample_quant)\n",
    "mt_wgs_quant = mt_wgs_quant.annotate_cols(**Sample_quant[mt_wgs_quant.s])\n",
    "\n",
    "\n",
    "#### read Sample_binary\n",
    "Sample_binary = hl.import_table(f\"{bucket}/Pheno/binary_all.tsv\", \n",
    "                         missing='',\n",
    "                        impute=True,\n",
    "                        types = {\"person_id\": \"str\"})\n",
    "Sample_binary = Sample_binary.key_by(\"person_id\")\n",
    "mt_wgs_binary = mt_wgs.semi_join_cols(Sample_binary)\n",
    "mt_wgs_binary = mt_wgs_binary.annotate_cols(**Sample_binary[mt_wgs_binary.s])"
   ]
  },
  {
   "cell_type": "markdown",
   "metadata": {},
   "source": [
    "## Create ancestry specific MT"
   ]
  },
  {
   "cell_type": "code",
   "execution_count": 26,
   "metadata": {},
   "outputs": [],
   "source": [
    "mt_wgs_quant_eur = mt_wgs_quant.filter_cols(mt_wgs_quant.is_anc_pred_eur == 1)\n",
    "mt_wgs_quant_amr = mt_wgs_quant.filter_cols(mt_wgs_quant.is_anc_pred_amr == 1)\n",
    "mt_wgs_quant_afr = mt_wgs_quant.filter_cols(mt_wgs_quant.is_anc_pred_afr == 1)\n",
    "\n",
    "mt_wgs_binary_eur = mt_wgs_binary.filter_cols(mt_wgs_binary.is_anc_pred_eur == 1)\n",
    "mt_wgs_binary_amr = mt_wgs_binary.filter_cols(mt_wgs_binary.is_anc_pred_amr == 1)\n",
    "mt_wgs_binary_afr = mt_wgs_binary.filter_cols(mt_wgs_binary.is_anc_pred_afr == 1)"
   ]
  },
  {
   "cell_type": "markdown",
   "metadata": {},
   "source": [
    "## Annotate rows with allele frequency"
   ]
  },
  {
   "cell_type": "code",
   "execution_count": 26,
   "metadata": {},
   "outputs": [],
   "source": [
    "mt_wgs_quant_eur = mt_wgs_quant_eur.annotate_rows(allele_freq = hl.agg.mean(mt_wgs_quant_eur.GT) / 2)\n",
    "mt_wgs_quant_amr = mt_wgs_quant_amr.annotate_rows(allele_freq = hl.agg.mean(mt_wgs_quant_amr.GT) / 2)\n",
    "mt_wgs_quant_afr = mt_wgs_quant_afr.annotate_rows(allele_freq = hl.agg.mean(mt_wgs_quant_afr.GT) / 2)\n",
    "\n",
    "mt_wgs_binary_eur = mt_wgs_binary_eur.annotate_rows(allele_freq = hl.agg.mean(mt_wgs_binary_eur.GT) / 2)\n",
    "mt_wgs_binary_amr = mt_wgs_binary_amr.annotate_rows(allele_freq = hl.agg.mean(mt_wgs_binary_amr.GT) / 2)\n",
    "mt_wgs_binary_afr = mt_wgs_binary_afr.annotate_rows(allele_freq = hl.agg.mean(mt_wgs_binary_afr.GT) / 2)"
   ]
  },
  {
   "cell_type": "code",
   "execution_count": null,
   "metadata": {},
   "outputs": [
    {
     "name": "stderr",
     "output_type": "stream",
     "text": [
      "2024-11-22 06:44:40.119 Hail: INFO: wrote table with 2156896 rows in 140126 partitions to gs://fc-secure-9afe7562-2fad-4781-ab60-03528a626c19/AF/wgs_quant_eur.ht\n",
      "2024-11-22 07:33:01.523 Hail: INFO: wrote table with 2156896 rows in 140126 partitions to gs://fc-secure-9afe7562-2fad-4781-ab60-03528a626c19/AF/wgs_quant_amr.ht\n",
      "2024-11-22 08:17:59.978 Hail: INFO: wrote table with 2156896 rows in 140126 partitions to gs://fc-secure-9afe7562-2fad-4781-ab60-03528a626c19/AF/wgs_quant_afr.ht\n",
      "2024-11-22 09:02:56.487 Hail: INFO: wrote table with 2156896 rows in 140126 partitions to gs://fc-secure-9afe7562-2fad-4781-ab60-03528a626c19/AF/wgs_binary_eur.ht\n",
      "2024-11-22 09:47:12.400 Hail: INFO: wrote table with 2156896 rows in 140126 partitions to gs://fc-secure-9afe7562-2fad-4781-ab60-03528a626c19/AF/wgs_binary_amr.ht\n",
      "[Stage 49:==============================================>(140114 + 12) / 140126]\r"
     ]
    }
   ],
   "source": [
    "mt_wgs_quant_eur.rows().write(f\"{bucket}/AF/wgs_quant_eur.ht\", overwrite=True)\n",
    "mt_wgs_quant_amr.rows().write(f\"{bucket}/AF/wgs_quant_amr.ht\", overwrite=True)\n",
    "mt_wgs_quant_afr.rows().write(f\"{bucket}/AF/wgs_quant_afr.ht\", overwrite=True)\n",
    "\n",
    "mt_wgs_binary_eur.rows().write(f\"{bucket}/AF/wgs_binary_eur.ht\", overwrite=True)\n",
    "mt_wgs_binary_amr.rows().write(f\"{bucket}/AF/wgs_binary_amr.ht\", overwrite=True)\n",
    "mt_wgs_binary_afr.rows().write(f\"{bucket}/AF/wgs_binary_afr.ht\", overwrite=True)"
   ]
  },
  {
   "cell_type": "markdown",
   "metadata": {},
   "source": [
    "## Subset to clumped variants"
   ]
  },
  {
   "cell_type": "markdown",
   "metadata": {},
   "source": [
    "### quant"
   ]
  },
  {
   "cell_type": "code",
   "execution_count": 27,
   "metadata": {},
   "outputs": [],
   "source": [
    "wgs_quant_eur = hl.read_table(f\"{bucket}/AF/wgs_quant_eur.ht\")\n",
    "wgs_quant_amr = hl.read_table(f\"{bucket}/AF/wgs_quant_amr.ht\")\n",
    "wgs_quant_afr = hl.read_table(f\"{bucket}/AF/wgs_quant_afr.ht\")"
   ]
  },
  {
   "cell_type": "code",
   "execution_count": 28,
   "metadata": {},
   "outputs": [
    {
     "name": "stdout",
     "output_type": "stream",
     "text": [
      "Number of variants in wgs_eur: 2156896\n",
      "Number of variants in wgs_amr: 2156896\n",
      "Number of variants in wgs_afr: 2156896\n"
     ]
    }
   ],
   "source": [
    "# Print row counts\n",
    "print(f\"Number of variants in wgs_eur: {wgs_quant_eur.count()}\")\n",
    "print(f\"Number of variants in wgs_amr: {wgs_quant_amr.count()}\")\n",
    "print(f\"Number of variants in wgs_afr: {wgs_quant_afr.count()}\")"
   ]
  },
  {
   "cell_type": "markdown",
   "metadata": {},
   "source": [
    "### binary"
   ]
  },
  {
   "cell_type": "code",
   "execution_count": 29,
   "metadata": {},
   "outputs": [],
   "source": [
    "wgs_binary_eur = hl.read_table(f\"{bucket}/AF/wgs_binary_eur.ht\")\n",
    "wgs_binary_amr = hl.read_table(f\"{bucket}/AF/wgs_binary_amr.ht\")\n",
    "wgs_binary_afr = hl.read_table(f\"{bucket}/AF/wgs_binary_afr.ht\")"
   ]
  },
  {
   "cell_type": "code",
   "execution_count": 30,
   "metadata": {},
   "outputs": [
    {
     "name": "stdout",
     "output_type": "stream",
     "text": [
      "Number of variants in wgs_eur: 2156896\n",
      "Number of variants in wgs_amr: 2156896\n",
      "Number of variants in wgs_afr: 2156896\n"
     ]
    }
   ],
   "source": [
    "# Print row counts\n",
    "print(f\"Number of variants in wgs_eur: {wgs_binary_eur.count()}\")\n",
    "print(f\"Number of variants in wgs_amr: {wgs_binary_amr.count()}\")\n",
    "print(f\"Number of variants in wgs_afr: {wgs_binary_afr.count()}\")"
   ]
  },
  {
   "cell_type": "markdown",
   "metadata": {},
   "source": [
    "### Subset and plot together"
   ]
  },
  {
   "cell_type": "code",
   "execution_count": 31,
   "metadata": {},
   "outputs": [
    {
     "name": "stderr",
     "output_type": "stream",
     "text": [
      "2025-01-12 02:39:40.521 Hail: INFO: wrote table with 468717 rows in 1 partition to /tmp/__iruid_58706-dquXuonEol9fjuUwfBXeaR\n",
      "2025-01-12 02:43:20.797 Hail: INFO: wrote table with 468717 rows in 1 partition to /tmp/__iruid_59638-SH1eYLqxqyiF6ExLtMxeqn\n",
      "2025-01-12 02:44:54.636 Hail: INFO: wrote table with 468717 rows in 1 partition to /tmp/__iruid_60570-9moCj0dMjVL7Adwf7hOwWi\n",
      "2025-01-12 02:46:27.661 Hail: INFO: wrote table with 466453 rows in 1 partition to /tmp/__iruid_61502-LG6jE3k7qPY2FJgBbIuhJT\n",
      "2025-01-12 02:47:56.922 Hail: INFO: wrote table with 466453 rows in 1 partition to /tmp/__iruid_62434-btuhhrejtAFNAJsTKNXfnN\n",
      "2025-01-12 02:49:23.988 Hail: INFO: wrote table with 466453 rows in 1 partition to /tmp/__iruid_63366-9PeZMU1pVyh06Uoatm8X0D\n",
      "2025-01-12 02:50:51.762 Hail: INFO: wrote table with 465726 rows in 1 partition to /tmp/__iruid_64298-SwY36c5n0yyvvP5A3gI2fM\n",
      "2025-01-12 02:52:07.928 Hail: INFO: wrote table with 465726 rows in 1 partition to /tmp/__iruid_65230-MXhopZt4nbDHUti0qvrgx4\n",
      "2025-01-12 02:53:23.935 Hail: INFO: wrote table with 465726 rows in 1 partition to /tmp/__iruid_66162-m41hmElA5ar2MseLL7ByPE\n",
      "2025-01-12 02:54:40.243 Hail: INFO: wrote table with 466573 rows in 1 partition to /tmp/__iruid_67094-ap7iPuSnxO8wtfyxUii9MP\n",
      "2025-01-12 02:55:53.487 Hail: INFO: wrote table with 466573 rows in 1 partition to /tmp/__iruid_68026-l9GzN0z8poaTwqi8bOUW7F\n",
      "2025-01-12 02:57:05.684 Hail: INFO: wrote table with 466573 rows in 1 partition to /tmp/__iruid_68958-mlRsQUX7jpoOerjZVJBdfw\n",
      "2025-01-12 02:58:18.486 Hail: INFO: wrote table with 466830 rows in 1 partition to /tmp/__iruid_69890-uIOmlyNdCjG7ey8dFupPWe\n",
      "2025-01-12 02:59:28.087 Hail: INFO: wrote table with 466830 rows in 1 partition to /tmp/__iruid_70822-qI0NW6SUP9GO8T6bP5LZr8\n",
      "2025-01-12 03:00:36.992 Hail: INFO: wrote table with 466830 rows in 1 partition to /tmp/__iruid_71754-mvNOz0oUQ9ksoNBhImtlc1\n",
      "2025-01-12 03:01:47.074 Hail: INFO: wrote table with 466426 rows in 1 partition to /tmp/__iruid_72686-tg23PPd8c2iLLEhsPj6nUG\n",
      "2025-01-12 03:02:56.640 Hail: INFO: wrote table with 466426 rows in 1 partition to /tmp/__iruid_73618-kItozib0RBAcv4kma0Xcrq\n",
      "2025-01-12 03:04:07.918 Hail: INFO: wrote table with 466426 rows in 1 partition to /tmp/__iruid_74550-fZ2FiT1UGjXPmrZLXlQyhw\n",
      "2025-01-12 03:05:19.940 Hail: INFO: wrote table with 468426 rows in 1 partition to /tmp/__iruid_75482-rtRmUBwY1JtrohzzYG2DhZ\n",
      "2025-01-12 03:06:53.441 Hail: INFO: wrote table with 468426 rows in 1 partition to /tmp/__iruid_76414-weyjB7lyHkQM6aWyPWd6Gr\n",
      "2025-01-12 03:08:25.905 Hail: INFO: wrote table with 468426 rows in 1 partition to /tmp/__iruid_77346-eMxq4KYvzIBwBi0IYt21Qx\n",
      "2025-01-12 03:10:00.422 Hail: INFO: wrote table with 468161 rows in 1 partition to /tmp/__iruid_78278-ulhzXtamDAWhFvqhhHXesw\n",
      "2025-01-12 03:11:28.743 Hail: INFO: wrote table with 468161 rows in 1 partition to /tmp/__iruid_79210-kAgI1eR1oH4QJQVRZeGNP3\n",
      "2025-01-12 03:12:55.781 Hail: INFO: wrote table with 468161 rows in 1 partition to /tmp/__iruid_80142-K32NYyjyUln5D4trYwHwR8\n",
      "2025-01-12 03:14:23.807 Hail: INFO: wrote table with 464134 rows in 1 partition to /tmp/__iruid_81074-aKDba6fVw7By9DCBGXSVV1\n",
      "2025-01-12 03:15:38.536 Hail: INFO: wrote table with 464134 rows in 1 partition to /tmp/__iruid_82006-SuuethJwSLOcw2HoKhfpXB\n",
      "2025-01-12 03:16:52.849 Hail: INFO: wrote table with 464134 rows in 1 partition to /tmp/__iruid_82938-04m8mldkD7bQCgA7RnAJOU\n",
      "2025-01-12 03:18:08.826 Hail: INFO: wrote table with 468563 rows in 1 partition to /tmp/__iruid_83870-9RcFXRuVnT840moGgqXx5F\n",
      "2025-01-12 03:19:20.199 Hail: INFO: wrote table with 468563 rows in 1 partition to /tmp/__iruid_84802-2ZXgyZrO7pZDJsYUFbeUlG\n",
      "2025-01-12 03:20:31.675 Hail: INFO: wrote table with 468563 rows in 1 partition to /tmp/__iruid_85734-lJhY0YQnlUhnda8yTeFBAG\n",
      "[Stage 185:============================================>(139922 + 161) / 140126]\r"
     ]
    }
   ],
   "source": [
    "# estimated run time: 3hr\n",
    "# Define the phenotypes and ancestries for both quantitative and binary datasets\n",
    "quantitative_phenotypes = [\"Height\", \"DBP\", \"HDL\", \"TC\", \"RBC\", \"leukocyte\"]\n",
    "binary_phenotypes = [\"Asthma\", \"T2D\", \"Colorectal_Cancer\", \"Breast_Cancer\"]\n",
    "ancestries = [\"eur\", \"amr\", \"afr\"]\n",
    "\n",
    "# Initialize a dictionary to store allele frequencies\n",
    "allele_frequencies = {}\n",
    "\n",
    "# Process quantitative phenotypes\n",
    "for pheno in quantitative_phenotypes:\n",
    "    # Read the sumstats for the current phenotype (quantitative)\n",
    "    sumstats = hl.read_table(f\"{bucket}/hail_checkpoints/{pheno}_sumstats_checkpoint2.ht\")\n",
    "    \n",
    "    # Process each ancestry for the quantitative phenotypes\n",
    "    for anc in ancestries:\n",
    "        # Dynamically subset the MatrixTable based on ancestry\n",
    "        if anc == \"eur\":\n",
    "            subset_wgs = wgs_quant_eur.semi_join(sumstats)\n",
    "        elif anc == \"amr\":\n",
    "            subset_wgs = wgs_quant_amr.semi_join(sumstats)\n",
    "        elif anc == \"afr\":\n",
    "            subset_wgs = wgs_quant_afr.semi_join(sumstats)\n",
    "        \n",
    "        # Collect allele frequencies into a Python list\n",
    "        af_list = subset_wgs.allele_freq.collect()\n",
    "        \n",
    "        # Store the allele frequencies in the dictionary\n",
    "        key = f\"{pheno}_{anc}\"\n",
    "        allele_frequencies[key] = af_list\n",
    "\n",
    "# Process binary phenotypes\n",
    "for pheno in binary_phenotypes:\n",
    "    # Read the sumstats for the current phenotype (binary)\n",
    "    sumstats = hl.read_table(f\"{bucket}/hail_checkpoints/{pheno}_sumstats_checkpoint2.ht\")\n",
    "    \n",
    "    # Process each ancestry for the binary phenotypes\n",
    "    for anc in ancestries:\n",
    "        # Dynamically subset the MatrixTable based on ancestry\n",
    "        if anc == \"eur\":\n",
    "            subset_wgs = wgs_binary_eur.semi_join(sumstats)\n",
    "        elif anc == \"amr\":\n",
    "            subset_wgs = wgs_binary_amr.semi_join(sumstats)\n",
    "        elif anc == \"afr\":\n",
    "            subset_wgs = wgs_binary_afr.semi_join(sumstats)\n",
    "        \n",
    "        # Collect allele frequencies into a Python list\n",
    "        af_list = subset_wgs.allele_freq.collect()\n",
    "        \n",
    "        # Store the allele frequencies in the dictionary\n",
    "        key = f\"{pheno}_{anc}\"\n",
    "        allele_frequencies[key] = af_list"
   ]
  },
  {
   "cell_type": "code",
   "execution_count": 38,
   "metadata": {},
   "outputs": [
    {
     "data": {
      "image/png": "[encoded data removed]",
      "text/plain": [
       "<Figure size 2200x600 with 30 Axes>"
      ]
     },
     "metadata": {},
     "output_type": "display_data"
    }
   ],
   "source": [
    "# Rename some phenotypes\n",
    "phenotype_mapping = {\n",
    "    'leukocyte': 'Leukocyte',  \n",
    "    'Colorectal_Cancer': 'Colorectal Cancer',  \n",
    "    'Breast_Cancer': 'Breast Cancer',\n",
    "}\n",
    "\n",
    "# Create the figure and subplots with much wider and shorter dimensions\n",
    "fig, axes = plt.subplots(len(ancestries), len(quantitative_phenotypes) + len(binary_phenotypes), \n",
    "                         figsize=(len(quantitative_phenotypes) + len(binary_phenotypes) * 4, len(ancestries) * 2),  # Wider, shorter\n",
    "                         sharex=True, sharey='col')\n",
    "\n",
    "# Combine the two phenotype lists\n",
    "all_phenotypes = quantitative_phenotypes + binary_phenotypes\n",
    "\n",
    "# Loop through ancestries and phenotypes to plot histograms\n",
    "for j, anc in enumerate(ancestries):  # Iterate over ancestries in rows\n",
    "    for i, pheno in enumerate(all_phenotypes):  # Iterate over phenotypes in columns\n",
    "        key = f\"{pheno}_{anc}\"\n",
    "        data = allele_frequencies.get(key, [])\n",
    "        \n",
    "        # Plot the histogram with density (proportions) instead of raw count\n",
    "        axes[j, i].hist(\n",
    "            data, bins=100, alpha=0.7, edgecolor='black', linewidth=0.5,\n",
    "            color=['red', '#ff7f0e', 'slateblue'][j], density=True  # Normalize to get proportions\n",
    "        )\n",
    "        axes[j, i].set_xlim(0, 0.5)  # Set the limit for the MAF range\n",
    "        \n",
    "        # Set titles and labels\n",
    "        if j == 0:  # Only on the first row\n",
    "            # Use the mapped descriptive name for the phenotype if available\n",
    "            axes[j, i].set_title(phenotype_mapping.get(pheno, pheno), fontsize=18)  # Set phenotype title with the mapped label\n",
    "        \n",
    "        # Place ancestry label on the right side of each column\n",
    "        if i == len(all_phenotypes) - 1:\n",
    "            axes[j, i].text(1.05, 0.5, anc.upper(), ha='left', va='center', fontsize=20, transform=axes[j, i].transAxes)\n",
    "\n",
    "        # Set x-axis ticks\n",
    "        axes[j, i].set_xticks([x / 10 for x in range(6)])  # Create ticks from 0 to 0.5 with step 0.1\n",
    "        axes[j, i].set_xticklabels([f'{x/10:.1f}' for x in range(6)])  # Format ticks as 0.0, 0.1, ..., 0.5\n",
    "\n",
    "# Add overall x-axis label\n",
    "fig.supxlabel(\"MAF\", fontsize=20)\n",
    "\n",
    "# Add one shared y-axis label for the entire figure (and hide all individual y-axis labels)\n",
    "fig.text(-0.01, 0.5, \"Proportion\", ha='center', va='center', fontsize=20, rotation=90)\n",
    "\n",
    "# Remove all individual y-axis labels\n",
    "for ax in axes.flatten():\n",
    "    ax.set_ylabel('')  # Hide individual y-axis labels\n",
    "\n",
    "# Adjust layout to ensure proper spacing\n",
    "plt.tight_layout(rect=[0, 0, 1, 0.93])\n",
    "\n",
    "# Show the plot\n",
    "plt.show()"
   ]
  },
  {
   "cell_type": "code",
   "execution_count": null,
   "metadata": {
    "hidden": true
   },
   "outputs": [],
   "source": []
  }
 ],
 "metadata": {
  "kernelspec": {
   "display_name": "Python 3 (ipykernel)",
   "language": "python",
   "name": "python3"
  },
  "language_info": {
   "codemirror_mode": {
    "name": "ipython",
    "version": 3
   },
   "file_extension": ".py",
   "mimetype": "text/x-python",
   "name": "python",
   "nbconvert_exporter": "python",
   "pygments_lexer": "ipython3",
   "version": "3.10.9"
  },
  "toc": {
   "base_numbering": 1,
   "nav_menu": {},
   "number_sections": true,
   "sideBar": true,
   "skip_h1_title": false,
   "title_cell": "Table of Contents",
   "title_sidebar": "Contents",
   "toc_cell": false,
   "toc_position": {},
   "toc_section_display": true,
   "toc_window_display": false
  }
 },
 "nbformat": 4,
 "nbformat_minor": 2
}
