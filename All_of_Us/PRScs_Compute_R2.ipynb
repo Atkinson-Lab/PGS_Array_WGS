{
 "cells": [
  {
   "cell_type": "code",
   "execution_count": 26,
   "metadata": {},
   "outputs": [],
   "source": [
    "from datetime import datetime\n",
    "import os\n",
    "import statsmodels.api as sm\n",
    "import numpy as np\n",
    "import pandas as pd\n",
    "import seaborn as sns\n",
    "import math\n",
    "import matplotlib.pyplot as plt"
   ]
  },
  {
   "cell_type": "code",
   "execution_count": null,
   "metadata": {},
   "outputs": [],
   "source": [
    "DATASET = os.getenv('WORKSPACE_CDR')\n",
    "bucket = os.getenv('WORKSPACE_BUCKET')"
   ]
  },
  {
   "cell_type": "code",
   "execution_count": 3,
   "metadata": {},
   "outputs": [],
   "source": [
    "np.random.seed(123)"
   ]
  },
  {
   "cell_type": "markdown",
   "metadata": {
    "heading_collapsed": true
   },
   "source": [
    "## Array"
   ]
  },
  {
   "cell_type": "markdown",
   "metadata": {
    "heading_collapsed": true,
    "hidden": true
   },
   "source": [
    "### Continuous Phenotype R2"
   ]
  },
  {
   "cell_type": "code",
   "execution_count": 4,
   "metadata": {
    "hidden": true
   },
   "outputs": [],
   "source": [
    "Sample_all_quant = pd.read_csv(f\"{bucket}/Pheno/quant_all.tsv\",sep = \"\\t\", index_col=\"person_id\")\n",
    "Height_df = pd.read_csv(f\"{bucket}/Scores/Array/Height_PRScs.gz\",sep = \"\\t\", index_col=\"s\")\n",
    "DBP_df = pd.read_csv(f\"{bucket}/Scores/Array/DBP_PRScs.gz\",sep = \"\\t\", index_col=\"s\")\n",
    "HDL_df = pd.read_csv(f\"{bucket}/Scores/Array/HDL_PRScs.gz\",sep = \"\\t\", index_col=\"s\")\n",
    "TC_df = pd.read_csv(f\"{bucket}/Scores/Array/TC_PRScs.gz\",sep = \"\\t\", index_col=\"s\")\n",
    "RBC_df = pd.read_csv(f\"{bucket}/Scores/Array/RBC_PRScs.gz\",sep = \"\\t\", index_col=\"s\")\n",
    "leukocyte_df = pd.read_csv(f\"{bucket}/Scores/Array/leukocyte_PRScs.gz\",sep = \"\\t\", index_col=\"s\")"
   ]
  },
  {
   "cell_type": "code",
   "execution_count": 5,
   "metadata": {
    "hidden": true
   },
   "outputs": [],
   "source": [
    "def Compute_R2_quant(phenodf, pheno, anc):\n",
    "    import statsmodels.api as sm\n",
    "    \n",
    "    # Define predictors and phenotype\n",
    "    PHE = pheno\n",
    "    COVs = ['Age', 'is_sex_Male', 'is_sex_Female', 'PC1', 'PC2', 'PC3', 'PC4',\n",
    "            'PC5', 'PC6', 'PC7', 'PC8', 'PC9', 'PC10', 'PC11', 'PC12', 'PC13',\n",
    "            'PC14', 'PC15', 'PC16']\n",
    "    PGS = 'pgs'  # Assumes 'pgs' column contains polygenic scores\n",
    "\n",
    "    # Filter data for the specified ancestry and ensure phenotype is not NaN\n",
    "    phenodf_anc = phenodf.loc[\n",
    "        (Sample_all_quant[\"is_anc_pred_\" + anc] == 1) & (~phenodf[pheno].isna())\n",
    "    ]\n",
    "\n",
    "    # Add covariates\n",
    "    phenodf_anc_COVs = sm.add_constant(phenodf_anc[COVs].astype(\"float\"))\n",
    "    phenodf_anc_PGS = sm.add_constant(\n",
    "        phenodf_anc[COVs + [PGS]].astype(\"float\")\n",
    "    )\n",
    "    phenodf_anc_PHE = phenodf_anc[PHE].astype(\"float\")\n",
    "\n",
    "    # Fit null model (covariates only)\n",
    "    model0 = sm.OLS(phenodf_anc_PHE, phenodf_anc_COVs, missing='drop').fit()\n",
    "\n",
    "    # Fit model with covariates + PGS\n",
    "    model1 = sm.OLS(phenodf_anc_PHE, phenodf_anc_PGS, missing='drop').fit()\n",
    "\n",
    "    # Compute R2 difference\n",
    "    R2 = model1.rsquared - model0.rsquared\n",
    "\n",
    "    return R2"
   ]
  },
  {
   "cell_type": "code",
   "execution_count": 6,
   "metadata": {
    "code_folding": [],
    "hidden": true
   },
   "outputs": [],
   "source": [
    "def Make_df2plot(phenodf, pheno):\n",
    "    ancs = [\"eur\", \"amr\", \"afr\"]\n",
    "    df2plot = pd.DataFrame(index=range(0), columns=[\"pheno\", \"anc\", \"R2\"])\n",
    "    \n",
    "    for anc in ancs:\n",
    "        if pheno in [\"Height\", \"DBP\", \"HDL\", \"TC\", \"RBC\", \"leukocyte\"]:\n",
    "            R2 = Compute_R2_quant(phenodf, pheno, anc)\n",
    "        elif pheno in [\"T2D\", \"Asthma\", \"Breast_Cancer\", \"Colorectal_Cancer\"]:\n",
    "            R2 = Compute_R2_binary(phenodf, pheno, anc)\n",
    "        \n",
    "        df2plot_anc = pd.DataFrame({\n",
    "            \"pheno\": [pheno],\n",
    "            \"anc\": [anc],\n",
    "            \"R2\": [R2]\n",
    "        })\n",
    "        df2plot = pd.concat([df2plot, df2plot_anc], axis=0)\n",
    "\n",
    "    return df2plot"
   ]
  },
  {
   "cell_type": "code",
   "execution_count": 7,
   "metadata": {
    "hidden": true
   },
   "outputs": [],
   "source": [
    "df2plot_quant = pd.concat([Make_df2plot(Height_df, \"Height\"),\n",
    "                           Make_df2plot(DBP_df, \"DBP\"),\n",
    "                           Make_df2plot(HDL_df, \"HDL\"),\n",
    "                           Make_df2plot(TC_df, \"TC\"),\n",
    "                           Make_df2plot(RBC_df, \"RBC\"),\n",
    "                           Make_df2plot(leukocyte_df, \"leukocyte\")],\n",
    "                          axis = 0)"
   ]
  },
  {
   "cell_type": "code",
   "execution_count": 10,
   "metadata": {
    "hidden": true
   },
   "outputs": [],
   "source": [
    "# Rename the 'anc' column to 'Ancestry'\n",
    "df2plot_quant.rename(columns={'anc': 'Ancestry'}, inplace=True)\n",
    "\n",
    "# Change the values in the 'Ancestry' column\n",
    "df2plot_quant['Ancestry'] = df2plot_quant['Ancestry'].replace({'eur': 'EUR', 'amr': 'AMR', 'afr': 'AFR'})"
   ]
  },
  {
   "cell_type": "markdown",
   "metadata": {
    "hidden": true
   },
   "source": [
    "### Binary phenotype R2"
   ]
  },
  {
   "cell_type": "code",
   "execution_count": 27,
   "metadata": {
    "hidden": true
   },
   "outputs": [],
   "source": [
    "Sample_all_binary = pd.read_csv(f\"{bucket}/Pheno/binary_all.tsv\",sep = \"\\t\", index_col=\"person_id\")\n",
    "Asthma_df = pd.read_csv(f\"{bucket}/Scores/Array/Asthma_PRScs.gz\",sep = \"\\t\", index_col=\"s\")\n",
    "T2D_df = pd.read_csv(f\"{bucket}/Scores/Array/T2D_PRScs.gz\",sep = \"\\t\", index_col=\"s\")\n",
    "Colorectal_Cancer_df = pd.read_csv(f\"{bucket}/Scores/Array/Colorectal_Cancer_PRScs.gz\",sep = \"\\t\", index_col=\"s\")\n",
    "Breast_Cancer_df = pd.read_csv(f\"{bucket}/Scores/Array/Breast_Cancer_PRScs.gz\",sep = \"\\t\", index_col=\"s\")"
   ]
  },
  {
   "cell_type": "code",
   "execution_count": 28,
   "metadata": {
    "hidden": true
   },
   "outputs": [],
   "source": [
    "def Compute_R2_binary(phenodf, pheno, anc):\n",
    "    import statsmodels.api as sm\n",
    "    \n",
    "    # Define predictors and phenotype\n",
    "    PHE = pheno\n",
    "    COVs = ['Age', 'is_sex_Male', 'is_sex_Female', 'PC1', 'PC2', 'PC3', 'PC4',\n",
    "            'PC5', 'PC6', 'PC7', 'PC8', 'PC9', 'PC10', 'PC11', 'PC12', 'PC13',\n",
    "            'PC14', 'PC15', 'PC16']\n",
    "    PGS = 'pgs'  # Assumes 'pgs' column contains polygenic scores\n",
    "\n",
    "    # Filter data for the specified ancestry and ensure phenotype is not NaN\n",
    "    phenodf_anc = phenodf.loc[\n",
    "        (Sample_all_quant[\"is_anc_pred_\" + anc] == 1) & (~phenodf[pheno].isna())\n",
    "    ]\n",
    "\n",
    "    # Add covariates\n",
    "    phenodf_anc_COVs = sm.add_constant(phenodf_anc[COVs].astype(\"float\"))\n",
    "    phenodf_anc_PGS = sm.add_constant(\n",
    "        phenodf_anc[COVs + [PGS]].astype(\"float\")\n",
    "    )\n",
    "    phenodf_anc_PHE = phenodf_anc[PHE].astype(\"float\")\n",
    "\n",
    "    # Fit null model (covariates only)\n",
    "    model0 = sm.GLM(phenodf_anc_PHE, phenodf_anc_COVs, missing='drop', family=sm.families.Binomial()).fit(disp = 0)\n",
    "\n",
    "    # Fit model with covariates + PGS\n",
    "    model1 = sm.GLM(phenodf_anc_PHE, phenodf_anc_PGS, missing='drop', family=sm.families.Binomial()).fit(disp = 0)\n",
    "\n",
    "    # Compute R2 difference\n",
    "    CSR2 = 1 - math.exp( (2/model0.nobs) * (model0.llf - model1.llf)  )\n",
    "    R2 = CSR2/(1 - math.exp( (2/model0.nobs) * model0.llf) )\n",
    "\n",
    "    return R2"
   ]
  },
  {
   "cell_type": "code",
   "execution_count": 29,
   "metadata": {
    "hidden": true
   },
   "outputs": [],
   "source": [
    "df2plot_binary = pd.concat([Make_df2plot(Asthma_df, \"Asthma\"),\n",
    "                            Make_df2plot(T2D_df, \"T2D\"),\n",
    "                            Make_df2plot(Colorectal_Cancer_df, \"Colorectal_Cancer\"),\n",
    "                            Make_df2plot(Breast_Cancer_df, \"Breast_Cancer\")],\n",
    "                            axis = 0)"
   ]
  },
  {
   "cell_type": "code",
   "execution_count": 31,
   "metadata": {
    "hidden": true
   },
   "outputs": [],
   "source": [
    "# Rename the 'anc' column to 'Ancestry'\n",
    "df2plot_binary.rename(columns={'anc': 'Ancestry'}, inplace=True)\n",
    "\n",
    "# Change the values in the 'Ancestry' column\n",
    "df2plot_binary['Ancestry'] = df2plot_binary['Ancestry'].replace({'eur': 'EUR', 'amr': 'AMR', 'afr': 'AFR'})"
   ]
  },
  {
   "cell_type": "code",
   "execution_count": 33,
   "metadata": {
    "hidden": true
   },
   "outputs": [],
   "source": [
    "df2plot_quant.to_csv(f'{bucket}/R2/PRScs_array_quant.tsv', sep='\\t', index=False)\n",
    "df2plot_binary.to_csv(f'{bucket}/R2/PRScs_array_binary.tsv', sep='\\t', index=False)"
   ]
  },
  {
   "cell_type": "code",
   "execution_count": null,
   "metadata": {
    "hidden": true
   },
   "outputs": [],
   "source": []
  },
  {
   "cell_type": "markdown",
   "metadata": {},
   "source": [
    "## WGS"
   ]
  },
  {
   "cell_type": "markdown",
   "metadata": {},
   "source": [
    "### Continuous Phenotype R2"
   ]
  },
  {
   "cell_type": "code",
   "execution_count": 4,
   "metadata": {},
   "outputs": [],
   "source": [
    "Sample_all_quant = pd.read_csv(f\"{bucket}/Pheno/quant_all.tsv\",sep = \"\\t\", index_col=\"person_id\")\n",
    "Height_df = pd.read_csv(f\"{bucket}/Scores/WGS/Height_PRScs.gz\",sep = \"\\t\", index_col=\"s\")\n",
    "DBP_df = pd.read_csv(f\"{bucket}/Scores/WGS/DBP_PRScs.gz\",sep = \"\\t\", index_col=\"s\")\n",
    "HDL_df = pd.read_csv(f\"{bucket}/Scores/WGS/HDL_PRScs.gz\",sep = \"\\t\", index_col=\"s\")\n",
    "TC_df = pd.read_csv(f\"{bucket}/Scores/WGS/TC_PRScs.gz\",sep = \"\\t\", index_col=\"s\")\n",
    "RBC_df = pd.read_csv(f\"{bucket}/Scores/WGS/RBC_PRScs.gz\",sep = \"\\t\", index_col=\"s\")\n",
    "leukocyte_df = pd.read_csv(f\"{bucket}/Scores/WGS/leukocyte_PRScs.gz\",sep = \"\\t\", index_col=\"s\")"
   ]
  },
  {
   "cell_type": "code",
   "execution_count": 5,
   "metadata": {},
   "outputs": [],
   "source": [
    "def Compute_R2_quant(phenodf, pheno, anc):\n",
    "    import statsmodels.api as sm\n",
    "    \n",
    "    # Define predictors and phenotype\n",
    "    PHE = pheno\n",
    "    COVs = ['Age', 'is_sex_Male', 'is_sex_Female', 'PC1', 'PC2', 'PC3', 'PC4',\n",
    "            'PC5', 'PC6', 'PC7', 'PC8', 'PC9', 'PC10', 'PC11', 'PC12', 'PC13',\n",
    "            'PC14', 'PC15', 'PC16']\n",
    "    PGS = 'pgs'  # Assumes 'pgs' column contains polygenic scores\n",
    "\n",
    "    # Filter data for the specified ancestry and ensure phenotype is not NaN\n",
    "    phenodf_anc = phenodf.loc[\n",
    "        (Sample_all_quant[\"is_anc_pred_\" + anc] == 1) & (~phenodf[pheno].isna())\n",
    "    ]\n",
    "\n",
    "    # Add covariates\n",
    "    phenodf_anc_COVs = sm.add_constant(phenodf_anc[COVs].astype(\"float\"))\n",
    "    phenodf_anc_PGS = sm.add_constant(\n",
    "        phenodf_anc[COVs + [PGS]].astype(\"float\")\n",
    "    )\n",
    "    phenodf_anc_PHE = phenodf_anc[PHE].astype(\"float\")\n",
    "\n",
    "    # Fit null model (covariates only)\n",
    "    model0 = sm.OLS(phenodf_anc_PHE, phenodf_anc_COVs, missing='drop').fit()\n",
    "\n",
    "    # Fit model with covariates + PGS\n",
    "    model1 = sm.OLS(phenodf_anc_PHE, phenodf_anc_PGS, missing='drop').fit()\n",
    "\n",
    "    # Compute R2 difference\n",
    "    R2 = model1.rsquared - model0.rsquared\n",
    "\n",
    "    return R2"
   ]
  },
  {
   "cell_type": "code",
   "execution_count": 6,
   "metadata": {},
   "outputs": [],
   "source": [
    "def Make_df2plot(phenodf, pheno):\n",
    "    ancs = [\"eur\", \"amr\", \"afr\"]\n",
    "    df2plot = pd.DataFrame(index=range(0), columns=[\"pheno\", \"anc\", \"R2\"])\n",
    "    \n",
    "    for anc in ancs:\n",
    "        if pheno in [\"Height\", \"DBP\", \"HDL\", \"TC\", \"RBC\", \"leukocyte\"]:\n",
    "            R2 = Compute_R2_quant(phenodf, pheno, anc)\n",
    "        elif pheno in [\"T2D\", \"Asthma\", \"Breast_Cancer\", \"Colorectal_Cancer\"]:\n",
    "            R2 = Compute_R2_binary(phenodf, pheno, anc)\n",
    "        \n",
    "        df2plot_anc = pd.DataFrame({\n",
    "            \"pheno\": [pheno],\n",
    "            \"anc\": [anc],\n",
    "            \"R2\": [R2]\n",
    "        })\n",
    "        df2plot = pd.concat([df2plot, df2plot_anc], axis=0)\n",
    "\n",
    "    return df2plot"
   ]
  },
  {
   "cell_type": "code",
   "execution_count": 7,
   "metadata": {},
   "outputs": [],
   "source": [
    "df2plot_quant = pd.concat([Make_df2plot(Height_df, \"Height\"),\n",
    "                           Make_df2plot(DBP_df, \"DBP\"),\n",
    "                           Make_df2plot(HDL_df, \"HDL\"),\n",
    "                           Make_df2plot(TC_df, \"TC\"),\n",
    "                           Make_df2plot(RBC_df, \"RBC\"),\n",
    "                           Make_df2plot(leukocyte_df, \"leukocyte\")],\n",
    "                          axis = 0)"
   ]
  },
  {
   "cell_type": "code",
   "execution_count": 9,
   "metadata": {},
   "outputs": [],
   "source": [
    "# Rename the 'anc' column to 'Ancestry'\n",
    "df2plot_quant.rename(columns={'anc': 'Ancestry'}, inplace=True)\n",
    "\n",
    "# Change the values in the 'Ancestry' column\n",
    "df2plot_quant['Ancestry'] = df2plot_quant['Ancestry'].replace({'eur': 'EUR', 'amr': 'AMR', 'afr': 'AFR'})"
   ]
  },
  {
   "cell_type": "markdown",
   "metadata": {},
   "source": [
    "### Binary Phenotype R2"
   ]
  },
  {
   "cell_type": "code",
   "execution_count": 11,
   "metadata": {},
   "outputs": [],
   "source": [
    "Sample_all_binary = pd.read_csv(f\"{bucket}/Pheno/binary_all.tsv\",sep = \"\\t\", index_col=\"person_id\")\n",
    "Asthma_df = pd.read_csv(f\"{bucket}/Scores/WGS/Asthma_PRScs.gz\",sep = \"\\t\", index_col=\"s\")\n",
    "T2D_df = pd.read_csv(f\"{bucket}/Scores/WGS/T2D_PRScs.gz\",sep = \"\\t\", index_col=\"s\")\n",
    "Colorectal_Cancer_df = pd.read_csv(f\"{bucket}/Scores/WGS/Colorectal_Cancer_PRScs.gz\",sep = \"\\t\", index_col=\"s\")\n",
    "Breast_Cancer_df = pd.read_csv(f\"{bucket}/Scores/WGS/Breast_Cancer_PRScs.gz\",sep = \"\\t\", index_col=\"s\")"
   ]
  },
  {
   "cell_type": "code",
   "execution_count": 12,
   "metadata": {},
   "outputs": [],
   "source": [
    "def Compute_R2_binary(phenodf, pheno, anc):\n",
    "    import statsmodels.api as sm\n",
    "    \n",
    "    # Define predictors and phenotype\n",
    "    PHE = pheno\n",
    "    COVs = ['Age', 'is_sex_Male', 'is_sex_Female', 'PC1', 'PC2', 'PC3', 'PC4',\n",
    "            'PC5', 'PC6', 'PC7', 'PC8', 'PC9', 'PC10', 'PC11', 'PC12', 'PC13',\n",
    "            'PC14', 'PC15', 'PC16']\n",
    "    PGS = 'pgs'  # Assumes 'pgs' column contains polygenic scores\n",
    "\n",
    "    # Filter data for the specified ancestry and ensure phenotype is not NaN\n",
    "    phenodf_anc = phenodf.loc[\n",
    "        (Sample_all_quant[\"is_anc_pred_\" + anc] == 1) & (~phenodf[pheno].isna())\n",
    "    ]\n",
    "\n",
    "    # Add covariates\n",
    "    phenodf_anc_COVs = sm.add_constant(phenodf_anc[COVs].astype(\"float\"))\n",
    "    phenodf_anc_PGS = sm.add_constant(\n",
    "        phenodf_anc[COVs + [PGS]].astype(\"float\")\n",
    "    )\n",
    "    phenodf_anc_PHE = phenodf_anc[PHE].astype(\"float\")\n",
    "\n",
    "    # Fit null model (covariates only)\n",
    "    model0 = sm.GLM(phenodf_anc_PHE, phenodf_anc_COVs, missing='drop', family=sm.families.Binomial()).fit(disp = 0)\n",
    "\n",
    "    # Fit model with covariates + PGS\n",
    "    model1 = sm.GLM(phenodf_anc_PHE, phenodf_anc_PGS, missing='drop', family=sm.families.Binomial()).fit(disp = 0)\n",
    "\n",
    "    # Compute R2 difference\n",
    "    CSR2 = 1 - math.exp( (2/model0.nobs) * (model0.llf - model1.llf)  )\n",
    "    R2 = CSR2/(1 - math.exp( (2/model0.nobs) * model0.llf) )\n",
    "\n",
    "    return R2"
   ]
  },
  {
   "cell_type": "code",
   "execution_count": 13,
   "metadata": {},
   "outputs": [],
   "source": [
    "df2plot_binary = pd.concat([Make_df2plot(Asthma_df, \"Asthma\"),\n",
    "                            Make_df2plot(T2D_df, \"T2D\"),\n",
    "                            Make_df2plot(Colorectal_Cancer_df, \"Colorectal_Cancer\"),\n",
    "                            Make_df2plot(Breast_Cancer_df, \"Breast_Cancer\")],\n",
    "                            axis = 0)"
   ]
  },
  {
   "cell_type": "code",
   "execution_count": 15,
   "metadata": {},
   "outputs": [],
   "source": [
    "# Rename the 'anc' column to 'Ancestry'\n",
    "df2plot_binary.rename(columns={'anc': 'Ancestry'}, inplace=True)\n",
    "\n",
    "# Change the values in the 'Ancestry' column\n",
    "df2plot_binary['Ancestry'] = df2plot_binary['Ancestry'].replace({'eur': 'EUR', 'amr': 'AMR', 'afr': 'AFR'})"
   ]
  },
  {
   "cell_type": "code",
   "execution_count": 17,
   "metadata": {},
   "outputs": [],
   "source": [
    "df2plot_quant.to_csv(f'{bucket}/R2/PRScs_wgs_quant.tsv', sep='\\t', index=False)\n",
    "df2plot_binary.to_csv(f'{bucket}/R2/PRScs_wgs_binary.tsv', sep='\\t', index=False)"
   ]
  },
  {
   "cell_type": "code",
   "execution_count": null,
   "metadata": {},
   "outputs": [],
   "source": []
  },
  {
   "cell_type": "code",
   "execution_count": null,
   "metadata": {},
   "outputs": [],
   "source": []
  }
 ],
 "metadata": {
  "kernelspec": {
   "display_name": "Python 3 (ipykernel)",
   "language": "python",
   "name": "python3"
  },
  "language_info": {
   "codemirror_mode": {
    "name": "ipython",
    "version": 3
   },
   "file_extension": ".py",
   "mimetype": "text/x-python",
   "name": "python",
   "nbconvert_exporter": "python",
   "pygments_lexer": "ipython3",
   "version": "3.10.9"
  },
  "toc": {
   "base_numbering": 1,
   "nav_menu": {},
   "number_sections": false,
   "sideBar": true,
   "skip_h1_title": false,
   "title_cell": "Table of Contents",
   "title_sidebar": "Contents",
   "toc_cell": false,
   "toc_position": {},
   "toc_section_display": true,
   "toc_window_display": false
  }
 },
 "nbformat": 4,
 "nbformat_minor": 2
}
