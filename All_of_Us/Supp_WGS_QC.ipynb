{
 "cells": [
  {
   "cell_type": "markdown",
   "metadata": {},
   "source": [
    "Not on all WGS variants, only the union of clumped variants in traits.\n",
    "\n",
    "See xxxx for all WGS variants QC."
   ]
  },
  {
   "cell_type": "code",
   "execution_count": null,
   "metadata": {},
   "outputs": [],
   "source": [
    "## import packages\n",
    "from datetime import datetime\n",
    "import os\n",
    "import pandas as pd\n",
    "import numpy as np\n",
    "import random\n",
    "from itertools import chain\n",
    "import hail as hl\n",
    "from hail.linalg import BlockMatrix\n",
    "import statsmodels.api as sm"
   ]
  },
  {
   "cell_type": "code",
   "execution_count": 2,
   "metadata": {},
   "outputs": [],
   "source": [
    "DATASET = os.getenv('WORKSPACE_CDR')\n",
    "bucket = os.getenv('WORKSPACE_BUCKET')"
   ]
  },
  {
   "cell_type": "code",
   "execution_count": 3,
   "metadata": {},
   "outputs": [
    {
     "name": "stderr",
     "output_type": "stream",
     "text": [
      "/opt/conda/lib/python3.10/site-packages/hail/context.py:352: UserWarning:\n",
      "\n",
      "Using hl.init with a default_reference argument is deprecated. To set a default reference genome after initializing hail, call `hl.default_reference` with an argument to set the default reference genome.\n",
      "\n",
      "/opt/conda/lib/python3.10/site-packages/hailtop/aiocloud/aiogoogle/user_config.py:43: UserWarning:\n",
      "\n",
      "Reading spark-defaults.conf to determine GCS requester pays configuration. This is deprecated. Please use `hailctl config set gcs_requester_pays/project` and `hailctl config set gcs_requester_pays/buckets`.\n",
      "\n",
      "Setting default log level to \"WARN\".\n",
      "To adjust logging level use sc.setLogLevel(newLevel). For SparkR, use setLogLevel(newLevel).\n",
      "Running on Apache Spark version 3.3.0\n",
      "SparkUI available at http://all-of-us-11150-m.us-central1-f.c.terra-vpc-sc-fd39b54c.internal:34015\n",
      "Welcome to\n",
      "     __  __     <>__\n",
      "    / /_/ /__  __/ /\n",
      "   / __  / _ `/ / /\n",
      "  /_/ /_/\\_,_/_/_/   version 0.2.130.post1-c69cd67afb8b\n",
      "LOGGING: writing to /home/jupyter/workspaces/prswithwgsvsarraydata/hail-20241029-0431-0.2.130.post1-c69cd67afb8b.log\n"
     ]
    }
   ],
   "source": [
    "# set up hail\n",
    "hl.init(default_reference = \"GRCh38\")"
   ]
  },
  {
   "cell_type": "code",
   "execution_count": 4,
   "metadata": {},
   "outputs": [
    {
     "data": {
      "text/plain": [
       "(702574937, 98590)"
      ]
     },
     "execution_count": 4,
     "metadata": {},
     "output_type": "execute_result"
    }
   ],
   "source": [
    "# read raw WGS mt\n",
    "mt_wgs_path = os.getenv(\"WGS_HAIL_STORAGE_PATH\")\n",
    "mt_wgs = hl.read_matrix_table(mt_wgs_path)\n",
    "mt_wgs.count()"
   ]
  },
  {
   "cell_type": "code",
   "execution_count": 5,
   "metadata": {},
   "outputs": [
    {
     "name": "stdout",
     "output_type": "stream",
     "text": [
      "8996707 WGS variants passing QC\n",
      "95562 samples passing QC\n"
     ]
    }
   ],
   "source": [
    "# read QC'd variants\n",
    "var_wgs = hl.read_table(f'{bucket}/WGSData/WGS_Vars_QCed.ht')\n",
    "var_wgs = var_wgs.key_by(\"locus\")\n",
    "print(f'{var_wgs.count()} WGS variants passing QC') \n",
    "\n",
    "# read QC'd samples\n",
    "sample_inter = hl.read_table(f'{bucket}/hail_checkpoints/sample_inter.ht')\n",
    "sample_inter = sample_inter.key_by(sample_inter.person_id)\n",
    "print(f'{sample_inter.count()} samples passing QC')"
   ]
  },
  {
   "cell_type": "code",
   "execution_count": 6,
   "metadata": {},
   "outputs": [
    {
     "name": "stdout",
     "output_type": "stream",
     "text": [
      "union_table row count: 2156896\n"
     ]
    }
   ],
   "source": [
    "# read union clumped variants\n",
    "union_table = hl.read_table(f'{bucket}/hail_checkpoints/combined_sumstats_union.ht')\n",
    "\n",
    "union_table_count = union_table.count()\n",
    "print(f\"union_table row count: {union_table_count}\")"
   ]
  },
  {
   "cell_type": "code",
   "execution_count": null,
   "metadata": {},
   "outputs": [],
   "source": [
    "# subset to QC'd \"clumped variants\" and samples\n",
    "mt_wgs = mt_wgs.semi_join_rows(union_table) #this should already QC'd\n",
    "mt_wgs = mt_wgs.semi_join_cols(sample_inter)"
   ]
  },
  {
   "cell_type": "code",
   "execution_count": null,
   "metadata": {},
   "outputs": [],
   "source": [
    "# retrieve relavent fields\n",
    "mt_wgs = mt_wgs.select_entries(GT = mt_wgs.GT.n_alt_alleles())\n",
    "mt_wgs = mt_wgs.select_rows(rsid = mt_wgs.rsid)"
   ]
  },
  {
   "cell_type": "code",
   "execution_count": 9,
   "metadata": {},
   "outputs": [],
   "source": [
    "###### 20 workers\n",
    "start = datetime.now() "
   ]
  },
  {
   "cell_type": "code",
   "execution_count": 10,
   "metadata": {},
   "outputs": [
    {
     "name": "stderr",
     "output_type": "stream",
     "text": [
      "2024-10-29 04:33:41.184 Hail: INFO: wrote table with 2156896 rows in 5 partitions to /tmp/__iruid_325-PK6HFfpLz4Yy7PFGeMHOMK\n",
      "2024-10-29 07:08:20.106 Hail: INFO: wrote matrix table with 2156896 rows and 95562 columns in 140126 partitions to gs://fc-secure-9afe7562-2fad-4781-ab60-03528a626c19/WGSData/WGS_GT_QCed_clumpedUnion.mt\n"
     ]
    }
   ],
   "source": [
    "# save the WGS MT with QC'ed union clumped variants and samples\n",
    "mt_wgs.write(f\"{bucket}/WGSData/WGS_GT_QCed_clumpedUnion.mt\")"
   ]
  },
  {
   "cell_type": "code",
   "execution_count": 11,
   "metadata": {},
   "outputs": [
    {
     "data": {
      "text/plain": [
       "'2:35:04.927608'"
      ]
     },
     "execution_count": 11,
     "metadata": {},
     "output_type": "execute_result"
    }
   ],
   "source": [
    "stop = datetime.now()\n",
    "str(stop-start)"
   ]
  },
  {
   "cell_type": "code",
   "execution_count": null,
   "metadata": {},
   "outputs": [],
   "source": []
  },
  {
   "cell_type": "code",
   "execution_count": 14,
   "metadata": {},
   "outputs": [
    {
     "data": {
      "text/plain": [
       "(2156896, 95562)"
      ]
     },
     "execution_count": 14,
     "metadata": {},
     "output_type": "execute_result"
    }
   ],
   "source": [
    "wgs_mt.count()"
   ]
  },
  {
   "cell_type": "code",
   "execution_count": null,
   "metadata": {},
   "outputs": [],
   "source": []
  }
 ],
 "metadata": {
  "kernelspec": {
   "display_name": "Python 3 (ipykernel)",
   "language": "python",
   "name": "python3"
  },
  "language_info": {
   "codemirror_mode": {
    "name": "ipython",
    "version": 3
   },
   "file_extension": ".py",
   "mimetype": "text/x-python",
   "name": "python",
   "nbconvert_exporter": "python",
   "pygments_lexer": "ipython3",
   "version": "3.10.9"
  },
  "toc": {
   "base_numbering": 1,
   "nav_menu": {},
   "number_sections": true,
   "sideBar": true,
   "skip_h1_title": false,
   "title_cell": "Table of Contents",
   "title_sidebar": "Contents",
   "toc_cell": false,
   "toc_position": {},
   "toc_section_display": true,
   "toc_window_display": false
  }
 },
 "nbformat": 4,
 "nbformat_minor": 2
}
