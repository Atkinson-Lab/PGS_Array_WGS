{
 "cells": [
  {
   "cell_type": "code",
   "execution_count": 1,
   "metadata": {},
   "outputs": [],
   "source": [
    "## import packages\n",
    "from datetime import datetime\n",
    "import os\n",
    "import pandas as pd\n",
    "import numpy as np\n",
    "import seaborn as sns\n",
    "import matplotlib.pyplot as plt"
   ]
  },
  {
   "cell_type": "code",
   "execution_count": 2,
   "metadata": {},
   "outputs": [
    {
     "data": {
      "text/html": [
       "    <style>\n",
       "        .bk-notebook-logo {\n",
       "            display: block;\n",
       "            width: 20px;\n",
       "            height: 20px;\n",
       "            background-image: url(data:image/png;base64,iVBORw0KGgoAAAANSUhEUgAAABQAAAAUCAYAAACNiR0NAAAABHNCSVQICAgIfAhkiAAAAAlwSFlzAAALEgAACxIB0t1+/AAAABx0RVh0U29mdHdhcmUAQWRvYmUgRmlyZXdvcmtzIENTNui8sowAAAOkSURBVDiNjZRtaJVlGMd/1/08zzln5zjP1LWcU9N0NkN8m2CYjpgQYQXqSs0I84OLIC0hkEKoPtiH3gmKoiJDU7QpLgoLjLIQCpEsNJ1vqUOdO7ppbuec5+V+rj4ctwzd8IIbbi6u+8f1539dt3A78eXC7QizUF7gyV1fD1Yqg4JWz84yffhm0qkFqBogB9rM8tZdtwVsPUhWhGcFJngGeWrPzHm5oaMmkfEg1usvLFyc8jLRqDOMru7AyC8saQr7GG7f5fvDeH7Ej8CM66nIF+8yngt6HWaKh7k49Soy9nXurCi1o3qUbS3zWfrYeQDTB/Qj6kX6Ybhw4B+bOYoLKCC9H3Nu/leUTZ1JdRWkkn2ldcCamzrcf47KKXdAJllSlxAOkRgyHsGC/zRday5Qld9DyoM4/q/rUoy/CXh3jzOu3bHUVZeU+DEn8FInkPBFlu3+nW3Nw0mk6vCDiWg8CeJaxEwuHS3+z5RgY+YBR6V1Z1nxSOfoaPa4LASWxxdNp+VWTk7+4vzaou8v8PN+xo+KY2xsw6une2frhw05CTYOmQvsEhjhWjn0bmXPjpE1+kplmmkP3suftwTubK9Vq22qKmrBhpY4jvd5afdRA3wGjFAgcnTK2s4hY0/GPNIb0nErGMCRxWOOX64Z8RAC4oCXdklmEvcL8o0BfkNK4lUg9HTl+oPlQxdNo3Mg4Nv175e/1LDGzZen30MEjRUtmXSfiTVu1kK8W4txyV6BMKlbgk3lMwYCiusNy9fVfvvwMxv8Ynl6vxoByANLTWplvuj/nF9m2+PDtt1eiHPBr1oIfhCChQMBw6Aw0UulqTKZdfVvfG7VcfIqLG9bcldL/+pdWTLxLUy8Qq38heUIjh4XlzZxzQm19lLFlr8vdQ97rjZVOLf8nclzckbcD4wxXMidpX30sFd37Fv/GtwwhzhxGVAprjbg0gCAEeIgwCZyTV2Z1REEW8O4py0wsjeloKoMr6iCY6dP92H6Vw/oTyICIthibxjm/DfN9lVz8IqtqKYLUXfoKVMVQVVJOElGjrnnUt9T9wbgp8AyYKaGlqingHZU/uG2NTZSVqwHQTWkx9hxjkpWDaCg6Ckj5qebgBVbT3V3NNXMSiWSDdGV3hrtzla7J+duwPOToIg42ChPQOQjspnSlp1V+Gjdged7+8UN5CRAV7a5EdFNwCjEaBR27b3W890TE7g24NAP/mMDXRWrGoFPQI9ls/MWO2dWFAar/xcOIImbbpA3zgAAAABJRU5ErkJggg==);\n",
       "        }\n",
       "    </style>\n",
       "    <div>\n",
       "        <a href=\"https://bokeh.org\" target=\"_blank\" class=\"bk-notebook-logo\"></a>\n",
       "        <span id=\"add2be22-fea3-490b-b42f-1b6136ebd894\">Loading BokehJS ...</span>\n",
       "    </div>\n"
      ]
     },
     "metadata": {},
     "output_type": "display_data"
    },
    {
     "data": {
      "application/javascript": [
       "'use strict';\n",
       "(function(root) {\n",
       "  function now() {\n",
       "    return new Date();\n",
       "  }\n",
       "\n",
       "  const force = true;\n",
       "\n",
       "  if (typeof root._bokeh_onload_callbacks === \"undefined\" || force === true) {\n",
       "    root._bokeh_onload_callbacks = [];\n",
       "    root._bokeh_is_loading = undefined;\n",
       "  }\n",
       "\n",
       "const JS_MIME_TYPE = 'application/javascript';\n",
       "  const HTML_MIME_TYPE = 'text/html';\n",
       "  const EXEC_MIME_TYPE = 'application/vnd.bokehjs_exec.v0+json';\n",
       "  const CLASS_NAME = 'output_bokeh rendered_html';\n",
       "\n",
       "  /**\n",
       "   * Render data to the DOM node\n",
       "   */\n",
       "  function render(props, node) {\n",
       "    const script = document.createElement(\"script\");\n",
       "    node.appendChild(script);\n",
       "  }\n",
       "\n",
       "  /**\n",
       "   * Handle when an output is cleared or removed\n",
       "   */\n",
       "  function handleClearOutput(event, handle) {\n",
       "    function drop(id) {\n",
       "      const view = Bokeh.index.get_by_id(id)\n",
       "      if (view != null) {\n",
       "        view.model.document.clear()\n",
       "        Bokeh.index.delete(view)\n",
       "      }\n",
       "    }\n",
       "\n",
       "    const cell = handle.cell;\n",
       "\n",
       "    const id = cell.output_area._bokeh_element_id;\n",
       "    const server_id = cell.output_area._bokeh_server_id;\n",
       "\n",
       "    // Clean up Bokeh references\n",
       "    if (id != null) {\n",
       "      drop(id)\n",
       "    }\n",
       "\n",
       "    if (server_id !== undefined) {\n",
       "      // Clean up Bokeh references\n",
       "      const cmd_clean = \"from bokeh.io.state import curstate; print(curstate().uuid_to_server['\" + server_id + \"'].get_sessions()[0].document.roots[0]._id)\";\n",
       "      cell.notebook.kernel.execute(cmd_clean, {\n",
       "        iopub: {\n",
       "          output: function(msg) {\n",
       "            const id = msg.content.text.trim()\n",
       "            drop(id)\n",
       "          }\n",
       "        }\n",
       "      });\n",
       "      // Destroy server and session\n",
       "      const cmd_destroy = \"import bokeh.io.notebook as ion; ion.destroy_server('\" + server_id + \"')\";\n",
       "      cell.notebook.kernel.execute(cmd_destroy);\n",
       "    }\n",
       "  }\n",
       "\n",
       "  /**\n",
       "   * Handle when a new output is added\n",
       "   */\n",
       "  function handleAddOutput(event, handle) {\n",
       "    const output_area = handle.output_area;\n",
       "    const output = handle.output;\n",
       "\n",
       "    // limit handleAddOutput to display_data with EXEC_MIME_TYPE content only\n",
       "    if ((output.output_type != \"display_data\") || (!Object.prototype.hasOwnProperty.call(output.data, EXEC_MIME_TYPE))) {\n",
       "      return\n",
       "    }\n",
       "\n",
       "    const toinsert = output_area.element.find(\".\" + CLASS_NAME.split(' ')[0]);\n",
       "\n",
       "    if (output.metadata[EXEC_MIME_TYPE][\"id\"] !== undefined) {\n",
       "      toinsert[toinsert.length - 1].firstChild.textContent = output.data[JS_MIME_TYPE];\n",
       "      // store reference to embed id on output_area\n",
       "      output_area._bokeh_element_id = output.metadata[EXEC_MIME_TYPE][\"id\"];\n",
       "    }\n",
       "    if (output.metadata[EXEC_MIME_TYPE][\"server_id\"] !== undefined) {\n",
       "      const bk_div = document.createElement(\"div\");\n",
       "      bk_div.innerHTML = output.data[HTML_MIME_TYPE];\n",
       "      const script_attrs = bk_div.children[0].attributes;\n",
       "      for (let i = 0; i < script_attrs.length; i++) {\n",
       "        toinsert[toinsert.length - 1].firstChild.setAttribute(script_attrs[i].name, script_attrs[i].value);\n",
       "        toinsert[toinsert.length - 1].firstChild.textContent = bk_div.children[0].textContent\n",
       "      }\n",
       "      // store reference to server id on output_area\n",
       "      output_area._bokeh_server_id = output.metadata[EXEC_MIME_TYPE][\"server_id\"];\n",
       "    }\n",
       "  }\n",
       "\n",
       "  function register_renderer(events, OutputArea) {\n",
       "\n",
       "    function append_mime(data, metadata, element) {\n",
       "      // create a DOM node to render to\n",
       "      const toinsert = this.create_output_subarea(\n",
       "        metadata,\n",
       "        CLASS_NAME,\n",
       "        EXEC_MIME_TYPE\n",
       "      );\n",
       "      this.keyboard_manager.register_events(toinsert);\n",
       "      // Render to node\n",
       "      const props = {data: data, metadata: metadata[EXEC_MIME_TYPE]};\n",
       "      render(props, toinsert[toinsert.length - 1]);\n",
       "      element.append(toinsert);\n",
       "      return toinsert\n",
       "    }\n",
       "\n",
       "    /* Handle when an output is cleared or removed */\n",
       "    events.on('clear_output.CodeCell', handleClearOutput);\n",
       "    events.on('delete.Cell', handleClearOutput);\n",
       "\n",
       "    /* Handle when a new output is added */\n",
       "    events.on('output_added.OutputArea', handleAddOutput);\n",
       "\n",
       "    /**\n",
       "     * Register the mime type and append_mime function with output_area\n",
       "     */\n",
       "    OutputArea.prototype.register_mime_type(EXEC_MIME_TYPE, append_mime, {\n",
       "      /* Is output safe? */\n",
       "      safe: true,\n",
       "      /* Index of renderer in `output_area.display_order` */\n",
       "      index: 0\n",
       "    });\n",
       "  }\n",
       "\n",
       "  // register the mime type if in Jupyter Notebook environment and previously unregistered\n",
       "  if (root.Jupyter !== undefined) {\n",
       "    const events = require('base/js/events');\n",
       "    const OutputArea = require('notebook/js/outputarea').OutputArea;\n",
       "\n",
       "    if (OutputArea.prototype.mime_types().indexOf(EXEC_MIME_TYPE) == -1) {\n",
       "      register_renderer(events, OutputArea);\n",
       "    }\n",
       "  }\n",
       "  if (typeof (root._bokeh_timeout) === \"undefined\" || force === true) {\n",
       "    root._bokeh_timeout = Date.now() + 5000;\n",
       "    root._bokeh_failed_load = false;\n",
       "  }\n",
       "\n",
       "  const NB_LOAD_WARNING = {'data': {'text/html':\n",
       "     \"<div style='background-color: #fdd'>\\n\"+\n",
       "     \"<p>\\n\"+\n",
       "     \"BokehJS does not appear to have successfully loaded. If loading BokehJS from CDN, this \\n\"+\n",
       "     \"may be due to a slow or bad network connection. Possible fixes:\\n\"+\n",
       "     \"</p>\\n\"+\n",
       "     \"<ul>\\n\"+\n",
       "     \"<li>re-rerun `output_notebook()` to attempt to load from CDN again, or</li>\\n\"+\n",
       "     \"<li>use INLINE resources instead, as so:</li>\\n\"+\n",
       "     \"</ul>\\n\"+\n",
       "     \"<code>\\n\"+\n",
       "     \"from bokeh.resources import INLINE\\n\"+\n",
       "     \"output_notebook(resources=INLINE)\\n\"+\n",
       "     \"</code>\\n\"+\n",
       "     \"</div>\"}};\n",
       "\n",
       "  function display_loaded(error = null) {\n",
       "    const el = document.getElementById(\"add2be22-fea3-490b-b42f-1b6136ebd894\");\n",
       "    if (el != null) {\n",
       "      const html = (() => {\n",
       "        if (typeof root.Bokeh === \"undefined\") {\n",
       "          if (error == null) {\n",
       "            return \"BokehJS is loading ...\";\n",
       "          } else {\n",
       "            return \"BokehJS failed to load.\";\n",
       "          }\n",
       "        } else {\n",
       "          const prefix = `BokehJS ${root.Bokeh.version}`;\n",
       "          if (error == null) {\n",
       "            return `${prefix} successfully loaded.`;\n",
       "          } else {\n",
       "            return `${prefix} <b>encountered errors</b> while loading and may not function as expected.`;\n",
       "          }\n",
       "        }\n",
       "      })();\n",
       "      el.innerHTML = html;\n",
       "\n",
       "      if (error != null) {\n",
       "        const wrapper = document.createElement(\"div\");\n",
       "        wrapper.style.overflow = \"auto\";\n",
       "        wrapper.style.height = \"5em\";\n",
       "        wrapper.style.resize = \"vertical\";\n",
       "        const content = document.createElement(\"div\");\n",
       "        content.style.fontFamily = \"monospace\";\n",
       "        content.style.whiteSpace = \"pre-wrap\";\n",
       "        content.style.backgroundColor = \"rgb(255, 221, 221)\";\n",
       "        content.textContent = error.stack ?? error.toString();\n",
       "        wrapper.append(content);\n",
       "        el.append(wrapper);\n",
       "      }\n",
       "    } else if (Date.now() < root._bokeh_timeout) {\n",
       "      setTimeout(() => display_loaded(error), 100);\n",
       "    }\n",
       "  }\n",
       "\n",
       "  function run_callbacks() {\n",
       "    try {\n",
       "      root._bokeh_onload_callbacks.forEach(function(callback) {\n",
       "        if (callback != null)\n",
       "          callback();\n",
       "      });\n",
       "    } finally {\n",
       "      delete root._bokeh_onload_callbacks\n",
       "    }\n",
       "    console.debug(\"Bokeh: all callbacks have finished\");\n",
       "  }\n",
       "\n",
       "  function load_libs(css_urls, js_urls, callback) {\n",
       "    if (css_urls == null) css_urls = [];\n",
       "    if (js_urls == null) js_urls = [];\n",
       "\n",
       "    root._bokeh_onload_callbacks.push(callback);\n",
       "    if (root._bokeh_is_loading > 0) {\n",
       "      console.debug(\"Bokeh: BokehJS is being loaded, scheduling callback at\", now());\n",
       "      return null;\n",
       "    }\n",
       "    if (js_urls == null || js_urls.length === 0) {\n",
       "      run_callbacks();\n",
       "      return null;\n",
       "    }\n",
       "    console.debug(\"Bokeh: BokehJS not loaded, scheduling load and callback at\", now());\n",
       "    root._bokeh_is_loading = css_urls.length + js_urls.length;\n",
       "\n",
       "    function on_load() {\n",
       "      root._bokeh_is_loading--;\n",
       "      if (root._bokeh_is_loading === 0) {\n",
       "        console.debug(\"Bokeh: all BokehJS libraries/stylesheets loaded\");\n",
       "        run_callbacks()\n",
       "      }\n",
       "    }\n",
       "\n",
       "    function on_error(url) {\n",
       "      console.error(\"failed to load \" + url);\n",
       "    }\n",
       "\n",
       "    for (let i = 0; i < css_urls.length; i++) {\n",
       "      const url = css_urls[i];\n",
       "      const element = document.createElement(\"link\");\n",
       "      element.onload = on_load;\n",
       "      element.onerror = on_error.bind(null, url);\n",
       "      element.rel = \"stylesheet\";\n",
       "      element.type = \"text/css\";\n",
       "      element.href = url;\n",
       "      console.debug(\"Bokeh: injecting link tag for BokehJS stylesheet: \", url);\n",
       "      document.body.appendChild(element);\n",
       "    }\n",
       "\n",
       "    for (let i = 0; i < js_urls.length; i++) {\n",
       "      const url = js_urls[i];\n",
       "      const element = document.createElement('script');\n",
       "      element.onload = on_load;\n",
       "      element.onerror = on_error.bind(null, url);\n",
       "      element.async = false;\n",
       "      element.src = url;\n",
       "      console.debug(\"Bokeh: injecting script tag for BokehJS library: \", url);\n",
       "      document.head.appendChild(element);\n",
       "    }\n",
       "  };\n",
       "\n",
       "  function inject_raw_css(css) {\n",
       "    const element = document.createElement(\"style\");\n",
       "    element.appendChild(document.createTextNode(css));\n",
       "    document.body.appendChild(element);\n",
       "  }\n",
       "\n",
       "  const js_urls = [\"https://cdn.bokeh.org/bokeh/release/bokeh-3.4.1.min.js\", \"https://cdn.bokeh.org/bokeh/release/bokeh-gl-3.4.1.min.js\", \"https://cdn.bokeh.org/bokeh/release/bokeh-widgets-3.4.1.min.js\", \"https://cdn.bokeh.org/bokeh/release/bokeh-tables-3.4.1.min.js\", \"https://cdn.bokeh.org/bokeh/release/bokeh-mathjax-3.4.1.min.js\"];\n",
       "  const css_urls = [];\n",
       "\n",
       "  const inline_js = [    function(Bokeh) {\n",
       "      Bokeh.set_log_level(\"info\");\n",
       "    },\n",
       "function(Bokeh) {\n",
       "    }\n",
       "  ];\n",
       "\n",
       "  function run_inline_js() {\n",
       "    if (root.Bokeh !== undefined || force === true) {\n",
       "      try {\n",
       "            for (let i = 0; i < inline_js.length; i++) {\n",
       "      inline_js[i].call(root, root.Bokeh);\n",
       "    }\n",
       "\n",
       "      } catch (error) {display_loaded(error);throw error;\n",
       "      }if (force === true) {\n",
       "        display_loaded();\n",
       "      }} else if (Date.now() < root._bokeh_timeout) {\n",
       "      setTimeout(run_inline_js, 100);\n",
       "    } else if (!root._bokeh_failed_load) {\n",
       "      console.log(\"Bokeh: BokehJS failed to load within specified timeout.\");\n",
       "      root._bokeh_failed_load = true;\n",
       "    } else if (force !== true) {\n",
       "      const cell = $(document.getElementById(\"add2be22-fea3-490b-b42f-1b6136ebd894\")).parents('.cell').data().cell;\n",
       "      cell.output_area.append_execute_result(NB_LOAD_WARNING)\n",
       "    }\n",
       "  }\n",
       "\n",
       "  if (root._bokeh_is_loading === 0) {\n",
       "    console.debug(\"Bokeh: BokehJS loaded, going straight to plotting\");\n",
       "    run_inline_js();\n",
       "  } else {\n",
       "    load_libs(css_urls, js_urls, function() {\n",
       "      console.debug(\"Bokeh: BokehJS plotting callback run at\", now());\n",
       "      run_inline_js();\n",
       "    });\n",
       "  }\n",
       "}(window));"
      ],
      "application/vnd.bokehjs_load.v0+json": "'use strict';\n(function(root) {\n  function now() {\n    return new Date();\n  }\n\n  const force = true;\n\n  if (typeof root._bokeh_onload_callbacks === \"undefined\" || force === true) {\n    root._bokeh_onload_callbacks = [];\n    root._bokeh_is_loading = undefined;\n  }\n\n\n  if (typeof (root._bokeh_timeout) === \"undefined\" || force === true) {\n    root._bokeh_timeout = Date.now() + 5000;\n    root._bokeh_failed_load = false;\n  }\n\n  const NB_LOAD_WARNING = {'data': {'text/html':\n     \"<div style='background-color: #fdd'>\\n\"+\n     \"<p>\\n\"+\n     \"BokehJS does not appear to have successfully loaded. If loading BokehJS from CDN, this \\n\"+\n     \"may be due to a slow or bad network connection. Possible fixes:\\n\"+\n     \"</p>\\n\"+\n     \"<ul>\\n\"+\n     \"<li>re-rerun `output_notebook()` to attempt to load from CDN again, or</li>\\n\"+\n     \"<li>use INLINE resources instead, as so:</li>\\n\"+\n     \"</ul>\\n\"+\n     \"<code>\\n\"+\n     \"from bokeh.resources import INLINE\\n\"+\n     \"output_notebook(resources=INLINE)\\n\"+\n     \"</code>\\n\"+\n     \"</div>\"}};\n\n  function display_loaded(error = null) {\n    const el = document.getElementById(\"add2be22-fea3-490b-b42f-1b6136ebd894\");\n    if (el != null) {\n      const html = (() => {\n        if (typeof root.Bokeh === \"undefined\") {\n          if (error == null) {\n            return \"BokehJS is loading ...\";\n          } else {\n            return \"BokehJS failed to load.\";\n          }\n        } else {\n          const prefix = `BokehJS ${root.Bokeh.version}`;\n          if (error == null) {\n            return `${prefix} successfully loaded.`;\n          } else {\n            return `${prefix} <b>encountered errors</b> while loading and may not function as expected.`;\n          }\n        }\n      })();\n      el.innerHTML = html;\n\n      if (error != null) {\n        const wrapper = document.createElement(\"div\");\n        wrapper.style.overflow = \"auto\";\n        wrapper.style.height = \"5em\";\n        wrapper.style.resize = \"vertical\";\n        const content = document.createElement(\"div\");\n        content.style.fontFamily = \"monospace\";\n        content.style.whiteSpace = \"pre-wrap\";\n        content.style.backgroundColor = \"rgb(255, 221, 221)\";\n        content.textContent = error.stack ?? error.toString();\n        wrapper.append(content);\n        el.append(wrapper);\n      }\n    } else if (Date.now() < root._bokeh_timeout) {\n      setTimeout(() => display_loaded(error), 100);\n    }\n  }\n\n  function run_callbacks() {\n    try {\n      root._bokeh_onload_callbacks.forEach(function(callback) {\n        if (callback != null)\n          callback();\n      });\n    } finally {\n      delete root._bokeh_onload_callbacks\n    }\n    console.debug(\"Bokeh: all callbacks have finished\");\n  }\n\n  function load_libs(css_urls, js_urls, callback) {\n    if (css_urls == null) css_urls = [];\n    if (js_urls == null) js_urls = [];\n\n    root._bokeh_onload_callbacks.push(callback);\n    if (root._bokeh_is_loading > 0) {\n      console.debug(\"Bokeh: BokehJS is being loaded, scheduling callback at\", now());\n      return null;\n    }\n    if (js_urls == null || js_urls.length === 0) {\n      run_callbacks();\n      return null;\n    }\n    console.debug(\"Bokeh: BokehJS not loaded, scheduling load and callback at\", now());\n    root._bokeh_is_loading = css_urls.length + js_urls.length;\n\n    function on_load() {\n      root._bokeh_is_loading--;\n      if (root._bokeh_is_loading === 0) {\n        console.debug(\"Bokeh: all BokehJS libraries/stylesheets loaded\");\n        run_callbacks()\n      }\n    }\n\n    function on_error(url) {\n      console.error(\"failed to load \" + url);\n    }\n\n    for (let i = 0; i < css_urls.length; i++) {\n      const url = css_urls[i];\n      const element = document.createElement(\"link\");\n      element.onload = on_load;\n      element.onerror = on_error.bind(null, url);\n      element.rel = \"stylesheet\";\n      element.type = \"text/css\";\n      element.href = url;\n      console.debug(\"Bokeh: injecting link tag for BokehJS stylesheet: \", url);\n      document.body.appendChild(element);\n    }\n\n    for (let i = 0; i < js_urls.length; i++) {\n      const url = js_urls[i];\n      const element = document.createElement('script');\n      element.onload = on_load;\n      element.onerror = on_error.bind(null, url);\n      element.async = false;\n      element.src = url;\n      console.debug(\"Bokeh: injecting script tag for BokehJS library: \", url);\n      document.head.appendChild(element);\n    }\n  };\n\n  function inject_raw_css(css) {\n    const element = document.createElement(\"style\");\n    element.appendChild(document.createTextNode(css));\n    document.body.appendChild(element);\n  }\n\n  const js_urls = [\"https://cdn.bokeh.org/bokeh/release/bokeh-3.4.1.min.js\", \"https://cdn.bokeh.org/bokeh/release/bokeh-gl-3.4.1.min.js\", \"https://cdn.bokeh.org/bokeh/release/bokeh-widgets-3.4.1.min.js\", \"https://cdn.bokeh.org/bokeh/release/bokeh-tables-3.4.1.min.js\", \"https://cdn.bokeh.org/bokeh/release/bokeh-mathjax-3.4.1.min.js\"];\n  const css_urls = [];\n\n  const inline_js = [    function(Bokeh) {\n      Bokeh.set_log_level(\"info\");\n    },\nfunction(Bokeh) {\n    }\n  ];\n\n  function run_inline_js() {\n    if (root.Bokeh !== undefined || force === true) {\n      try {\n            for (let i = 0; i < inline_js.length; i++) {\n      inline_js[i].call(root, root.Bokeh);\n    }\n\n      } catch (error) {display_loaded(error);throw error;\n      }if (force === true) {\n        display_loaded();\n      }} else if (Date.now() < root._bokeh_timeout) {\n      setTimeout(run_inline_js, 100);\n    } else if (!root._bokeh_failed_load) {\n      console.log(\"Bokeh: BokehJS failed to load within specified timeout.\");\n      root._bokeh_failed_load = true;\n    } else if (force !== true) {\n      const cell = $(document.getElementById(\"add2be22-fea3-490b-b42f-1b6136ebd894\")).parents('.cell').data().cell;\n      cell.output_area.append_execute_result(NB_LOAD_WARNING)\n    }\n  }\n\n  if (root._bokeh_is_loading === 0) {\n    console.debug(\"Bokeh: BokehJS loaded, going straight to plotting\");\n    run_inline_js();\n  } else {\n    load_libs(css_urls, js_urls, function() {\n      console.debug(\"Bokeh: BokehJS plotting callback run at\", now());\n      run_inline_js();\n    });\n  }\n}(window));"
     },
     "metadata": {},
     "output_type": "display_data"
    }
   ],
   "source": [
    "import hail as hl"
   ]
  },
  {
   "cell_type": "code",
   "execution_count": 3,
   "metadata": {},
   "outputs": [
    {
     "name": "stderr",
     "output_type": "stream",
     "text": [
      "/opt/conda/lib/python3.10/site-packages/hail/context.py:352: UserWarning:\n",
      "\n",
      "Using hl.init with a default_reference argument is deprecated. To set a default reference genome after initializing hail, call `hl.default_reference` with an argument to set the default reference genome.\n",
      "\n",
      "/opt/conda/lib/python3.10/site-packages/hailtop/aiocloud/aiogoogle/user_config.py:43: UserWarning:\n",
      "\n",
      "Reading spark-defaults.conf to determine GCS requester pays configuration. This is deprecated. Please use `hailctl config set gcs_requester_pays/project` and `hailctl config set gcs_requester_pays/buckets`.\n",
      "\n",
      "Setting default log level to \"WARN\".\n",
      "To adjust logging level use sc.setLogLevel(newLevel). For SparkR, use setLogLevel(newLevel).\n",
      "Running on Apache Spark version 3.3.0\n",
      "SparkUI available at http://all-of-us-11150-m.us-central1-b.c.terra-vpc-sc-fd39b54c.internal:41791\n",
      "Welcome to\n",
      "     __  __     <>__\n",
      "    / /_/ /__  __/ /\n",
      "   / __  / _ `/ / /\n",
      "  /_/ /_/\\_,_/_/_/   version 0.2.130.post1-c69cd67afb8b\n",
      "LOGGING: writing to /home/jupyter/workspaces/prswithwgsvsarraydata/hail-20250106-0002-0.2.130.post1-c69cd67afb8b.log\n"
     ]
    }
   ],
   "source": [
    "# set up hail\n",
    "hl.init(default_reference = \"GRCh38\")"
   ]
  },
  {
   "cell_type": "code",
   "execution_count": 4,
   "metadata": {},
   "outputs": [],
   "source": [
    "bucket = os.getenv('WORKSPACE_BUCKET')"
   ]
  },
  {
   "cell_type": "markdown",
   "metadata": {},
   "source": [
    "## Array"
   ]
  },
  {
   "cell_type": "code",
   "execution_count": 5,
   "metadata": {},
   "outputs": [],
   "source": [
    "mt_array_path = os.getenv(\"MICROARRAY_HAIL_STORAGE_PATH\")\n",
    "mt_array = hl.read_matrix_table(mt_array_path)\n",
    "mt_array = mt_array.key_rows_by(\"locus\")"
   ]
  },
  {
   "cell_type": "code",
   "execution_count": 5,
   "metadata": {},
   "outputs": [],
   "source": [
    "# read HDL with the clumped variants\n",
    "HDL_sumstats = hl.read_table(f\"{bucket}/hail_checkpoints/HDL_sumstats_checkpoint.ht\")"
   ]
  },
  {
   "cell_type": "code",
   "execution_count": 6,
   "metadata": {},
   "outputs": [],
   "source": [
    "# subset mt to clumped variants \n",
    "mt_array_HDL = mt_array.semi_join_rows(HDL_sumstats) #261583"
   ]
  },
  {
   "cell_type": "code",
   "execution_count": 7,
   "metadata": {},
   "outputs": [
    {
     "name": "stderr",
     "output_type": "stream",
     "text": [
      "2024-10-31 19:23:05.107 Hail: INFO: Reading table to impute column types 1) / 1]\n",
      "2024-10-31 19:23:10.119 Hail: INFO: Loading <StructExpression of type struct{person_id: str, Age: int32, is_sex_Male: int32, is_sex_Female: int32, is_White: int32, is_Black_or_African_American: int32, is_Native_Hawaiian_or_Other_Pacific_Islander: int32, is_Asian: int32, is_Middle_Eastern_or_North_African: int32, is_gender_Male: int32, is_gender_Female: int32, is_Hispanic: int32, is_anc_pred_eur: int32, is_anc_pred_amr: int32, is_anc_pred_afr: int32, is_anc_pred_sas: int32, is_anc_pred_eas: int32, is_anc_pred_mid: int32, PC1: float64, PC2: float64, PC3: float64, PC4: float64, PC5: float64, PC6: float64, PC7: float64, PC8: float64, PC9: float64, PC10: float64, PC11: float64, PC12: float64, PC13: float64, PC14: float64, PC15: float64, PC16: float64, BMI: float64, Height: float64, DBP: float64, SBP: float64, HbA1c: float64, leukocyte: float64, Lymphocyte: float64, RBC: float64, Neutrophil: float64, Hemoglobin_concentration: float64, hematocrit_percentage: float64, Eosinophil: float64, Platelet: float64, Monocyte: float64, MCV: float64, MCH: float64, Basophil: float64, MCHC: float64, HDL: float64, LDL: float64, TC: float64, TG: float64, eur_bin: int32, amr_bin: int32, afr_bin: int32, oth_bin: int32, sas_bin: int32, eas_bin: int32, mid_bin: int32}> fields. Counts by type:\n",
      "  float64: 38\n",
      "  int32: 24\n",
      "  str: 1\n"
     ]
    }
   ],
   "source": [
    "Sample_quant = hl.import_table(f\"{bucket}/Pheno/quant_all.tsv\", \n",
    "                         missing='',\n",
    "                        impute=True,\n",
    "                        types = {\"person_id\": \"str\"})\n",
    "Sample_quant = Sample_quant.key_by(\"person_id\")\n",
    "mt_array_HDL = mt_array_HDL.semi_join_cols(Sample_quant)\n",
    "mt_array_HDL = mt_array_HDL.annotate_cols(**Sample_quant[mt_array_HDL.s])"
   ]
  },
  {
   "cell_type": "code",
   "execution_count": 18,
   "metadata": {},
   "outputs": [],
   "source": [
    "Sample_quant_df = pd.read_csv(f\"{bucket}/Pheno/quant_all.tsv\", sep='\\t', dtype={'person_id': str})"
   ]
  },
  {
   "cell_type": "code",
   "execution_count": null,
   "metadata": {},
   "outputs": [],
   "source": [
    "quant_eur = Sample_quant.filter(Sample_quant.is_anc_pred_eur == 1)\n",
    "quant_amr = Sample_quant.filter(Sample_quant.is_anc_pred_amr == 1)\n",
    "quant_afr = Sample_quant.filter(Sample_quant.is_anc_pred_afr == 1)"
   ]
  },
  {
   "cell_type": "code",
   "execution_count": null,
   "metadata": {},
   "outputs": [],
   "source": []
  },
  {
   "cell_type": "markdown",
   "metadata": {},
   "source": [
    "### Create ancestry specific MT"
   ]
  },
  {
   "cell_type": "code",
   "execution_count": 8,
   "metadata": {},
   "outputs": [],
   "source": [
    "mt_array_HDL_eur = mt_array_HDL.filter_cols(mt_array_HDL.is_anc_pred_eur == 1)\n",
    "mt_array_HDL_amr = mt_array_HDL.filter_cols(mt_array_HDL.is_anc_pred_amr == 1)\n",
    "mt_array_HDL_afr = mt_array_HDL.filter_cols(mt_array_HDL.is_anc_pred_afr == 1)"
   ]
  },
  {
   "cell_type": "markdown",
   "metadata": {
    "heading_collapsed": true
   },
   "source": [
    "### Annotate rows with allele frequency"
   ]
  },
  {
   "cell_type": "code",
   "execution_count": 9,
   "metadata": {
    "hidden": true
   },
   "outputs": [],
   "source": [
    "mt_array_HDL_eur = mt_array_HDL_eur.annotate_rows(allele_freq = hl.agg.mean(mt_array_HDL_eur.GT.n_alt_alleles()) / 2)\n",
    "mt_array_HDL_amr = mt_array_HDL_amr.annotate_rows(allele_freq = hl.agg.mean(mt_array_HDL_amr.GT.n_alt_alleles()) / 2)\n",
    "mt_array_HDL_afr = mt_array_HDL_afr.annotate_rows(allele_freq = hl.agg.mean(mt_array_HDL_afr.GT.n_alt_alleles()) / 2)"
   ]
  },
  {
   "cell_type": "code",
   "execution_count": 10,
   "metadata": {
    "hidden": true
   },
   "outputs": [
    {
     "name": "stderr",
     "output_type": "stream",
     "text": [
      "2024-10-31 19:23:19.643 Hail: INFO: wrote table with 261583 rows in 1 partition to /tmp/__iruid_3552-GG8Z2e6eSzexSAWQB0x6UU\n",
      "2024-10-31 20:03:53.026 Hail: INFO: wrote table with 261583 rows in 74 partitions to gs://fc-secure-9afe7562-2fad-4781-ab60-03528a626c19/AF/array_HDL_eur.ht\n",
      "2024-10-31 20:03:59.630 Hail: INFO: wrote table with 261583 rows in 1 partition to /tmp/__iruid_7523-xQJchOlI1Sx4trADHVZeJp\n",
      "2024-10-31 20:30:49.782 Hail: INFO: wrote table with 261583 rows in 74 partitions to gs://fc-secure-9afe7562-2fad-4781-ab60-03528a626c19/AF/array_HDL_amr.ht\n",
      "2024-10-31 20:30:56.290 Hail: INFO: wrote table with 261583 rows in 1 partition to /tmp/__iruid_11494-CNLoebUVKTm8Ajm7zLaFJM\n",
      "2024-10-31 21:06:19.954 Hail: INFO: wrote table with 261583 rows in 74 partitions to gs://fc-secure-9afe7562-2fad-4781-ab60-03528a626c19/AF/array_HDL_afr.ht\n"
     ]
    }
   ],
   "source": [
    "mt_array_HDL_eur.rows().write(f\"{bucket}/AF/array_HDL_eur.ht\", overwrite=True)\n",
    "mt_array_HDL_amr.rows().write(f\"{bucket}/AF/array_HDL_amr.ht\", overwrite=True)\n",
    "mt_array_HDL_afr.rows().write(f\"{bucket}/AF/array_HDL_afr.ht\", overwrite=True)"
   ]
  },
  {
   "cell_type": "code",
   "execution_count": 14,
   "metadata": {
    "hidden": true
   },
   "outputs": [
    {
     "name": "stderr",
     "output_type": "stream",
     "text": [
      "2024-10-31 21:31:36.039 Hail: INFO: merging 75 files totalling 13.2M... 8) / 74]\n",
      "2024-10-31 21:31:36.846 Hail: INFO: while writing:\n",
      "    gs://fc-secure-9afe7562-2fad-4781-ab60-03528a626c19/AF/array_HDL_eur.gz\n",
      "  merge time: 805.511ms\n",
      "2024-10-31 21:31:43.263 Hail: INFO: merging 75 files totalling 13.1M...12) / 74]\n",
      "2024-10-31 21:31:43.753 Hail: INFO: while writing:\n",
      "    gs://fc-secure-9afe7562-2fad-4781-ab60-03528a626c19/AF/array_HDL_amr.gz\n",
      "  merge time: 489.846ms\n",
      "2024-10-31 21:31:46.171 Hail: INFO: merging 75 files totalling 13.1M...10) / 74]\n",
      "2024-10-31 21:31:46.611 Hail: INFO: while writing:\n",
      "    gs://fc-secure-9afe7562-2fad-4781-ab60-03528a626c19/AF/array_HDL_afr.gz\n",
      "  merge time: 439.826ms\n"
     ]
    }
   ],
   "source": [
    "array_HDL_eur = hl.read_table(f\"{bucket}/AF/array_HDL_eur.ht\")\n",
    "array_HDL_amr = hl.read_table(f\"{bucket}/AF/array_HDL_amr.ht\")\n",
    "array_HDL_afr = hl.read_table(f\"{bucket}/AF/array_HDL_afr.ht\")\n",
    "\n",
    "array_HDL_eur.export(f\"{bucket}/AF/array_HDL_eur.gz\")\n",
    "array_HDL_amr.export(f\"{bucket}/AF/array_HDL_amr.gz\")\n",
    "array_HDL_afr.export(f\"{bucket}/AF/array_HDL_afr.gz\")"
   ]
  },
  {
   "cell_type": "markdown",
   "metadata": {},
   "source": [
    "### Visualization"
   ]
  },
  {
   "cell_type": "code",
   "execution_count": 36,
   "metadata": {},
   "outputs": [],
   "source": [
    "array_HDL_eur = pd.read_csv(f\"{bucket}/AF/array_HDL_eur.gz\",sep = \"\\t\")\n",
    "array_HDL_amr = pd.read_csv(f\"{bucket}/AF/array_HDL_amr.gz\",sep = \"\\t\")\n",
    "array_HDL_afr = pd.read_csv(f\"{bucket}/AF/array_HDL_afr.gz\",sep = \"\\t\")"
   ]
  },
  {
   "cell_type": "code",
   "execution_count": 12,
   "metadata": {},
   "outputs": [],
   "source": [
    "# Function to extract the second number in \"AF\"\n",
    "import ast\n",
    "def extract_af(info):\n",
    "    # Convert the string representation of dictionary to a dictionary\n",
    "    info_dict = ast.literal_eval(info)\n",
    "    # Extract the second number from the \"AF\" list\n",
    "    return info_dict['AF'][1]"
   ]
  },
  {
   "cell_type": "code",
   "execution_count": 13,
   "metadata": {},
   "outputs": [],
   "source": [
    "# Apply the function to the 'info' column and create a new column 'AF_all'\n",
    "array_HDL_eur['AF_all'] = array_HDL_eur['info'].apply(extract_af)\n",
    "array_HDL_amr['AF_all'] = array_HDL_amr['info'].apply(extract_af)\n",
    "array_HDL_afr['AF_all'] = array_HDL_afr['info'].apply(extract_af)"
   ]
  },
  {
   "cell_type": "markdown",
   "metadata": {},
   "source": [
    "#### Histogram for AF_all"
   ]
  },
  {
   "cell_type": "code",
   "execution_count": 20,
   "metadata": {
    "scrolled": true
   },
   "outputs": [
    {
     "data": {
      "image/png": "[encoded data removed]",
      "text/plain": [
       "<Figure size 500x300 with 1 Axes>"
      ]
     },
     "metadata": {},
     "output_type": "display_data"
    }
   ],
   "source": [
    "eur = array_HDL_eur\n",
    "\n",
    "plt.figure(figsize=(5, 3))\n",
    "sns.histplot(eur['AF_all'], bins=300, kde=False, color='grey')\n",
    "plt.title(\"MAF Distribution in AoU\")\n",
    "plt.xlabel(\"MAF\")\n",
    "plt.ylabel(\"Count\")\n",
    "#plt.xlim(0, 0.5)\n",
    "plt.show()"
   ]
  },
  {
   "cell_type": "markdown",
   "metadata": {},
   "source": [
    "#### Histogram for new AF"
   ]
  },
  {
   "cell_type": "code",
   "execution_count": 16,
   "metadata": {},
   "outputs": [
    {
     "data": {
      "image/png": "[encoded data removed]",
      "text/plain": [
       "<Figure size 900x300 with 3 Axes>"
      ]
     },
     "metadata": {},
     "output_type": "display_data"
    }
   ],
   "source": [
    "eur = array_HDL_eur\n",
    "amr = array_HDL_amr\n",
    "afr = array_HDL_afr\n",
    "\n",
    "# Create a figure with a row of three subplots\n",
    "fig, axes = plt.subplots(1, 3, figsize=(9, 3), sharey=True)\n",
    "\n",
    "# Plot each histogram in its respective subplot\n",
    "sns.histplot(eur['allele_freq'], bins=100, kde=False, color='red', ax=axes[0])\n",
    "axes[0].set_title(\"EUR\", fontsize=24)\n",
    "axes[0].set_ylabel(\"Count\", fontsize=24)\n",
    "axes[0].set_xlabel('', fontsize=20)\n",
    "axes[0].set_xlim(0, 0.5)\n",
    "\n",
    "sns.histplot(amr['allele_freq'], bins=100, kde=False, color='#ff7f0e', ax=axes[1])\n",
    "axes[1].set_title(\"AMR\", fontsize=24)\n",
    "axes[1].set_xlabel('', fontsize=20)\n",
    "axes[1].set_xlim(0, 0.5)\n",
    "\n",
    "sns.histplot(afr['allele_freq'], bins=100, kde=False, color='slateblue', ax=axes[2])\n",
    "axes[2].set_title(\"AFR\", fontsize=24)\n",
    "axes[2].set_xlabel('', fontsize=20)\n",
    "axes[2].set_xlim(0, 0.5)\n",
    "\n",
    "# Set a shared x-axis label\n",
    "fig.text(0.8, -0.02, 'MAF', ha='center', fontsize=24)\n",
    "\n",
    "# Increase tick label font size for all axes\n",
    "for ax in axes:\n",
    "    ax.tick_params(axis='both', which='major', labelsize=18)\n",
    "\n",
    "# Adjust the number of ticks on x-axis and y-axis if needed\n",
    "for ax in axes:\n",
    "    ax.set_xticks([i * 0.1 for i in range(6)])  # Example for 0, 0.1, 0.2,..., 0.5\n",
    "    ax.set_yticks(range(0, 60001, 10000)) \n",
    "    \n",
    "# Adjust layout and space between subplots\n",
    "plt.tight_layout(rect=[0, 0.05, 1.5, 1.5], w_pad=1)  # Increase w_pad for more space between subplots\n",
    "\n",
    "# Show the plot\n",
    "plt.show()"
   ]
  },
  {
   "cell_type": "code",
   "execution_count": 51,
   "metadata": {},
   "outputs": [
    {
     "name": "stdout",
     "output_type": "stream",
     "text": [
      "EUR AF Summary:\n",
      "count    261583.000000\n",
      "mean          0.172950\n",
      "std           0.250193\n",
      "min           0.000000\n",
      "25%           0.015167\n",
      "50%           0.059277\n",
      "75%           0.209030\n",
      "max           0.999980\n",
      "Name: allele_freq, dtype: float64\n",
      "\n",
      "AMR AF Summary:\n",
      "count    261583.000000\n",
      "mean          0.173561\n",
      "std           0.249556\n",
      "min           0.001464\n",
      "25%           0.018117\n",
      "50%           0.052025\n",
      "75%           0.210705\n",
      "max           0.996560\n",
      "Name: allele_freq, dtype: float64\n",
      "\n",
      "AFR AF Summary:\n",
      "count    261583.000000\n",
      "mean          0.181481\n",
      "std           0.245763\n",
      "min           0.000557\n",
      "25%           0.022354\n",
      "50%           0.072705\n",
      "75%           0.216700\n",
      "max           0.998450\n",
      "Name: allele_freq, dtype: float64\n"
     ]
    }
   ],
   "source": [
    "# Summarize allele frequency for each ancestry\n",
    "print(\"EUR AF Summary:\")\n",
    "print(eur['allele_freq'].describe())\n",
    "\n",
    "print(\"\\nAMR AF Summary:\")\n",
    "print(amr['allele_freq'].describe())\n",
    "\n",
    "print(\"\\nAFR AF Summary:\")\n",
    "print(afr['allele_freq'].describe())"
   ]
  },
  {
   "cell_type": "code",
   "execution_count": 42,
   "metadata": {},
   "outputs": [
    {
     "name": "stdout",
     "output_type": "stream",
     "text": [
      "T-statistic: -0.8854389630612197\n",
      "P-value: 0.37592033272832637\n"
     ]
    }
   ],
   "source": [
    "from scipy.stats import ttest_ind\n",
    "\n",
    "# Perform an independent t-test\n",
    "t_stat, p_value = ttest_ind(eur['allele_freq'], amr['allele_freq'], nan_policy='omit')\n",
    "\n",
    "# Display the results\n",
    "print(\"T-statistic:\", t_stat)\n",
    "print(\"P-value:\", p_value)"
   ]
  },
  {
   "cell_type": "code",
   "execution_count": 43,
   "metadata": {},
   "outputs": [
    {
     "name": "stdout",
     "output_type": "stream",
     "text": [
      "T-statistic: -12.442008861399446\n",
      "P-value: 1.5636990444346832e-35\n"
     ]
    }
   ],
   "source": [
    "# Perform an independent t-test\n",
    "t_stat, p_value = ttest_ind(eur['allele_freq'], afr['allele_freq'], nan_policy='omit')\n",
    "\n",
    "# Display the results\n",
    "print(\"T-statistic:\", t_stat)\n",
    "print(\"P-value:\", p_value)"
   ]
  },
  {
   "cell_type": "code",
   "execution_count": 44,
   "metadata": {},
   "outputs": [
    {
     "name": "stdout",
     "output_type": "stream",
     "text": [
      "T-statistic: -11.564801351235648\n",
      "P-value: 6.267621286237152e-31\n"
     ]
    }
   ],
   "source": [
    "# Perform an independent t-test\n",
    "t_stat, p_value = ttest_ind(amr['allele_freq'], afr['allele_freq'], nan_policy='omit')\n",
    "\n",
    "# Display the results\n",
    "print(\"T-statistic:\", t_stat)\n",
    "print(\"P-value:\", p_value)"
   ]
  },
  {
   "cell_type": "markdown",
   "metadata": {},
   "source": [
    "## WGS"
   ]
  },
  {
   "cell_type": "code",
   "execution_count": 5,
   "metadata": {},
   "outputs": [],
   "source": [
    "mt_wgs_quant = hl.read_matrix_table(f\"{bucket}/hail_checkpoints/mt_wgs_quant_checkpoint1.mt\")\n",
    "mt_wgs_quant = mt_wgs_quant.key_rows_by(\"locus\")"
   ]
  },
  {
   "cell_type": "code",
   "execution_count": 6,
   "metadata": {},
   "outputs": [],
   "source": [
    "# read HDL with the clumped variants\n",
    "HDL_sumstats_var = hl.read_table(f\"{bucket}/hail_checkpoints/HDL_sumstats_var.ht\")"
   ]
  },
  {
   "cell_type": "code",
   "execution_count": 6,
   "metadata": {},
   "outputs": [],
   "source": [
    "# subset mt to clumped variants\n",
    "mt_wgs_HDL = mt_wgs_quant.semi_join_rows(HDL_sumstats_var) #465726"
   ]
  },
  {
   "cell_type": "code",
   "execution_count": 7,
   "metadata": {},
   "outputs": [
    {
     "name": "stderr",
     "output_type": "stream",
     "text": [
      "2024-11-02 17:21:17.576 Hail: INFO: Reading table to impute column types 1) / 1]\n",
      "2024-11-02 17:21:22.298 Hail: INFO: Loading <StructExpression of type struct{person_id: str, Age: int32, is_sex_Male: int32, is_sex_Female: int32, is_White: int32, is_Black_or_African_American: int32, is_Native_Hawaiian_or_Other_Pacific_Islander: int32, is_Asian: int32, is_Middle_Eastern_or_North_African: int32, is_gender_Male: int32, is_gender_Female: int32, is_Hispanic: int32, is_anc_pred_eur: int32, is_anc_pred_amr: int32, is_anc_pred_afr: int32, is_anc_pred_sas: int32, is_anc_pred_eas: int32, is_anc_pred_mid: int32, PC1: float64, PC2: float64, PC3: float64, PC4: float64, PC5: float64, PC6: float64, PC7: float64, PC8: float64, PC9: float64, PC10: float64, PC11: float64, PC12: float64, PC13: float64, PC14: float64, PC15: float64, PC16: float64, BMI: float64, Height: float64, DBP: float64, SBP: float64, HbA1c: float64, leukocyte: float64, Lymphocyte: float64, RBC: float64, Neutrophil: float64, Hemoglobin_concentration: float64, hematocrit_percentage: float64, Eosinophil: float64, Platelet: float64, Monocyte: float64, MCV: float64, MCH: float64, Basophil: float64, MCHC: float64, HDL: float64, LDL: float64, TC: float64, TG: float64, eur_bin: int32, amr_bin: int32, afr_bin: int32, oth_bin: int32, sas_bin: int32, eas_bin: int32, mid_bin: int32}> fields. Counts by type:\n",
      "  float64: 38\n",
      "  int32: 24\n",
      "  str: 1\n"
     ]
    }
   ],
   "source": [
    "Sample_quant = hl.import_table(f\"{bucket}/Pheno/quant_all.tsv\", \n",
    "                         missing='',\n",
    "                        impute=True,\n",
    "                        types = {\"person_id\": \"str\"})\n",
    "Sample_quant = Sample_quant.key_by(\"person_id\")\n",
    "mt_wgs_HDL = mt_wgs_HDL.semi_join_cols(Sample_quant)\n",
    "mt_wgs_HDL = mt_wgs_HDL.annotate_cols(**Sample_quant[mt_wgs_HDL.s])"
   ]
  },
  {
   "cell_type": "code",
   "execution_count": 9,
   "metadata": {},
   "outputs": [],
   "source": [
    "# retrieve relavent fields\n",
    "mt_wgs_HDL = mt_wgs_HDL.select_rows(rsid = mt_wgs_HDL.rsid)"
   ]
  },
  {
   "cell_type": "markdown",
   "metadata": {
    "heading_collapsed": true
   },
   "source": [
    "### Create ancestry specific MT"
   ]
  },
  {
   "cell_type": "code",
   "execution_count": null,
   "metadata": {
    "hidden": true
   },
   "outputs": [],
   "source": [
    "mt_wgs_HDL_eur = mt_wgs_HDL.filter_cols(mt_wgs_HDL.is_anc_pred_eur == 1)\n",
    "mt_wgs_HDL_amr = mt_wgs_HDL.filter_cols(mt_wgs_HDL.is_anc_pred_amr == 1)\n",
    "mt_wgs_HDL_afr = mt_wgs_HDL.filter_cols(mt_wgs_HDL.is_anc_pred_afr == 1)"
   ]
  },
  {
   "cell_type": "markdown",
   "metadata": {
    "heading_collapsed": true
   },
   "source": [
    "### Annotate rows with allele frequency"
   ]
  },
  {
   "cell_type": "markdown",
   "metadata": {
    "heading_collapsed": true,
    "hidden": true
   },
   "source": [
    "#### EUR"
   ]
  },
  {
   "cell_type": "code",
   "execution_count": 12,
   "metadata": {
    "hidden": true
   },
   "outputs": [],
   "source": [
    "mt_wgs_HDL_eur = mt_wgs_HDL_eur.annotate_rows(allele_freq = hl.agg.mean(mt_wgs_HDL_eur.GT) / 2)"
   ]
  },
  {
   "cell_type": "code",
   "execution_count": 13,
   "metadata": {
    "hidden": true
   },
   "outputs": [
    {
     "name": "stderr",
     "output_type": "stream",
     "text": [
      "2024-11-02 17:22:11.499 Hail: INFO: wrote table with 465726 rows in 1 partition to /tmp/__iruid_3552-eehX5WpVlFQGsSndkwgvKo\n",
      "2024-11-02 17:33:28.314 Hail: INFO: wrote table with 465726 rows in 140126 partitions to gs://fc-secure-9afe7562-2fad-4781-ab60-03528a626c19/AF/wgs_HDL_eur.ht\n"
     ]
    }
   ],
   "source": [
    "mt_wgs_HDL_eur.rows().write(f\"{bucket}/AF/wgs_HDL_eur.ht\", overwrite=True)"
   ]
  },
  {
   "cell_type": "markdown",
   "metadata": {
    "heading_collapsed": true,
    "hidden": true
   },
   "source": [
    "#### AMR"
   ]
  },
  {
   "cell_type": "code",
   "execution_count": 14,
   "metadata": {
    "hidden": true
   },
   "outputs": [],
   "source": [
    "mt_wgs_HDL_amr = mt_wgs_HDL_amr.annotate_rows(allele_freq = hl.agg.mean(mt_wgs_HDL_amr.GT) / 2)"
   ]
  },
  {
   "cell_type": "code",
   "execution_count": 15,
   "metadata": {
    "hidden": true
   },
   "outputs": [
    {
     "name": "stderr",
     "output_type": "stream",
     "text": [
      "2024-11-02 17:33:43.307 Hail: INFO: wrote table with 465726 rows in 1 partition to /tmp/__iruid_7523-HKbEcUrt83QMRma5u5lUeL\n",
      "2024-11-02 17:48:23.207 Hail: INFO: wrote table with 465726 rows in 140126 partitions to gs://fc-secure-9afe7562-2fad-4781-ab60-03528a626c19/AF/wgs_HDL_amr.ht\n"
     ]
    }
   ],
   "source": [
    "mt_wgs_HDL_amr.rows().write(f\"{bucket}/AF/wgs_HDL_amr.ht\", overwrite=True)"
   ]
  },
  {
   "cell_type": "markdown",
   "metadata": {
    "heading_collapsed": true,
    "hidden": true
   },
   "source": [
    "#### AFR"
   ]
  },
  {
   "cell_type": "code",
   "execution_count": 16,
   "metadata": {
    "hidden": true
   },
   "outputs": [],
   "source": [
    "mt_wgs_HDL_afr = mt_wgs_HDL_afr.annotate_rows(allele_freq = hl.agg.mean(mt_wgs_HDL_afr.GT) / 2)"
   ]
  },
  {
   "cell_type": "code",
   "execution_count": 17,
   "metadata": {
    "hidden": true
   },
   "outputs": [
    {
     "name": "stderr",
     "output_type": "stream",
     "text": [
      "2024-11-02 17:48:37.044 Hail: INFO: wrote table with 465726 rows in 1 partition to /tmp/__iruid_11494-YgJqDK6yK09b5WTaXbhhh9\n",
      "2024-11-02 18:03:03.746 Hail: INFO: wrote table with 465726 rows in 140126 partitions to gs://fc-secure-9afe7562-2fad-4781-ab60-03528a626c19/AF/wgs_HDL_afr.ht\n"
     ]
    }
   ],
   "source": [
    "mt_wgs_HDL_afr.rows().write(f\"{bucket}/AF/wgs_HDL_afr.ht\", overwrite=True)"
   ]
  },
  {
   "cell_type": "markdown",
   "metadata": {},
   "source": [
    "### Visualization"
   ]
  },
  {
   "cell_type": "code",
   "execution_count": 5,
   "metadata": {},
   "outputs": [],
   "source": [
    "wgs_HDL_eur = hl.read_table(f\"{bucket}/AF/wgs_HDL_eur.ht\")\n",
    "wgs_HDL_amr = hl.read_table(f\"{bucket}/AF/wgs_HDL_amr.ht\")\n",
    "wgs_HDL_afr = hl.read_table(f\"{bucket}/AF/wgs_HDL_afr.ht\")"
   ]
  },
  {
   "cell_type": "code",
   "execution_count": 6,
   "metadata": {},
   "outputs": [
    {
     "name": "stderr",
     "output_type": "stream",
     "text": [
      "[Stage 2:===============================================>(140096 + 16) / 140126]\r"
     ]
    }
   ],
   "source": [
    "# Collect data from Hail to Python list\n",
    "af_eur = wgs_HDL_eur.allele_freq.collect()  \n",
    "af_amr = wgs_HDL_amr.allele_freq.collect() \n",
    "af_afr = wgs_HDL_afr.allele_freq.collect()  "
   ]
  },
  {
   "cell_type": "code",
   "execution_count": 13,
   "metadata": {},
   "outputs": [
    {
     "data": {
      "image/png": "[encoded data removed]",
      "text/plain": [
       "<Figure size 900x300 with 3 Axes>"
      ]
     },
     "metadata": {},
     "output_type": "display_data"
    }
   ],
   "source": [
    "eur = af_eur\n",
    "amr = af_amr\n",
    "afr = af_afr\n",
    "\n",
    "# Create a figure with a row of three subplots\n",
    "fig, axes = plt.subplots(1, 3, figsize=(9, 3), sharey=True)\n",
    "\n",
    "# Plot each histogram in its respective subplot\n",
    "sns.histplot(eur, bins=100, kde=False, color='red', ax=axes[0])\n",
    "axes[0].set_title(\"EUR\", fontsize=24)\n",
    "axes[0].set_ylabel(\"Count\", fontsize=24)\n",
    "axes[0].set_xlabel('', fontsize=20)\n",
    "axes[0].set_xlim(0, 0.5)\n",
    "\n",
    "sns.histplot(amr, bins=100, kde=False, color='#ff7f0e', ax=axes[1])\n",
    "axes[1].set_title(\"AMR\", fontsize=24)\n",
    "axes[1].set_xlabel('', fontsize=20)\n",
    "axes[1].set_xlim(0, 0.5)\n",
    "\n",
    "sns.histplot(afr, bins=100, kde=False, color='slateblue', ax=axes[2])\n",
    "axes[2].set_title(\"AFR\", fontsize=24)\n",
    "axes[2].set_xlabel('', fontsize=20)\n",
    "axes[2].set_xlim(0, 0.5)\n",
    "\n",
    "# Set a shared x-axis label\n",
    "fig.text(0.8, -0.02, 'MAF', ha='center', fontsize=24)\n",
    "\n",
    "# Increase tick label font size for all axes\n",
    "for ax in axes:\n",
    "    ax.tick_params(axis='both', which='major', labelsize=18)\n",
    "\n",
    "# Adjust the number of ticks on x-axis and y-axis if needed\n",
    "for ax in axes:\n",
    "    ax.set_xticks([i * 0.1 for i in range(6)])  # Example for 0, 0.1, 0.2,..., 0.5\n",
    "    ax.set_yticks(range(0, 150001, 25000)) \n",
    "    \n",
    "# Adjust layout and space between subplots\n",
    "plt.tight_layout(rect=[0, 0.05, 1.5, 1.5], w_pad=1)  # Increase w_pad for more space between subplots\n",
    "\n",
    "# Show the plot\n",
    "plt.show()"
   ]
  },
  {
   "cell_type": "code",
   "execution_count": 36,
   "metadata": {},
   "outputs": [
    {
     "name": "stdout",
     "output_type": "stream",
     "text": [
      "EUR AF Summary:\n",
      "count    465726.000000\n",
      "mean          0.131309\n",
      "std           0.229714\n",
      "min           0.000000\n",
      "25%           0.001166\n",
      "50%           0.034882\n",
      "75%           0.118525\n",
      "max           0.999978\n",
      "Name: AF EUR, dtype: float64\n",
      "\n",
      "AMR AF Summary:\n",
      "count    465726.000000\n",
      "mean          0.131440\n",
      "std           0.229525\n",
      "min           0.001427\n",
      "25%           0.010614\n",
      "50%           0.025588\n",
      "75%           0.119903\n",
      "max           0.997950\n",
      "Name: AF AMR, dtype: float64\n",
      "\n",
      "AFR AF Summary:\n",
      "count    465726.000000\n",
      "mean          0.141094\n",
      "std           0.225517\n",
      "min           0.000460\n",
      "25%           0.011137\n",
      "50%           0.049971\n",
      "75%           0.131537\n",
      "max           0.998886\n",
      "Name: AF AFR, dtype: float64\n"
     ]
    }
   ],
   "source": [
    "## Summarize allele frequency for each ancestry\n",
    "# Convert the collected list to a pandas Series\n",
    "af_eur_series = pd.Series(af_eur, name=\"AF EUR\")\n",
    "af_amr_series = pd.Series(af_amr, name=\"AF AMR\")\n",
    "af_afr_series = pd.Series(af_afr, name=\"AF AFR\")\n",
    "\n",
    "print(\"EUR AF Summary:\")\n",
    "print(af_eur_series.describe())\n",
    "\n",
    "print(\"\\nAMR AF Summary:\")\n",
    "print(af_amr_series.describe())\n",
    "\n",
    "print(\"\\nAFR AF Summary:\")\n",
    "print(af_afr_series.describe())"
   ]
  },
  {
   "cell_type": "code",
   "execution_count": 39,
   "metadata": {},
   "outputs": [
    {
     "name": "stdout",
     "output_type": "stream",
     "text": [
      "T-statistic: -0.2747294593594227\n",
      "P-value: 0.7835241573440235\n"
     ]
    }
   ],
   "source": [
    "from scipy.stats import ttest_ind\n",
    "\n",
    "# Perform an independent t-test\n",
    "t_stat, p_value = ttest_ind(af_eur_series, af_amr_series, nan_policy='omit')\n",
    "\n",
    "# Display the results\n",
    "print(\"T-statistic:\", t_stat)\n",
    "print(\"P-value:\", p_value)"
   ]
  },
  {
   "cell_type": "code",
   "execution_count": 40,
   "metadata": {},
   "outputs": [
    {
     "name": "stdout",
     "output_type": "stream",
     "text": [
      "T-statistic: -20.74368031181572\n",
      "P-value: 1.4696369882058088e-95\n"
     ]
    }
   ],
   "source": [
    "# Perform an independent t-test\n",
    "t_stat, p_value = ttest_ind(af_eur_series, af_afr_series, nan_policy='omit')\n",
    "\n",
    "# Display the results\n",
    "print(\"T-statistic:\", t_stat)\n",
    "print(\"P-value:\", p_value)"
   ]
  },
  {
   "cell_type": "code",
   "execution_count": 41,
   "metadata": {},
   "outputs": [
    {
     "name": "stdout",
     "output_type": "stream",
     "text": [
      "T-statistic: -20.475134262131796\n",
      "P-value: 3.7616633878403027e-93\n"
     ]
    }
   ],
   "source": [
    "# Perform an independent t-test\n",
    "t_stat, p_value = ttest_ind(af_amr_series, af_afr_series, nan_policy='omit')\n",
    "\n",
    "# Display the results\n",
    "print(\"T-statistic:\", t_stat)\n",
    "print(\"P-value:\", p_value)"
   ]
  },
  {
   "cell_type": "markdown",
   "metadata": {},
   "source": [
    "## AF correlation scatter plot"
   ]
  },
  {
   "cell_type": "code",
   "execution_count": 6,
   "metadata": {},
   "outputs": [],
   "source": [
    "array_HDL_eur = hl.read_table(f\"{bucket}/AF/array_HDL_eur.ht\")\n",
    "array_HDL_amr = hl.read_table(f\"{bucket}/AF/array_HDL_amr.ht\")\n",
    "array_HDL_afr = hl.read_table(f\"{bucket}/AF/array_HDL_afr.ht\")"
   ]
  },
  {
   "cell_type": "code",
   "execution_count": 7,
   "metadata": {},
   "outputs": [],
   "source": [
    "wgs_HDL_eur = hl.read_table(f\"{bucket}/AF/wgs_HDL_eur.ht\")\n",
    "wgs_HDL_amr = hl.read_table(f\"{bucket}/AF/wgs_HDL_amr.ht\")\n",
    "wgs_HDL_afr = hl.read_table(f\"{bucket}/AF/wgs_HDL_afr.ht\")"
   ]
  },
  {
   "cell_type": "code",
   "execution_count": 8,
   "metadata": {},
   "outputs": [
    {
     "name": "stderr",
     "output_type": "stream",
     "text": [
      "2024-11-27 01:28:47.458 Hail: INFO: wrote table with 261583 rows in 74 partitions to /tmp/__iruid_7-0DZWHMynlzM3NFQOLCv74E\n",
      "[Stage 1:===============================================>(140097 + 16) / 140126]\r"
     ]
    },
    {
     "name": "stdout",
     "output_type": "stream",
     "text": [
      "59234\n"
     ]
    }
   ],
   "source": [
    "# Extract loci from array_HDL_afr\n",
    "array_loci = array_HDL_afr.key_by('locus').select()  # Ensure the key is 'locus'\n",
    "\n",
    "# Filter wgs_HDL_afr to include only loci present in array_HDL_afr\n",
    "filtered_wgs_HDL_afr = wgs_HDL_afr.semi_join(array_loci)\n",
    "\n",
    "# Verify the filtered table\n",
    "print(filtered_wgs_HDL_afr.count())"
   ]
  },
  {
   "cell_type": "code",
   "execution_count": 12,
   "metadata": {},
   "outputs": [
    {
     "name": "stderr",
     "output_type": "stream",
     "text": [
      "2024-11-27 02:06:24.867 Hail: INFO: wrote table with 261583 rows in 74 partitions to /tmp/__iruid_1850-w3zVh1tHcTWvauwI2qs9gR\n",
      "2024-11-27 02:20:28.660 Hail: INFO: merging 140127 files totalling 4.0M...40126]\n",
      "2024-11-27 02:23:09.588 Hail: INFO: while writing:\n",
      "    gs://fc-secure-9afe7562-2fad-4781-ab60-03528a626c19/AF/filtered_wgs_HDL_afr.gz\n",
      "  merge time: 2m40.9s\n"
     ]
    }
   ],
   "source": [
    "filtered_wgs_HDL_afr.export(f\"{bucket}/AF/filtered_wgs_HDL_afr.gz\")"
   ]
  },
  {
   "cell_type": "code",
   "execution_count": 22,
   "metadata": {},
   "outputs": [
    {
     "name": "stderr",
     "output_type": "stream",
     "text": [
      "2024-11-27 02:46:23.541 Hail: INFO: wrote table with 261583 rows in 74 partitions to /tmp/__iruid_2818-HyfRAjD2MOJJKwfn23ZFMO\n",
      "2024-11-27 02:59:40.682 Hail: INFO: merging 140127 files totalling 4.0M...40126]\n",
      "2024-11-27 03:02:22.715 Hail: INFO: while writing:\n",
      "    gs://fc-secure-9afe7562-2fad-4781-ab60-03528a626c19/AF/filtered_wgs_HDL_eur.gz\n",
      "  merge time: 2m42.0s\n"
     ]
    }
   ],
   "source": [
    "# Extract loci from array_HDL_eur\n",
    "array_loci = array_HDL_eur.key_by('locus').select()  # Ensure the key is 'locus'\n",
    "\n",
    "# Filter wgs_HDL_eur to include only loci present in array_HDL_eur\n",
    "filtered_wgs_HDL_eur = wgs_HDL_eur.semi_join(array_loci)\n",
    "\n",
    "filtered_wgs_HDL_eur.export(f\"{bucket}/AF/filtered_wgs_HDL_eur.gz\")"
   ]
  },
  {
   "cell_type": "code",
   "execution_count": 23,
   "metadata": {},
   "outputs": [
    {
     "name": "stderr",
     "output_type": "stream",
     "text": [
      "2024-11-27 03:06:23.435 Hail: INFO: wrote table with 261583 rows in 74 partitions to /tmp/__iruid_3786-LSe6U4RKWpYQkQgiNSaXHX\n",
      "2024-11-27 03:22:53.307 Hail: INFO: merging 140127 files totalling 4.0M...40126]\n",
      "2024-11-27 03:25:24.997 Hail: INFO: while writing:\n",
      "    gs://fc-secure-9afe7562-2fad-4781-ab60-03528a626c19/AF/filtered_wgs_HDL_amr.gz\n",
      "  merge time: 2m31.7s\n"
     ]
    }
   ],
   "source": [
    "# Extract loci from array_HDL_amr\n",
    "array_loci = array_HDL_amr.key_by('locus').select()  # Ensure the key is 'locus'\n",
    "\n",
    "# Filter wgs_HDL_amr to include only loci present in array_HDL_amr\n",
    "filtered_wgs_HDL_amr = wgs_HDL_amr.semi_join(array_loci)\n",
    "\n",
    "filtered_wgs_HDL_amr.export(f\"{bucket}/AF/filtered_wgs_HDL_amr.gz\")"
   ]
  },
  {
   "cell_type": "code",
   "execution_count": 18,
   "metadata": {},
   "outputs": [],
   "source": [
    "array_HDL_afr = pd.read_csv(f\"{bucket}/AF/array_HDL_afr.gz\",sep = \"\\t\")\n",
    "filtered_wgs_HDL_afr = pd.read_csv(f\"{bucket}/AF/filtered_wgs_HDL_afr.gz\",sep = \"\\t\")\n",
    "\n",
    "array_HDL_eur = pd.read_csv(f\"{bucket}/AF/array_HDL_eur.gz\",sep = \"\\t\")\n",
    "filtered_wgs_HDL_eur = pd.read_csv(f\"{bucket}/AF/filtered_wgs_HDL_eur.gz\",sep = \"\\t\")\n",
    "\n",
    "array_HDL_amr = pd.read_csv(f\"{bucket}/AF/array_HDL_amr.gz\",sep = \"\\t\")\n",
    "filtered_wgs_HDL_amr = pd.read_csv(f\"{bucket}/AF/filtered_wgs_HDL_amr.gz\",sep = \"\\t\")"
   ]
  },
  {
   "cell_type": "code",
   "execution_count": 20,
   "metadata": {},
   "outputs": [],
   "source": [
    "# Perform an inner join to keep only intersecting loci\n",
    "df_merged_afr = pd.merge(array_HDL_afr, filtered_wgs_HDL_afr, on='locus', how='inner')\n",
    "df_merged_eur = pd.merge(array_HDL_eur, filtered_wgs_HDL_eur, on='locus', how='inner')\n",
    "df_merged_amr = pd.merge(array_HDL_amr, filtered_wgs_HDL_amr, on='locus', how='inner')"
   ]
  },
  {
   "cell_type": "code",
   "execution_count": 83,
   "metadata": {},
   "outputs": [
    {
     "data": {
      "image/png": "[encoded data removed]",
      "text/plain": [
       "<Figure size 900x300 with 3 Axes>"
      ]
     },
     "metadata": {},
     "output_type": "display_data"
    }
   ],
   "source": [
    "# Create subplots with shared x and y axis\n",
    "fig, axes = plt.subplots(1, 3, figsize=(9, 3), sharey=True, sharex=True)\n",
    "\n",
    "# --- EUR Plot ---\n",
    "df = df_merged_eur\n",
    "correlation = np.corrcoef(df['allele_freq_x'], df['allele_freq_y'])[0, 1]\n",
    "sns.regplot(x='allele_freq_x', y='allele_freq_y', data=df, \n",
    "            scatter_kws={'alpha': 0.5, 's': 10, 'color': 'red'}, \n",
    "            line_kws={'color': 'black', 'linewidth': 1}, ci=None, ax=axes[0])\n",
    "axes[0].set_title('EUR', fontsize=24)\n",
    "axes[0].set_ylabel('WGS MAF', fontsize=24)\n",
    "axes[0].set_xlabel('')\n",
    "axes[0].tick_params(axis='both', which='major', labelsize=18)  # Set font size for ticks\n",
    "axes[0].text(0.05, 0.95, f'r = {correlation:.5f}', ha='left', va='top', \n",
    "             transform=axes[0].transAxes, color='black', fontsize=18)\n",
    "axes[0].set_aspect('equal', adjustable='box')  # Ensure the plot is square\n",
    "sns.despine(ax=axes[0])  # Remove top and right spines\n",
    "\n",
    "# --- AMR Plot ---\n",
    "df = df_merged_amr\n",
    "correlation = np.corrcoef(df['allele_freq_x'], df['allele_freq_y'])[0, 1]\n",
    "sns.regplot(x='allele_freq_x', y='allele_freq_y', data=df, \n",
    "            scatter_kws={'alpha': 0.5, 's': 10, 'color': '#ff7f0e'}, \n",
    "            line_kws={'color': 'black', 'linewidth': 1}, ci=None, ax=axes[1])\n",
    "axes[1].set_title('AMR', fontsize=24)\n",
    "axes[1].set_xlabel('')\n",
    "axes[1].tick_params(axis='both', which='major', labelsize=18)  # Set font size for ticks\n",
    "axes[1].text(0.05, 0.95, f'r = {correlation:.5f}', ha='left', va='top', \n",
    "             transform=axes[1].transAxes, color='black', fontsize=18)\n",
    "axes[1].set_aspect('equal', adjustable='box')  # Ensure the plot is square\n",
    "sns.despine(ax=axes[1])  # Remove top and right spines\n",
    "\n",
    "# --- AFR Plot ---\n",
    "df = df_merged_afr\n",
    "correlation = np.corrcoef(df['allele_freq_x'], df['allele_freq_y'])[0, 1]\n",
    "sns.regplot(x='allele_freq_x', y='allele_freq_y', data=df, \n",
    "            scatter_kws={'alpha': 0.5, 's': 10, 'color': 'slateblue'}, \n",
    "            line_kws={'color': 'black', 'linewidth': 1}, ci=None, ax=axes[2])\n",
    "axes[2].set_title('AFR', fontsize=24)\n",
    "axes[2].set_xlabel('')\n",
    "axes[2].tick_params(axis='both', which='major', labelsize=18)  # Set font size for ticks\n",
    "axes[2].text(0.05, 0.95, f'r = {correlation:.5f}', ha='left', va='top', \n",
    "             transform=axes[2].transAxes, color='black', fontsize=18)\n",
    "axes[2].set_aspect('equal', adjustable='box')  # Ensure the plot is square\n",
    "sns.despine(ax=axes[2])  # Remove top and right spines\n",
    "\n",
    "# Hide y-axis tick labels for all subplots except the first one\n",
    "for ax in axes[1:]:\n",
    "    ax.set_ylabel('')\n",
    "    ax.tick_params(axis='y', which='both', labelleft=False)\n",
    "\n",
    "# Set a shared x-axis label (below the entire figure)\n",
    "fig.text(0.8, -0.08, 'Array MAF', ha='center', fontsize=24)\n",
    "\n",
    "# Adjust layout and spacing\n",
    "plt.tight_layout(rect=[0, 0.05, 1.5, 1.5], w_pad=1)  # Adjust spacing\n",
    "plt.show()"
   ]
  },
  {
   "cell_type": "code",
   "execution_count": null,
   "metadata": {},
   "outputs": [],
   "source": []
  }
 ],
 "metadata": {
  "kernelspec": {
   "display_name": "Python 3 (ipykernel)",
   "language": "python",
   "name": "python3"
  },
  "language_info": {
   "codemirror_mode": {
    "name": "ipython",
    "version": 3
   },
   "file_extension": ".py",
   "mimetype": "text/x-python",
   "name": "python",
   "nbconvert_exporter": "python",
   "pygments_lexer": "ipython3",
   "version": "3.10.9"
  },
  "toc": {
   "base_numbering": 1,
   "nav_menu": {},
   "number_sections": true,
   "sideBar": true,
   "skip_h1_title": false,
   "title_cell": "Table of Contents",
   "title_sidebar": "Contents",
   "toc_cell": false,
   "toc_position": {},
   "toc_section_display": true,
   "toc_window_display": false
  }
 },
 "nbformat": 4,
 "nbformat_minor": 2
}
