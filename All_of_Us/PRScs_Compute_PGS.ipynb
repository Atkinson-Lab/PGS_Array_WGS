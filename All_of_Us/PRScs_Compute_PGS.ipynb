{
 "cells": [
  {
   "cell_type": "code",
   "execution_count": 1,
   "metadata": {},
   "outputs": [
    {
     "data": {
      "text/html": [
       "    <style>\n",
       "        .bk-notebook-logo {\n",
       "            display: block;\n",
       "            width: 20px;\n",
       "            height: 20px;\n",
       "            background-image: url(data:image/png;base64,iVBORw0KGgoAAAANSUhEUgAAABQAAAAUCAYAAACNiR0NAAAABHNCSVQICAgIfAhkiAAAAAlwSFlzAAALEgAACxIB0t1+/AAAABx0RVh0U29mdHdhcmUAQWRvYmUgRmlyZXdvcmtzIENTNui8sowAAAOkSURBVDiNjZRtaJVlGMd/1/08zzln5zjP1LWcU9N0NkN8m2CYjpgQYQXqSs0I84OLIC0hkEKoPtiH3gmKoiJDU7QpLgoLjLIQCpEsNJ1vqUOdO7ppbuec5+V+rj4ctwzd8IIbbi6u+8f1539dt3A78eXC7QizUF7gyV1fD1Yqg4JWz84yffhm0qkFqBogB9rM8tZdtwVsPUhWhGcFJngGeWrPzHm5oaMmkfEg1usvLFyc8jLRqDOMru7AyC8saQr7GG7f5fvDeH7Ej8CM66nIF+8yngt6HWaKh7k49Soy9nXurCi1o3qUbS3zWfrYeQDTB/Qj6kX6Ybhw4B+bOYoLKCC9H3Nu/leUTZ1JdRWkkn2ldcCamzrcf47KKXdAJllSlxAOkRgyHsGC/zRday5Qld9DyoM4/q/rUoy/CXh3jzOu3bHUVZeU+DEn8FInkPBFlu3+nW3Nw0mk6vCDiWg8CeJaxEwuHS3+z5RgY+YBR6V1Z1nxSOfoaPa4LASWxxdNp+VWTk7+4vzaou8v8PN+xo+KY2xsw6une2frhw05CTYOmQvsEhjhWjn0bmXPjpE1+kplmmkP3suftwTubK9Vq22qKmrBhpY4jvd5afdRA3wGjFAgcnTK2s4hY0/GPNIb0nErGMCRxWOOX64Z8RAC4oCXdklmEvcL8o0BfkNK4lUg9HTl+oPlQxdNo3Mg4Nv175e/1LDGzZen30MEjRUtmXSfiTVu1kK8W4txyV6BMKlbgk3lMwYCiusNy9fVfvvwMxv8Ynl6vxoByANLTWplvuj/nF9m2+PDtt1eiHPBr1oIfhCChQMBw6Aw0UulqTKZdfVvfG7VcfIqLG9bcldL/+pdWTLxLUy8Qq38heUIjh4XlzZxzQm19lLFlr8vdQ97rjZVOLf8nclzckbcD4wxXMidpX30sFd37Fv/GtwwhzhxGVAprjbg0gCAEeIgwCZyTV2Z1REEW8O4py0wsjeloKoMr6iCY6dP92H6Vw/oTyICIthibxjm/DfN9lVz8IqtqKYLUXfoKVMVQVVJOElGjrnnUt9T9wbgp8AyYKaGlqingHZU/uG2NTZSVqwHQTWkx9hxjkpWDaCg6Ckj5qebgBVbT3V3NNXMSiWSDdGV3hrtzla7J+duwPOToIg42ChPQOQjspnSlp1V+Gjdged7+8UN5CRAV7a5EdFNwCjEaBR27b3W890TE7g24NAP/mMDXRWrGoFPQI9ls/MWO2dWFAar/xcOIImbbpA3zgAAAABJRU5ErkJggg==);\n",
       "        }\n",
       "    </style>\n",
       "    <div>\n",
       "        <a href=\"https://bokeh.org\" target=\"_blank\" class=\"bk-notebook-logo\"></a>\n",
       "        <span id=\"d7dc69a3-e6ae-4921-9b28-c20ba2ba359e\">Loading BokehJS ...</span>\n",
       "    </div>\n"
      ]
     },
     "metadata": {},
     "output_type": "display_data"
    },
    {
     "data": {
      "application/javascript": [
       "'use strict';\n",
       "(function(root) {\n",
       "  function now() {\n",
       "    return new Date();\n",
       "  }\n",
       "\n",
       "  const force = true;\n",
       "\n",
       "  if (typeof root._bokeh_onload_callbacks === \"undefined\" || force === true) {\n",
       "    root._bokeh_onload_callbacks = [];\n",
       "    root._bokeh_is_loading = undefined;\n",
       "  }\n",
       "\n",
       "const JS_MIME_TYPE = 'application/javascript';\n",
       "  const HTML_MIME_TYPE = 'text/html';\n",
       "  const EXEC_MIME_TYPE = 'application/vnd.bokehjs_exec.v0+json';\n",
       "  const CLASS_NAME = 'output_bokeh rendered_html';\n",
       "\n",
       "  /**\n",
       "   * Render data to the DOM node\n",
       "   */\n",
       "  function render(props, node) {\n",
       "    const script = document.createElement(\"script\");\n",
       "    node.appendChild(script);\n",
       "  }\n",
       "\n",
       "  /**\n",
       "   * Handle when an output is cleared or removed\n",
       "   */\n",
       "  function handleClearOutput(event, handle) {\n",
       "    function drop(id) {\n",
       "      const view = Bokeh.index.get_by_id(id)\n",
       "      if (view != null) {\n",
       "        view.model.document.clear()\n",
       "        Bokeh.index.delete(view)\n",
       "      }\n",
       "    }\n",
       "\n",
       "    const cell = handle.cell;\n",
       "\n",
       "    const id = cell.output_area._bokeh_element_id;\n",
       "    const server_id = cell.output_area._bokeh_server_id;\n",
       "\n",
       "    // Clean up Bokeh references\n",
       "    if (id != null) {\n",
       "      drop(id)\n",
       "    }\n",
       "\n",
       "    if (server_id !== undefined) {\n",
       "      // Clean up Bokeh references\n",
       "      const cmd_clean = \"from bokeh.io.state import curstate; print(curstate().uuid_to_server['\" + server_id + \"'].get_sessions()[0].document.roots[0]._id)\";\n",
       "      cell.notebook.kernel.execute(cmd_clean, {\n",
       "        iopub: {\n",
       "          output: function(msg) {\n",
       "            const id = msg.content.text.trim()\n",
       "            drop(id)\n",
       "          }\n",
       "        }\n",
       "      });\n",
       "      // Destroy server and session\n",
       "      const cmd_destroy = \"import bokeh.io.notebook as ion; ion.destroy_server('\" + server_id + \"')\";\n",
       "      cell.notebook.kernel.execute(cmd_destroy);\n",
       "    }\n",
       "  }\n",
       "\n",
       "  /**\n",
       "   * Handle when a new output is added\n",
       "   */\n",
       "  function handleAddOutput(event, handle) {\n",
       "    const output_area = handle.output_area;\n",
       "    const output = handle.output;\n",
       "\n",
       "    // limit handleAddOutput to display_data with EXEC_MIME_TYPE content only\n",
       "    if ((output.output_type != \"display_data\") || (!Object.prototype.hasOwnProperty.call(output.data, EXEC_MIME_TYPE))) {\n",
       "      return\n",
       "    }\n",
       "\n",
       "    const toinsert = output_area.element.find(\".\" + CLASS_NAME.split(' ')[0]);\n",
       "\n",
       "    if (output.metadata[EXEC_MIME_TYPE][\"id\"] !== undefined) {\n",
       "      toinsert[toinsert.length - 1].firstChild.textContent = output.data[JS_MIME_TYPE];\n",
       "      // store reference to embed id on output_area\n",
       "      output_area._bokeh_element_id = output.metadata[EXEC_MIME_TYPE][\"id\"];\n",
       "    }\n",
       "    if (output.metadata[EXEC_MIME_TYPE][\"server_id\"] !== undefined) {\n",
       "      const bk_div = document.createElement(\"div\");\n",
       "      bk_div.innerHTML = output.data[HTML_MIME_TYPE];\n",
       "      const script_attrs = bk_div.children[0].attributes;\n",
       "      for (let i = 0; i < script_attrs.length; i++) {\n",
       "        toinsert[toinsert.length - 1].firstChild.setAttribute(script_attrs[i].name, script_attrs[i].value);\n",
       "        toinsert[toinsert.length - 1].firstChild.textContent = bk_div.children[0].textContent\n",
       "      }\n",
       "      // store reference to server id on output_area\n",
       "      output_area._bokeh_server_id = output.metadata[EXEC_MIME_TYPE][\"server_id\"];\n",
       "    }\n",
       "  }\n",
       "\n",
       "  function register_renderer(events, OutputArea) {\n",
       "\n",
       "    function append_mime(data, metadata, element) {\n",
       "      // create a DOM node to render to\n",
       "      const toinsert = this.create_output_subarea(\n",
       "        metadata,\n",
       "        CLASS_NAME,\n",
       "        EXEC_MIME_TYPE\n",
       "      );\n",
       "      this.keyboard_manager.register_events(toinsert);\n",
       "      // Render to node\n",
       "      const props = {data: data, metadata: metadata[EXEC_MIME_TYPE]};\n",
       "      render(props, toinsert[toinsert.length - 1]);\n",
       "      element.append(toinsert);\n",
       "      return toinsert\n",
       "    }\n",
       "\n",
       "    /* Handle when an output is cleared or removed */\n",
       "    events.on('clear_output.CodeCell', handleClearOutput);\n",
       "    events.on('delete.Cell', handleClearOutput);\n",
       "\n",
       "    /* Handle when a new output is added */\n",
       "    events.on('output_added.OutputArea', handleAddOutput);\n",
       "\n",
       "    /**\n",
       "     * Register the mime type and append_mime function with output_area\n",
       "     */\n",
       "    OutputArea.prototype.register_mime_type(EXEC_MIME_TYPE, append_mime, {\n",
       "      /* Is output safe? */\n",
       "      safe: true,\n",
       "      /* Index of renderer in `output_area.display_order` */\n",
       "      index: 0\n",
       "    });\n",
       "  }\n",
       "\n",
       "  // register the mime type if in Jupyter Notebook environment and previously unregistered\n",
       "  if (root.Jupyter !== undefined) {\n",
       "    const events = require('base/js/events');\n",
       "    const OutputArea = require('notebook/js/outputarea').OutputArea;\n",
       "\n",
       "    if (OutputArea.prototype.mime_types().indexOf(EXEC_MIME_TYPE) == -1) {\n",
       "      register_renderer(events, OutputArea);\n",
       "    }\n",
       "  }\n",
       "  if (typeof (root._bokeh_timeout) === \"undefined\" || force === true) {\n",
       "    root._bokeh_timeout = Date.now() + 5000;\n",
       "    root._bokeh_failed_load = false;\n",
       "  }\n",
       "\n",
       "  const NB_LOAD_WARNING = {'data': {'text/html':\n",
       "     \"<div style='background-color: #fdd'>\\n\"+\n",
       "     \"<p>\\n\"+\n",
       "     \"BokehJS does not appear to have successfully loaded. If loading BokehJS from CDN, this \\n\"+\n",
       "     \"may be due to a slow or bad network connection. Possible fixes:\\n\"+\n",
       "     \"</p>\\n\"+\n",
       "     \"<ul>\\n\"+\n",
       "     \"<li>re-rerun `output_notebook()` to attempt to load from CDN again, or</li>\\n\"+\n",
       "     \"<li>use INLINE resources instead, as so:</li>\\n\"+\n",
       "     \"</ul>\\n\"+\n",
       "     \"<code>\\n\"+\n",
       "     \"from bokeh.resources import INLINE\\n\"+\n",
       "     \"output_notebook(resources=INLINE)\\n\"+\n",
       "     \"</code>\\n\"+\n",
       "     \"</div>\"}};\n",
       "\n",
       "  function display_loaded(error = null) {\n",
       "    const el = document.getElementById(\"d7dc69a3-e6ae-4921-9b28-c20ba2ba359e\");\n",
       "    if (el != null) {\n",
       "      const html = (() => {\n",
       "        if (typeof root.Bokeh === \"undefined\") {\n",
       "          if (error == null) {\n",
       "            return \"BokehJS is loading ...\";\n",
       "          } else {\n",
       "            return \"BokehJS failed to load.\";\n",
       "          }\n",
       "        } else {\n",
       "          const prefix = `BokehJS ${root.Bokeh.version}`;\n",
       "          if (error == null) {\n",
       "            return `${prefix} successfully loaded.`;\n",
       "          } else {\n",
       "            return `${prefix} <b>encountered errors</b> while loading and may not function as expected.`;\n",
       "          }\n",
       "        }\n",
       "      })();\n",
       "      el.innerHTML = html;\n",
       "\n",
       "      if (error != null) {\n",
       "        const wrapper = document.createElement(\"div\");\n",
       "        wrapper.style.overflow = \"auto\";\n",
       "        wrapper.style.height = \"5em\";\n",
       "        wrapper.style.resize = \"vertical\";\n",
       "        const content = document.createElement(\"div\");\n",
       "        content.style.fontFamily = \"monospace\";\n",
       "        content.style.whiteSpace = \"pre-wrap\";\n",
       "        content.style.backgroundColor = \"rgb(255, 221, 221)\";\n",
       "        content.textContent = error.stack ?? error.toString();\n",
       "        wrapper.append(content);\n",
       "        el.append(wrapper);\n",
       "      }\n",
       "    } else if (Date.now() < root._bokeh_timeout) {\n",
       "      setTimeout(() => display_loaded(error), 100);\n",
       "    }\n",
       "  }\n",
       "\n",
       "  function run_callbacks() {\n",
       "    try {\n",
       "      root._bokeh_onload_callbacks.forEach(function(callback) {\n",
       "        if (callback != null)\n",
       "          callback();\n",
       "      });\n",
       "    } finally {\n",
       "      delete root._bokeh_onload_callbacks\n",
       "    }\n",
       "    console.debug(\"Bokeh: all callbacks have finished\");\n",
       "  }\n",
       "\n",
       "  function load_libs(css_urls, js_urls, callback) {\n",
       "    if (css_urls == null) css_urls = [];\n",
       "    if (js_urls == null) js_urls = [];\n",
       "\n",
       "    root._bokeh_onload_callbacks.push(callback);\n",
       "    if (root._bokeh_is_loading > 0) {\n",
       "      console.debug(\"Bokeh: BokehJS is being loaded, scheduling callback at\", now());\n",
       "      return null;\n",
       "    }\n",
       "    if (js_urls == null || js_urls.length === 0) {\n",
       "      run_callbacks();\n",
       "      return null;\n",
       "    }\n",
       "    console.debug(\"Bokeh: BokehJS not loaded, scheduling load and callback at\", now());\n",
       "    root._bokeh_is_loading = css_urls.length + js_urls.length;\n",
       "\n",
       "    function on_load() {\n",
       "      root._bokeh_is_loading--;\n",
       "      if (root._bokeh_is_loading === 0) {\n",
       "        console.debug(\"Bokeh: all BokehJS libraries/stylesheets loaded\");\n",
       "        run_callbacks()\n",
       "      }\n",
       "    }\n",
       "\n",
       "    function on_error(url) {\n",
       "      console.error(\"failed to load \" + url);\n",
       "    }\n",
       "\n",
       "    for (let i = 0; i < css_urls.length; i++) {\n",
       "      const url = css_urls[i];\n",
       "      const element = document.createElement(\"link\");\n",
       "      element.onload = on_load;\n",
       "      element.onerror = on_error.bind(null, url);\n",
       "      element.rel = \"stylesheet\";\n",
       "      element.type = \"text/css\";\n",
       "      element.href = url;\n",
       "      console.debug(\"Bokeh: injecting link tag for BokehJS stylesheet: \", url);\n",
       "      document.body.appendChild(element);\n",
       "    }\n",
       "\n",
       "    for (let i = 0; i < js_urls.length; i++) {\n",
       "      const url = js_urls[i];\n",
       "      const element = document.createElement('script');\n",
       "      element.onload = on_load;\n",
       "      element.onerror = on_error.bind(null, url);\n",
       "      element.async = false;\n",
       "      element.src = url;\n",
       "      console.debug(\"Bokeh: injecting script tag for BokehJS library: \", url);\n",
       "      document.head.appendChild(element);\n",
       "    }\n",
       "  };\n",
       "\n",
       "  function inject_raw_css(css) {\n",
       "    const element = document.createElement(\"style\");\n",
       "    element.appendChild(document.createTextNode(css));\n",
       "    document.body.appendChild(element);\n",
       "  }\n",
       "\n",
       "  const js_urls = [\"https://cdn.bokeh.org/bokeh/release/bokeh-3.4.1.min.js\", \"https://cdn.bokeh.org/bokeh/release/bokeh-gl-3.4.1.min.js\", \"https://cdn.bokeh.org/bokeh/release/bokeh-widgets-3.4.1.min.js\", \"https://cdn.bokeh.org/bokeh/release/bokeh-tables-3.4.1.min.js\", \"https://cdn.bokeh.org/bokeh/release/bokeh-mathjax-3.4.1.min.js\"];\n",
       "  const css_urls = [];\n",
       "\n",
       "  const inline_js = [    function(Bokeh) {\n",
       "      Bokeh.set_log_level(\"info\");\n",
       "    },\n",
       "function(Bokeh) {\n",
       "    }\n",
       "  ];\n",
       "\n",
       "  function run_inline_js() {\n",
       "    if (root.Bokeh !== undefined || force === true) {\n",
       "      try {\n",
       "            for (let i = 0; i < inline_js.length; i++) {\n",
       "      inline_js[i].call(root, root.Bokeh);\n",
       "    }\n",
       "\n",
       "      } catch (error) {display_loaded(error);throw error;\n",
       "      }if (force === true) {\n",
       "        display_loaded();\n",
       "      }} else if (Date.now() < root._bokeh_timeout) {\n",
       "      setTimeout(run_inline_js, 100);\n",
       "    } else if (!root._bokeh_failed_load) {\n",
       "      console.log(\"Bokeh: BokehJS failed to load within specified timeout.\");\n",
       "      root._bokeh_failed_load = true;\n",
       "    } else if (force !== true) {\n",
       "      const cell = $(document.getElementById(\"d7dc69a3-e6ae-4921-9b28-c20ba2ba359e\")).parents('.cell').data().cell;\n",
       "      cell.output_area.append_execute_result(NB_LOAD_WARNING)\n",
       "    }\n",
       "  }\n",
       "\n",
       "  if (root._bokeh_is_loading === 0) {\n",
       "    console.debug(\"Bokeh: BokehJS loaded, going straight to plotting\");\n",
       "    run_inline_js();\n",
       "  } else {\n",
       "    load_libs(css_urls, js_urls, function() {\n",
       "      console.debug(\"Bokeh: BokehJS plotting callback run at\", now());\n",
       "      run_inline_js();\n",
       "    });\n",
       "  }\n",
       "}(window));"
      ],
      "application/vnd.bokehjs_load.v0+json": "'use strict';\n(function(root) {\n  function now() {\n    return new Date();\n  }\n\n  const force = true;\n\n  if (typeof root._bokeh_onload_callbacks === \"undefined\" || force === true) {\n    root._bokeh_onload_callbacks = [];\n    root._bokeh_is_loading = undefined;\n  }\n\n\n  if (typeof (root._bokeh_timeout) === \"undefined\" || force === true) {\n    root._bokeh_timeout = Date.now() + 5000;\n    root._bokeh_failed_load = false;\n  }\n\n  const NB_LOAD_WARNING = {'data': {'text/html':\n     \"<div style='background-color: #fdd'>\\n\"+\n     \"<p>\\n\"+\n     \"BokehJS does not appear to have successfully loaded. If loading BokehJS from CDN, this \\n\"+\n     \"may be due to a slow or bad network connection. Possible fixes:\\n\"+\n     \"</p>\\n\"+\n     \"<ul>\\n\"+\n     \"<li>re-rerun `output_notebook()` to attempt to load from CDN again, or</li>\\n\"+\n     \"<li>use INLINE resources instead, as so:</li>\\n\"+\n     \"</ul>\\n\"+\n     \"<code>\\n\"+\n     \"from bokeh.resources import INLINE\\n\"+\n     \"output_notebook(resources=INLINE)\\n\"+\n     \"</code>\\n\"+\n     \"</div>\"}};\n\n  function display_loaded(error = null) {\n    const el = document.getElementById(\"d7dc69a3-e6ae-4921-9b28-c20ba2ba359e\");\n    if (el != null) {\n      const html = (() => {\n        if (typeof root.Bokeh === \"undefined\") {\n          if (error == null) {\n            return \"BokehJS is loading ...\";\n          } else {\n            return \"BokehJS failed to load.\";\n          }\n        } else {\n          const prefix = `BokehJS ${root.Bokeh.version}`;\n          if (error == null) {\n            return `${prefix} successfully loaded.`;\n          } else {\n            return `${prefix} <b>encountered errors</b> while loading and may not function as expected.`;\n          }\n        }\n      })();\n      el.innerHTML = html;\n\n      if (error != null) {\n        const wrapper = document.createElement(\"div\");\n        wrapper.style.overflow = \"auto\";\n        wrapper.style.height = \"5em\";\n        wrapper.style.resize = \"vertical\";\n        const content = document.createElement(\"div\");\n        content.style.fontFamily = \"monospace\";\n        content.style.whiteSpace = \"pre-wrap\";\n        content.style.backgroundColor = \"rgb(255, 221, 221)\";\n        content.textContent = error.stack ?? error.toString();\n        wrapper.append(content);\n        el.append(wrapper);\n      }\n    } else if (Date.now() < root._bokeh_timeout) {\n      setTimeout(() => display_loaded(error), 100);\n    }\n  }\n\n  function run_callbacks() {\n    try {\n      root._bokeh_onload_callbacks.forEach(function(callback) {\n        if (callback != null)\n          callback();\n      });\n    } finally {\n      delete root._bokeh_onload_callbacks\n    }\n    console.debug(\"Bokeh: all callbacks have finished\");\n  }\n\n  function load_libs(css_urls, js_urls, callback) {\n    if (css_urls == null) css_urls = [];\n    if (js_urls == null) js_urls = [];\n\n    root._bokeh_onload_callbacks.push(callback);\n    if (root._bokeh_is_loading > 0) {\n      console.debug(\"Bokeh: BokehJS is being loaded, scheduling callback at\", now());\n      return null;\n    }\n    if (js_urls == null || js_urls.length === 0) {\n      run_callbacks();\n      return null;\n    }\n    console.debug(\"Bokeh: BokehJS not loaded, scheduling load and callback at\", now());\n    root._bokeh_is_loading = css_urls.length + js_urls.length;\n\n    function on_load() {\n      root._bokeh_is_loading--;\n      if (root._bokeh_is_loading === 0) {\n        console.debug(\"Bokeh: all BokehJS libraries/stylesheets loaded\");\n        run_callbacks()\n      }\n    }\n\n    function on_error(url) {\n      console.error(\"failed to load \" + url);\n    }\n\n    for (let i = 0; i < css_urls.length; i++) {\n      const url = css_urls[i];\n      const element = document.createElement(\"link\");\n      element.onload = on_load;\n      element.onerror = on_error.bind(null, url);\n      element.rel = \"stylesheet\";\n      element.type = \"text/css\";\n      element.href = url;\n      console.debug(\"Bokeh: injecting link tag for BokehJS stylesheet: \", url);\n      document.body.appendChild(element);\n    }\n\n    for (let i = 0; i < js_urls.length; i++) {\n      const url = js_urls[i];\n      const element = document.createElement('script');\n      element.onload = on_load;\n      element.onerror = on_error.bind(null, url);\n      element.async = false;\n      element.src = url;\n      console.debug(\"Bokeh: injecting script tag for BokehJS library: \", url);\n      document.head.appendChild(element);\n    }\n  };\n\n  function inject_raw_css(css) {\n    const element = document.createElement(\"style\");\n    element.appendChild(document.createTextNode(css));\n    document.body.appendChild(element);\n  }\n\n  const js_urls = [\"https://cdn.bokeh.org/bokeh/release/bokeh-3.4.1.min.js\", \"https://cdn.bokeh.org/bokeh/release/bokeh-gl-3.4.1.min.js\", \"https://cdn.bokeh.org/bokeh/release/bokeh-widgets-3.4.1.min.js\", \"https://cdn.bokeh.org/bokeh/release/bokeh-tables-3.4.1.min.js\", \"https://cdn.bokeh.org/bokeh/release/bokeh-mathjax-3.4.1.min.js\"];\n  const css_urls = [];\n\n  const inline_js = [    function(Bokeh) {\n      Bokeh.set_log_level(\"info\");\n    },\nfunction(Bokeh) {\n    }\n  ];\n\n  function run_inline_js() {\n    if (root.Bokeh !== undefined || force === true) {\n      try {\n            for (let i = 0; i < inline_js.length; i++) {\n      inline_js[i].call(root, root.Bokeh);\n    }\n\n      } catch (error) {display_loaded(error);throw error;\n      }if (force === true) {\n        display_loaded();\n      }} else if (Date.now() < root._bokeh_timeout) {\n      setTimeout(run_inline_js, 100);\n    } else if (!root._bokeh_failed_load) {\n      console.log(\"Bokeh: BokehJS failed to load within specified timeout.\");\n      root._bokeh_failed_load = true;\n    } else if (force !== true) {\n      const cell = $(document.getElementById(\"d7dc69a3-e6ae-4921-9b28-c20ba2ba359e\")).parents('.cell').data().cell;\n      cell.output_area.append_execute_result(NB_LOAD_WARNING)\n    }\n  }\n\n  if (root._bokeh_is_loading === 0) {\n    console.debug(\"Bokeh: BokehJS loaded, going straight to plotting\");\n    run_inline_js();\n  } else {\n    load_libs(css_urls, js_urls, function() {\n      console.debug(\"Bokeh: BokehJS plotting callback run at\", now());\n      run_inline_js();\n    });\n  }\n}(window));"
     },
     "metadata": {},
     "output_type": "display_data"
    }
   ],
   "source": [
    "## import packages\n",
    "from datetime import datetime\n",
    "import os\n",
    "import pandas as pd\n",
    "import numpy as np\n",
    "from itertools import chain\n",
    "import hail as hl\n",
    "import statsmodels.api as sm"
   ]
  },
  {
   "cell_type": "code",
   "execution_count": null,
   "metadata": {},
   "outputs": [],
   "source": [
    "DATASET = os.getenv('WORKSPACE_CDR')\n",
    "bucket = os.getenv('WORKSPACE_BUCKET')"
   ]
  },
  {
   "cell_type": "markdown",
   "metadata": {
    "heading_collapsed": true
   },
   "source": [
    "## Array PGS"
   ]
  },
  {
   "cell_type": "code",
   "execution_count": 3,
   "metadata": {
    "hidden": true
   },
   "outputs": [
    {
     "name": "stderr",
     "output_type": "stream",
     "text": [
      "Initializing Hail with default parameters...\n",
      "/opt/conda/lib/python3.10/site-packages/hailtop/aiocloud/aiogoogle/user_config.py:43: UserWarning:\n",
      "\n",
      "Reading spark-defaults.conf to determine GCS requester pays configuration. This is deprecated. Please use `hailctl config set gcs_requester_pays/project` and `hailctl config set gcs_requester_pays/buckets`.\n",
      "\n",
      "Setting default log level to \"WARN\".\n",
      "To adjust logging level use sc.setLogLevel(newLevel). For SparkR, use setLogLevel(newLevel).\n",
      "Running on Apache Spark version 3.3.0\n",
      "SparkUI available at http://all-of-us-11150-m.us-central1-b.c.terra-vpc-sc-fd39b54c.internal:45861\n",
      "Welcome to\n",
      "     __  __     <>__\n",
      "    / /_/ /__  __/ /\n",
      "   / __  / _ `/ / /\n",
      "  /_/ /_/\\_,_/_/_/   version 0.2.130.post1-c69cd67afb8b\n",
      "LOGGING: writing to /home/jupyter/workspaces/prswithwgsvsarraydata/hail-20241214-0449-0.2.130.post1-c69cd67afb8b.log\n"
     ]
    }
   ],
   "source": [
    "# read matrix table \n",
    "mt_array = hl.read_matrix_table(f\"{bucket}/ArrayData/Array_GT_QCed.mt\")"
   ]
  },
  {
   "cell_type": "code",
   "execution_count": 5,
   "metadata": {
    "hidden": true
   },
   "outputs": [
    {
     "name": "stderr",
     "output_type": "stream",
     "text": [
      "2024-12-14 04:49:49.990 Hail: INFO: Reading table to impute column types 1) / 1]\n",
      "2024-12-14 04:49:54.707 Hail: INFO: Loading <StructExpression of type struct{person_id: str, Age: int32, is_sex_Male: int32, is_sex_Female: int32, is_White: int32, is_Black_or_African_American: int32, is_Native_Hawaiian_or_Other_Pacific_Islander: int32, is_Asian: int32, is_Middle_Eastern_or_North_African: int32, is_gender_Male: int32, is_gender_Female: int32, is_Hispanic: int32, is_anc_pred_eur: int32, is_anc_pred_amr: int32, is_anc_pred_afr: int32, is_anc_pred_sas: int32, is_anc_pred_eas: int32, is_anc_pred_mid: int32, PC1: float64, PC2: float64, PC3: float64, PC4: float64, PC5: float64, PC6: float64, PC7: float64, PC8: float64, PC9: float64, PC10: float64, PC11: float64, PC12: float64, PC13: float64, PC14: float64, PC15: float64, PC16: float64, BMI: float64, Height: float64, DBP: float64, SBP: float64, HbA1c: float64, leukocyte: float64, Lymphocyte: float64, RBC: float64, Neutrophil: float64, Hemoglobin_concentration: float64, hematocrit_percentage: float64, Eosinophil: float64, Platelet: float64, Monocyte: float64, MCV: float64, MCH: float64, Basophil: float64, MCHC: float64, HDL: float64, LDL: float64, TC: float64, TG: float64, eur_bin: int32, amr_bin: int32, afr_bin: int32, oth_bin: int32, sas_bin: int32, eas_bin: int32, mid_bin: int32}> fields. Counts by type:\n",
      "  float64: 38\n",
      "  int32: 24\n",
      "  str: 1\n",
      "2024-12-14 04:49:55.928 Hail: INFO: Reading table to impute column types\n",
      "2024-12-14 04:49:59.407 Hail: INFO: Loading <StructExpression of type struct{person_id: str, Age: int32, is_sex_Male: int32, is_sex_Female: int32, is_White: int32, is_Black_or_African_American: int32, is_Native_Hawaiian_or_Other_Pacific_Islander: int32, is_Asian: int32, is_Middle_Eastern_or_North_African: int32, is_gender_Male: int32, is_gender_Female: int32, is_Hispanic: int32, is_anc_pred_eur: int32, is_anc_pred_amr: int32, is_anc_pred_afr: int32, is_anc_pred_sas: int32, is_anc_pred_eas: int32, is_anc_pred_mid: int32, PC1: float64, PC2: float64, PC3: float64, PC4: float64, PC5: float64, PC6: float64, PC7: float64, PC8: float64, PC9: float64, PC10: float64, PC11: float64, PC12: float64, PC13: float64, PC14: float64, PC15: float64, PC16: float64, Asthma: float64, Breast_Cancer: float64, CHD: float64, Colorectal_Cancer: int32, Prostate_Cancer: int32, T2D: float64, T1D: float64, eur_bin: int32, amr_bin: int32, afr_bin: int32, oth_bin: int32, sas_bin: int32, eas_bin: int32, mid_bin: int32}> fields. Counts by type:\n",
      "  int32: 26\n",
      "  float64: 21\n",
      "  str: 1\n"
     ]
    }
   ],
   "source": [
    "## read Sample_quant \n",
    "Sample_quant = hl.import_table(f\"{bucket}/Pheno/quant_all.tsv\", \n",
    "                         missing='',\n",
    "                        impute=True,\n",
    "                        types = {\"person_id\": \"str\"})\n",
    "Sample_quant = Sample_quant.key_by(\"person_id\")\n",
    "mt_array_quant = mt_array.semi_join_cols(Sample_quant)\n",
    "mt_array_quant = mt_array_quant.annotate_cols(**Sample_quant[mt_array_quant.s])\n",
    "\n",
    "\n",
    "#### read Sample_binary\n",
    "Sample_binary = hl.import_table(f\"{bucket}/Pheno/binary_all.tsv\", \n",
    "                         missing='',\n",
    "                        impute=True,\n",
    "                        types = {\"person_id\": \"str\"})\n",
    "Sample_binary = Sample_binary.key_by(\"person_id\")\n",
    "mt_array_binary = mt_array.semi_join_cols(Sample_binary)\n",
    "mt_array_binary = mt_array_binary.annotate_cols(**Sample_binary[mt_array_binary.s])"
   ]
  },
  {
   "cell_type": "code",
   "execution_count": 6,
   "metadata": {
    "hidden": true
   },
   "outputs": [],
   "source": [
    "db = hl.experimental.DB(region='us-central1', cloud='gcp')\n",
    "mt_array_quant = db.annotate_rows_db(mt_array_quant, 'dbSNP_rsid') \n",
    "\n",
    "# Simplify the format of array<struct{rsid: str}> to a delimited string\n",
    "mt_array_quant = mt_array_quant.annotate_rows(rsID=hl.delimit(mt_array_quant.dbSNP_rsid.map(lambda x: x.rsid), delimiter=\",\"))\n",
    "mt_array_quant = mt_array_quant.key_rows_by('rsID')"
   ]
  },
  {
   "cell_type": "code",
   "execution_count": 7,
   "metadata": {
    "hidden": true
   },
   "outputs": [],
   "source": [
    "db = hl.experimental.DB(region='us-central1', cloud='gcp')\n",
    "mt_array_binary = db.annotate_rows_db(mt_array_binary, 'dbSNP_rsid') \n",
    "\n",
    "# Simplify the format of array<struct{rsid: str}> to a delimited string\n",
    "mt_array_binary = mt_array_binary.annotate_rows(rsID=hl.delimit(mt_array_binary.dbSNP_rsid.map(lambda x: x.rsid), delimiter=\",\"))\n",
    "mt_array_binary = mt_array_binary.key_rows_by('rsID')"
   ]
  },
  {
   "cell_type": "code",
   "execution_count": 8,
   "metadata": {
    "hidden": true
   },
   "outputs": [
    {
     "name": "stdout",
     "output_type": "stream",
     "text": [
      "Processing phenotype: Height\n"
     ]
    },
    {
     "name": "stderr",
     "output_type": "stream",
     "text": [
      "2024-12-14 04:50:04.565 Hail: INFO: Reading table to impute column types\n",
      "2024-12-14 04:50:06.059 Hail: INFO: Finished type imputation        (0 + 1) / 1]\n",
      "  Loading field 'CHR' as type int32 (imputed)\n",
      "  Loading field 'rsID' as type str (imputed)\n",
      "  Loading field 'BP' as type int32 (imputed)\n",
      "  Loading field 'A1_alt' as type str (imputed)\n",
      "  Loading field 'A2_ref' as type str (imputed)\n",
      "  Loading field 'BETA_posterior' as type float64 (imputed)\n"
     ]
    },
    {
     "name": "stdout",
     "output_type": "stream",
     "text": [
      "Processing phenotype: DBP\n"
     ]
    },
    {
     "name": "stderr",
     "output_type": "stream",
     "text": [
      "2024-12-14 04:50:07.067 Hail: INFO: Reading table to impute column types\n",
      "2024-12-14 04:50:08.658 Hail: INFO: Finished type imputation        (0 + 1) / 1]\n",
      "  Loading field 'CHR' as type int32 (imputed)\n",
      "  Loading field 'rsID' as type str (imputed)\n",
      "  Loading field 'BP' as type int32 (imputed)\n",
      "  Loading field 'A1_alt' as type str (imputed)\n",
      "  Loading field 'A2_ref' as type str (imputed)\n",
      "  Loading field 'BETA_posterior' as type float64 (imputed)\n"
     ]
    },
    {
     "name": "stdout",
     "output_type": "stream",
     "text": [
      "Processing phenotype: HDL\n"
     ]
    },
    {
     "name": "stderr",
     "output_type": "stream",
     "text": [
      "2024-12-14 04:50:09.503 Hail: INFO: Reading table to impute column types\n",
      "2024-12-14 04:50:10.991 Hail: INFO: Finished type imputation        (0 + 1) / 1]\n",
      "  Loading field 'CHR' as type int32 (imputed)\n",
      "  Loading field 'rsID' as type str (imputed)\n",
      "  Loading field 'BP' as type int32 (imputed)\n",
      "  Loading field 'A1_alt' as type str (imputed)\n",
      "  Loading field 'A2_ref' as type str (imputed)\n",
      "  Loading field 'BETA_posterior' as type float64 (imputed)\n"
     ]
    },
    {
     "name": "stdout",
     "output_type": "stream",
     "text": [
      "Processing phenotype: TC\n"
     ]
    },
    {
     "name": "stderr",
     "output_type": "stream",
     "text": [
      "2024-12-14 04:50:11.837 Hail: INFO: Reading table to impute column types\n",
      "2024-12-14 04:50:13.239 Hail: INFO: Finished type imputation        (0 + 1) / 1]\n",
      "  Loading field 'CHR' as type int32 (imputed)\n",
      "  Loading field 'rsID' as type str (imputed)\n",
      "  Loading field 'BP' as type int32 (imputed)\n",
      "  Loading field 'A1_alt' as type str (imputed)\n",
      "  Loading field 'A2_ref' as type str (imputed)\n",
      "  Loading field 'BETA_posterior' as type float64 (imputed)\n"
     ]
    },
    {
     "name": "stdout",
     "output_type": "stream",
     "text": [
      "Processing phenotype: RBC\n"
     ]
    },
    {
     "name": "stderr",
     "output_type": "stream",
     "text": [
      "2024-12-14 04:50:14.090 Hail: INFO: Reading table to impute column types\n",
      "2024-12-14 04:50:15.646 Hail: INFO: Finished type imputation        (0 + 1) / 1]\n",
      "  Loading field 'CHR' as type int32 (imputed)\n",
      "  Loading field 'rsID' as type str (imputed)\n",
      "  Loading field 'BP' as type int32 (imputed)\n",
      "  Loading field 'A1_alt' as type str (imputed)\n",
      "  Loading field 'A2_ref' as type str (imputed)\n",
      "  Loading field 'BETA_posterior' as type float64 (imputed)\n"
     ]
    },
    {
     "name": "stdout",
     "output_type": "stream",
     "text": [
      "Processing phenotype: leukocyte\n"
     ]
    },
    {
     "name": "stderr",
     "output_type": "stream",
     "text": [
      "2024-12-14 04:50:16.434 Hail: INFO: Reading table to impute column types\n",
      "2024-12-14 04:50:17.847 Hail: INFO: Finished type imputation        (0 + 1) / 1]\n",
      "  Loading field 'CHR' as type int32 (imputed)\n",
      "  Loading field 'rsID' as type str (imputed)\n",
      "  Loading field 'BP' as type int32 (imputed)\n",
      "  Loading field 'A1_alt' as type str (imputed)\n",
      "  Loading field 'A2_ref' as type str (imputed)\n",
      "  Loading field 'BETA_posterior' as type float64 (imputed)\n"
     ]
    }
   ],
   "source": [
    "# List of quant phenotypes\n",
    "phenotypes = [\"Height\", \"DBP\", \"HDL\", \"TC\", \"RBC\", \"leukocyte\"]\n",
    "\n",
    "# Loop through each phenotype and annotate it to the Matrix Table\n",
    "for phenotype in phenotypes:\n",
    "    print(f\"Processing phenotype: {phenotype}\")\n",
    "    \n",
    "    # Import the phenotype table\n",
    "    phenotype_table = hl.import_table(\n",
    "        f'{bucket}/PRScs/Array_{phenotype}_pst_eff_a1_b0.5_phiauto.txt',\n",
    "        impute=True\n",
    "    )\n",
    "    \n",
    "    # Key the phenotype table by 'rsID'\n",
    "    phenotype_table = phenotype_table.key_by('rsID')\n",
    "    \n",
    "    # Annotate rows in the Matrix Table with the phenotype data\n",
    "    mt_array_quant = mt_array_quant.annotate_rows(\n",
    "        **{f\"{phenotype}_PRScs_result\": phenotype_table[mt_array_quant.rsID]}\n",
    "    )"
   ]
  },
  {
   "cell_type": "code",
   "execution_count": 9,
   "metadata": {
    "hidden": true
   },
   "outputs": [
    {
     "name": "stdout",
     "output_type": "stream",
     "text": [
      "Processing phenotype: T2D\n"
     ]
    },
    {
     "name": "stderr",
     "output_type": "stream",
     "text": [
      "2024-12-14 04:50:18.758 Hail: INFO: Reading table to impute column types\n",
      "2024-12-14 04:50:20.122 Hail: INFO: Finished type imputation        (0 + 1) / 1]\n",
      "  Loading field 'CHR' as type int32 (imputed)\n",
      "  Loading field 'rsID' as type str (imputed)\n",
      "  Loading field 'BP' as type int32 (imputed)\n",
      "  Loading field 'A1_alt' as type str (imputed)\n",
      "  Loading field 'A2_ref' as type str (imputed)\n",
      "  Loading field 'BETA_posterior' as type float64 (imputed)\n"
     ]
    },
    {
     "name": "stdout",
     "output_type": "stream",
     "text": [
      "Processing phenotype: Asthma\n"
     ]
    },
    {
     "name": "stderr",
     "output_type": "stream",
     "text": [
      "2024-12-14 04:50:20.967 Hail: INFO: Reading table to impute column types\n",
      "2024-12-14 04:50:22.384 Hail: INFO: Finished type imputation        (0 + 1) / 1]\n",
      "  Loading field 'CHR' as type int32 (imputed)\n",
      "  Loading field 'rsID' as type str (imputed)\n",
      "  Loading field 'BP' as type int32 (imputed)\n",
      "  Loading field 'A1_alt' as type str (imputed)\n",
      "  Loading field 'A2_ref' as type str (imputed)\n",
      "  Loading field 'BETA_posterior' as type float64 (imputed)\n"
     ]
    },
    {
     "name": "stdout",
     "output_type": "stream",
     "text": [
      "Processing phenotype: Breast_Cancer\n"
     ]
    },
    {
     "name": "stderr",
     "output_type": "stream",
     "text": [
      "2024-12-14 04:50:23.148 Hail: INFO: Reading table to impute column types\n",
      "2024-12-14 04:50:24.523 Hail: INFO: Finished type imputation        (0 + 1) / 1]\n",
      "  Loading field 'CHR' as type int32 (imputed)\n",
      "  Loading field 'rsID' as type str (imputed)\n",
      "  Loading field 'BP' as type int32 (imputed)\n",
      "  Loading field 'A1_alt' as type str (imputed)\n",
      "  Loading field 'A2_ref' as type str (imputed)\n",
      "  Loading field 'BETA_posterior' as type float64 (imputed)\n"
     ]
    },
    {
     "name": "stdout",
     "output_type": "stream",
     "text": [
      "Processing phenotype: Colorectal_Cancer\n"
     ]
    },
    {
     "name": "stderr",
     "output_type": "stream",
     "text": [
      "2024-12-14 04:50:25.437 Hail: INFO: Reading table to impute column types\n",
      "2024-12-14 04:50:26.794 Hail: INFO: Finished type imputation        (0 + 1) / 1]\n",
      "  Loading field 'CHR' as type int32 (imputed)\n",
      "  Loading field 'rsID' as type str (imputed)\n",
      "  Loading field 'BP' as type int32 (imputed)\n",
      "  Loading field 'A1_alt' as type str (imputed)\n",
      "  Loading field 'A2_ref' as type str (imputed)\n",
      "  Loading field 'BETA_posterior' as type float64 (imputed)\n"
     ]
    }
   ],
   "source": [
    "# List of binary phenotypes\n",
    "phenotypes = [\"T2D\", \"Asthma\", \"Breast_Cancer\", \"Colorectal_Cancer\"]\n",
    "\n",
    "# Loop through each phenotype and annotate it to the Matrix Table\n",
    "for phenotype in phenotypes:\n",
    "    print(f\"Processing phenotype: {phenotype}\")\n",
    "    \n",
    "    # Import the phenotype table\n",
    "    phenotype_table = hl.import_table(\n",
    "        f'{bucket}/PRScs/Array_{phenotype}_pst_eff_a1_b0.5_phiauto.txt',\n",
    "        impute=True\n",
    "    )\n",
    "    \n",
    "    # Key the phenotype table by 'rsID'\n",
    "    phenotype_table = phenotype_table.key_by('rsID')\n",
    "    \n",
    "    # Annotate rows in the Matrix Table with the phenotype data\n",
    "    mt_array_binary = mt_array_binary.annotate_rows(\n",
    "        **{f\"{phenotype}_PRScs_result\": phenotype_table[mt_array_binary.rsID]}\n",
    "    )"
   ]
  },
  {
   "cell_type": "code",
   "execution_count": 9,
   "metadata": {
    "hidden": true
   },
   "outputs": [],
   "source": [
    "# Compute PGS\n",
    "phenotypes = [\"Height\", \"DBP\", \"HDL\", \"TC\", \"RBC\", \"leukocyte\"]\n",
    "\n",
    "# Annotate PGS for all phenotypes\n",
    "mt_array_quant = mt_array_quant.annotate_cols(**{\n",
    "    f\"{phenotype}_pgs\": hl.struct(\n",
    "        pgs=hl.agg.sum(\n",
    "            mt_array_quant[f\"{phenotype}_PRScs_result\"][\"BETA_posterior\"] * mt_array_quant.GT\n",
    "        )\n",
    "    )\n",
    "    for phenotype in phenotypes\n",
    "})"
   ]
  },
  {
   "cell_type": "code",
   "execution_count": 10,
   "metadata": {
    "hidden": true
   },
   "outputs": [],
   "source": [
    "# Compute PGS\n",
    "phenotypes = [\"T2D\", \"Asthma\", \"Breast_Cancer\", \"Colorectal_Cancer\"]\n",
    "\n",
    "# Annotate PGS for all phenotypes\n",
    "mt_array_binary = mt_array_binary.annotate_cols(**{\n",
    "    f\"{phenotype}_pgs\": hl.struct(\n",
    "        pgs=hl.agg.sum(\n",
    "            mt_array_binary[f\"{phenotype}_PRScs_result\"][\"BETA_posterior\"] * mt_array_binary.GT\n",
    "        )\n",
    "    )\n",
    "    for phenotype in phenotypes\n",
    "})"
   ]
  },
  {
   "cell_type": "code",
   "execution_count": 11,
   "metadata": {
    "hidden": true
   },
   "outputs": [],
   "source": [
    "def export_Scores(mt, pheno, mt_type, method):\n",
    "    export_filename = f\"{bucket}/Scores/\" + mt_type + \"/\" + pheno + \"_\" + method + \".bgz\"\n",
    "    sample_info = mt.cols().select(\n",
    "        \"Age\", 'is_sex_Male', 'is_sex_Female', \n",
    "        \"PC1\", \"PC2\", \"PC3\", \"PC4\", \"PC5\", \"PC6\", \"PC7\", \"PC8\", \n",
    "        \"PC9\", \"PC10\", \"PC11\", \"PC12\", \"PC13\", \"PC14\", \"PC15\", \"PC16\", \n",
    "        pheno + \"_pgs\", pheno)\n",
    "    sample_info = sample_info.annotate(**sample_info[pheno + \"_pgs\"])\n",
    "    sample_info = sample_info.drop(pheno + \"_pgs\")\n",
    "    sample_info.export(export_filename)"
   ]
  },
  {
   "cell_type": "code",
   "execution_count": 12,
   "metadata": {
    "hidden": true
   },
   "outputs": [
    {
     "name": "stderr",
     "output_type": "stream",
     "text": [
      "2024-12-01 06:59:00.778 Hail: WARN: cols(): Resulting column table is sorted by 'col_key'.\n",
      "    To preserve matrix table column order, first unkey columns with 'key_cols_by()'\n",
      "2024-12-01 07:02:45.014 Hail: INFO: Ordering unsorted dataset with network shuffle\n",
      "2024-12-01 07:02:46.329 Hail: INFO: Ordering unsorted dataset with network shuffle\n",
      "2024-12-01 07:02:51.665 Hail: INFO: wrote table with 284574 rows in 1 partition to /tmp/__iruid_28421-48U7AYn0qStGBk9Qoae8ib\n",
      "2024-12-01 07:09:18.127 Hail: INFO: Coerced sorted dataset       (48 + 16) / 64]\n",
      "2024-12-01 07:09:19.743 Hail: INFO: merging 65 files totalling 6.7M... 40) / 64]\n",
      "2024-12-01 07:09:20.233 Hail: INFO: while writing:\n",
      "    gs://fc-secure-9afe7562-2fad-4781-ab60-03528a626c19/Scores/Array/DBP_PRScs.bgz\n",
      "  merge time: 489.516ms\n",
      "2024-12-01 07:12:29.521 Hail: INFO: Ordering unsorted dataset with network shuffle\n",
      "2024-12-01 07:12:30.643 Hail: INFO: Ordering unsorted dataset with network shuffle\n",
      "2024-12-01 07:12:33.774 Hail: INFO: wrote table with 284574 rows in 1 partition to /tmp/__iruid_35005-nIFpL7cEX3gL7YOolh5IsQ\n",
      "2024-12-01 07:18:49.221 Hail: INFO: Coerced sorted dataset===>    (51 + 5) / 56]\n",
      "2024-12-01 07:18:50.806 Hail: INFO: merging 57 files totalling 6.6M... 16) / 56]\n",
      "2024-12-01 07:18:51.245 Hail: INFO: while writing:\n",
      "    gs://fc-secure-9afe7562-2fad-4781-ab60-03528a626c19/Scores/Array/HDL_PRScs.bgz\n",
      "  merge time: 438.858ms\n",
      "2024-12-01 07:21:59.578 Hail: INFO: Ordering unsorted dataset with network shuffle\n",
      "2024-12-01 07:22:00.637 Hail: INFO: Ordering unsorted dataset with network shuffle\n",
      "2024-12-01 07:22:03.513 Hail: INFO: wrote table with 284574 rows in 1 partition to /tmp/__iruid_41589-N64L7CENF0Q3G1Vlgk8gQn\n",
      "2024-12-01 07:28:39.454 Hail: INFO: Coerced sorted dataset=>      (56 + 8) / 64]\n",
      "2024-12-01 07:28:41.142 Hail: INFO: merging 65 files totalling 6.7M... 11) / 64]\n",
      "2024-12-01 07:28:41.530 Hail: INFO: while writing:\n",
      "    gs://fc-secure-9afe7562-2fad-4781-ab60-03528a626c19/Scores/Array/Height_PRScs.bgz\n",
      "  merge time: 387.169ms\n",
      "2024-12-01 07:32:00.685 Hail: INFO: Ordering unsorted dataset with network shuffle\n",
      "2024-12-01 07:32:01.924 Hail: INFO: Ordering unsorted dataset with network shuffle\n",
      "2024-12-01 07:32:04.660 Hail: INFO: wrote table with 284574 rows in 1 partition to /tmp/__iruid_48173-4uVDFfTZssvQHTQfhaWNzN\n",
      "2024-12-01 07:38:15.480 Hail: INFO: Coerced sorted dataset=======>(71 + 1) / 72]\n",
      "2024-12-01 07:38:16.954 Hail: INFO: merging 73 files totalling 6.7M...+ 4) / 72]\n",
      "2024-12-01 07:38:17.345 Hail: INFO: while writing:\n",
      "    gs://fc-secure-9afe7562-2fad-4781-ab60-03528a626c19/Scores/Array/RBC_PRScs.bgz\n",
      "  merge time: 390.260ms\n",
      "2024-12-01 07:41:18.392 Hail: INFO: Ordering unsorted dataset with network shuffle\n",
      "2024-12-01 07:41:19.478 Hail: INFO: Ordering unsorted dataset with network shuffle\n",
      "2024-12-01 07:41:22.501 Hail: INFO: wrote table with 284574 rows in 1 partition to /tmp/__iruid_54757-qPLtGf4i2hI4IDDCgwBypl\n",
      "2024-12-01 07:47:25.146 Hail: INFO: Coerced sorted dataset       (64 + 16) / 80]\n",
      "2024-12-01 07:47:26.635 Hail: INFO: merging 81 files totalling 6.6M... 15) / 80]\n",
      "2024-12-01 07:47:27.099 Hail: INFO: while writing:\n",
      "    gs://fc-secure-9afe7562-2fad-4781-ab60-03528a626c19/Scores/Array/TC_PRScs.bgz\n",
      "  merge time: 463.951ms\n",
      "2024-12-01 07:50:11.938 Hail: INFO: Ordering unsorted dataset with network shuffle\n",
      "2024-12-01 07:50:13.082 Hail: INFO: Ordering unsorted dataset with network shuffle\n",
      "2024-12-01 07:50:15.634 Hail: INFO: wrote table with 284574 rows in 1 partition to /tmp/__iruid_61341-9cwCXCGqUBBnTlu6mPO6SY\n",
      "2024-12-01 07:56:01.365 Hail: INFO: Coerced sorted dataset=>      (64 + 8) / 72]\n",
      "2024-12-01 07:56:02.837 Hail: INFO: merging 73 files totalling 6.7M...+ 9) / 72]\n",
      "2024-12-01 07:56:03.177 Hail: INFO: while writing:\n",
      "    gs://fc-secure-9afe7562-2fad-4781-ab60-03528a626c19/Scores/Array/leukocyte_PRScs.bgz\n",
      "  merge time: 339.653ms\n",
      "2024-12-01 07:58:55.527 Hail: INFO: Ordering unsorted dataset with network shuffle\n",
      "2024-12-01 07:58:56.701 Hail: INFO: Ordering unsorted dataset with network shuffle\n",
      "2024-12-01 07:58:59.409 Hail: INFO: wrote table with 284574 rows in 1 partition to /tmp/__iruid_67815-bWsuKVfhQsdaD9uMPZGLJ3\n",
      "2024-12-01 08:05:08.349 Hail: INFO: Coerced sorted dataset       (64 + 16) / 80]\n",
      "2024-12-01 08:05:09.806 Hail: INFO: merging 81 files totalling 6.6M... 16) / 80]\n",
      "2024-12-01 08:05:10.239 Hail: INFO: while writing:\n",
      "    gs://fc-secure-9afe7562-2fad-4781-ab60-03528a626c19/Scores/Array/T2D_PRScs.bgz\n",
      "  merge time: 432.255ms\n",
      "2024-12-01 08:07:49.931 Hail: INFO: Ordering unsorted dataset with network shuffle\n",
      "2024-12-01 08:07:51.058 Hail: INFO: Ordering unsorted dataset with network shuffle\n",
      "2024-12-01 08:07:53.864 Hail: INFO: wrote table with 284574 rows in 1 partition to /tmp/__iruid_74289-y3yQwL7fDGYjRiHTu2J02Q\n",
      "2024-12-01 08:13:52.804 Hail: INFO: Coerced sorted dataset       (40 + 24) / 64]\n",
      "2024-12-01 08:13:54.449 Hail: INFO: merging 65 files totalling 6.6M... 25) / 64]\n",
      "2024-12-01 08:13:54.789 Hail: INFO: while writing:\n",
      "    gs://fc-secure-9afe7562-2fad-4781-ab60-03528a626c19/Scores/Array/Asthma_PRScs.bgz\n",
      "  merge time: 339.228ms\n",
      "2024-12-01 08:16:48.697 Hail: INFO: Ordering unsorted dataset with network shuffle\n",
      "2024-12-01 08:16:49.776 Hail: INFO: Ordering unsorted dataset with network shuffle\n",
      "2024-12-01 08:16:53.264 Hail: INFO: wrote table with 284574 rows in 1 partition to /tmp/__iruid_80763-uKESaixL1KZv0WH23YjnGr\n",
      "2024-12-01 08:23:02.164 Hail: INFO: Coerced sorted dataset       (64 + 16) / 80]\n",
      "2024-12-01 08:23:03.532 Hail: INFO: merging 81 files totalling 6.6M... 16) / 80]\n",
      "2024-12-01 08:23:03.881 Hail: INFO: while writing:\n",
      "    gs://fc-secure-9afe7562-2fad-4781-ab60-03528a626c19/Scores/Array/Breast_Cancer_PRScs.bgz\n",
      "  merge time: 349.276ms\n",
      "2024-12-01 08:26:01.617 Hail: INFO: Ordering unsorted dataset with network shuffle\n",
      "2024-12-01 08:26:02.727 Hail: INFO: Ordering unsorted dataset with network shuffle\n",
      "2024-12-01 08:26:05.872 Hail: INFO: wrote table with 284572 rows in 1 partition to /tmp/__iruid_87237-CDfh2aUgrPKkQjWiwgbgB5\n",
      "2024-12-01 08:32:09.434 Hail: INFO: Coerced sorted dataset===>    (74 + 6) / 80]\n",
      "2024-12-01 08:32:10.930 Hail: INFO: merging 81 files totalling 6.5M...+ 7) / 80]\n",
      "2024-12-01 08:32:11.288 Hail: INFO: while writing:\n",
      "    gs://fc-secure-9afe7562-2fad-4781-ab60-03528a626c19/Scores/Array/Colorectal_Cancer_PRScs.bgz\n",
      "  merge time: 358.523ms\n"
     ]
    }
   ],
   "source": [
    "export_Scores(mt_array_quant, \"DBP\", \"Array\", \"PRScs\")\n",
    "export_Scores(mt_array_quant, \"HDL\", \"Array\", \"PRScs\")\n",
    "export_Scores(mt_array_quant, \"Height\", \"Array\", \"PRScs\")\n",
    "export_Scores(mt_array_quant, \"RBC\", \"Array\", \"PRScs\")\n",
    "export_Scores(mt_array_quant, \"TC\", \"Array\", \"PRScs\")\n",
    "export_Scores(mt_array_quant, \"leukocyte\", \"Array\", \"PRScs\")\n",
    "\n",
    "export_Scores(mt_array_binary, \"T2D\", \"Array\", \"PRScs\")\n",
    "export_Scores(mt_array_binary, \"Asthma\", \"Array\", \"PRScs\")\n",
    "export_Scores(mt_array_binary, \"Breast_Cancer\", \"Array\", \"PRScs\")\n",
    "export_Scores(mt_array_binary, \"Colorectal_Cancer\", \"Array\", \"PRScs\")"
   ]
  },
  {
   "cell_type": "code",
   "execution_count": 13,
   "metadata": {
    "hidden": true
   },
   "outputs": [
    {
     "name": "stderr",
     "output_type": "stream",
     "text": [
      "Copying gs://fc-secure-9afe7562-2fad-4781-ab60-03528a626c19/Scores/Array/DBP_PRScs.bgz [Content-Type=application/octet-stream]...\n",
      "Removing gs://fc-secure-9afe7562-2fad-4781-ab60-03528a626c19/Scores/Array/DBP_PRScs.bgz...\n",
      "\n",
      "Operation completed over 1 objects/6.7 MiB.                                      \n",
      "Copying gs://fc-secure-9afe7562-2fad-4781-ab60-03528a626c19/Scores/Array/HDL_PRScs.bgz [Content-Type=application/octet-stream]...\n",
      "Removing gs://fc-secure-9afe7562-2fad-4781-ab60-03528a626c19/Scores/Array/HDL_PRScs.bgz...\n",
      "\n",
      "Operation completed over 1 objects/6.6 MiB.                                      \n",
      "Copying gs://fc-secure-9afe7562-2fad-4781-ab60-03528a626c19/Scores/Array/Height_PRScs.bgz [Content-Type=application/octet-stream]...\n",
      "Removing gs://fc-secure-9afe7562-2fad-4781-ab60-03528a626c19/Scores/Array/Height_PRScs.bgz...\n",
      "\n",
      "Operation completed over 1 objects/6.7 MiB.                                      \n",
      "Copying gs://fc-secure-9afe7562-2fad-4781-ab60-03528a626c19/Scores/Array/RBC_PRScs.bgz [Content-Type=application/octet-stream]...\n",
      "Removing gs://fc-secure-9afe7562-2fad-4781-ab60-03528a626c19/Scores/Array/RBC_PRScs.bgz...\n",
      "\n",
      "Operation completed over 1 objects/6.7 MiB.                                      \n",
      "Copying gs://fc-secure-9afe7562-2fad-4781-ab60-03528a626c19/Scores/Array/TC_PRScs.bgz [Content-Type=application/octet-stream]...\n",
      "Removing gs://fc-secure-9afe7562-2fad-4781-ab60-03528a626c19/Scores/Array/TC_PRScs.bgz...\n",
      "\n",
      "Operation completed over 1 objects/6.6 MiB.                                      \n",
      "Copying gs://fc-secure-9afe7562-2fad-4781-ab60-03528a626c19/Scores/Array/leukocyte_PRScs.bgz [Content-Type=application/octet-stream]...\n",
      "Removing gs://fc-secure-9afe7562-2fad-4781-ab60-03528a626c19/Scores/Array/leukocyte_PRScs.bgz...\n",
      "\n",
      "Operation completed over 1 objects/6.7 MiB.                                      \n",
      "Copying gs://fc-secure-9afe7562-2fad-4781-ab60-03528a626c19/Scores/Array/T2D_PRScs.bgz [Content-Type=application/octet-stream]...\n",
      "Removing gs://fc-secure-9afe7562-2fad-4781-ab60-03528a626c19/Scores/Array/T2D_PRScs.bgz...\n",
      "\n",
      "Operation completed over 1 objects/6.6 MiB.                                      \n",
      "Copying gs://fc-secure-9afe7562-2fad-4781-ab60-03528a626c19/Scores/Array/Asthma_PRScs.bgz [Content-Type=application/octet-stream]...\n",
      "Removing gs://fc-secure-9afe7562-2fad-4781-ab60-03528a626c19/Scores/Array/Asthma_PRScs.bgz...\n",
      "\n",
      "Operation completed over 1 objects/6.6 MiB.                                      \n",
      "Copying gs://fc-secure-9afe7562-2fad-4781-ab60-03528a626c19/Scores/Array/Breast_Cancer_PRScs.bgz [Content-Type=application/octet-stream]...\n",
      "Removing gs://fc-secure-9afe7562-2fad-4781-ab60-03528a626c19/Scores/Array/Breast_Cancer_PRScs.bgz...\n",
      "\n",
      "Operation completed over 1 objects/6.6 MiB.                                      \n",
      "Copying gs://fc-secure-9afe7562-2fad-4781-ab60-03528a626c19/Scores/Array/Colorectal_Cancer_PRScs.bgz [Content-Type=application/octet-stream]...\n",
      "Removing gs://fc-secure-9afe7562-2fad-4781-ab60-03528a626c19/Scores/Array/Colorectal_Cancer_PRScs.bgz...\n",
      "\n",
      "Operation completed over 1 objects/6.5 MiB.                                      \n"
     ]
    }
   ],
   "source": [
    "%%bash\n",
    "\n",
    "base_path=\"gs://fc-secure-9afe7562-2fad-4781-ab60-03528a626c19/Scores/Array\"\n",
    "phenotypes=(\"DBP\" \"HDL\" \"Height\" \"RBC\" \"TC\" \"leukocyte\" \"T2D\" \"Asthma\" \"Breast_Cancer\" \"Colorectal_Cancer\")\n",
    "\n",
    "for phenotype in \"${phenotypes[@]}\"; do\n",
    "    gsutil mv \"${base_path}/${phenotype}_PRScs.bgz\" \"${base_path}/${phenotype}_PRScs.gz\"\n",
    "done"
   ]
  },
  {
   "cell_type": "markdown",
   "metadata": {
    "heading_collapsed": true
   },
   "source": [
    "## WGS PGS"
   ]
  },
  {
   "cell_type": "code",
   "execution_count": null,
   "metadata": {
    "hidden": true
   },
   "outputs": [
    {
     "name": "stderr",
     "output_type": "stream",
     "text": [
      "Initializing Hail with default parameters...\n",
      "/opt/conda/lib/python3.10/site-packages/hailtop/aiocloud/aiogoogle/user_config.py:43: UserWarning:\n",
      "\n",
      "Reading spark-defaults.conf to determine GCS requester pays configuration. This is deprecated. Please use `hailctl config set gcs_requester_pays/project` and `hailctl config set gcs_requester_pays/buckets`.\n",
      "\n",
      "Setting default log level to \"WARN\".\n",
      "To adjust logging level use sc.setLogLevel(newLevel). For SparkR, use setLogLevel(newLevel).\n"
     ]
    }
   ],
   "source": [
    "mt_wgs_path = os.getenv(\"WGS_HAIL_STORAGE_PATH\")\n",
    "mt_wgs = hl.read_matrix_table(mt_wgs_path)\n",
    "\n",
    "# read QC'ed variants\n",
    "var_wgs = hl.read_table(f'{bucket}/WGSData/WGS_Vars_QCed.ht')\n",
    "\n",
    "# subset the matrix table \n",
    "mt_wgs = mt_wgs.semi_join_rows(var_wgs)\n",
    "\n",
    "# retrieve relavent fields\n",
    "mt_wgs = mt_wgs.select_rows(rsid = mt_wgs.rsid)\n",
    "mt_wgs = mt_wgs.select_entries(GT = mt_wgs.GT.n_alt_alleles())"
   ]
  },
  {
   "cell_type": "code",
   "execution_count": 5,
   "metadata": {
    "hidden": true,
    "scrolled": true
   },
   "outputs": [
    {
     "name": "stderr",
     "output_type": "stream",
     "text": [
      "2024-12-02 05:46:09.116 Hail: INFO: wrote matrix table with 8996707 rows and 98590 columns in 140126 partitions to gs://fc-secure-9afe7562-2fad-4781-ab60-03528a626c19/WGSData/WGS_GT_QCed.mt\n"
     ]
    }
   ],
   "source": [
    "mt_wgs.write(f\"{bucket}/WGSData/WGS_GT_QCed.mt\", overwrite = True)"
   ]
  },
  {
   "cell_type": "code",
   "execution_count": 3,
   "metadata": {
    "hidden": true
   },
   "outputs": [
    {
     "name": "stderr",
     "output_type": "stream",
     "text": [
      "Initializing Hail with default parameters...\n",
      "/opt/conda/lib/python3.10/site-packages/hailtop/aiocloud/aiogoogle/user_config.py:43: UserWarning:\n",
      "\n",
      "Reading spark-defaults.conf to determine GCS requester pays configuration. This is deprecated. Please use `hailctl config set gcs_requester_pays/project` and `hailctl config set gcs_requester_pays/buckets`.\n",
      "\n",
      "Setting default log level to \"WARN\".\n",
      "To adjust logging level use sc.setLogLevel(newLevel). For SparkR, use setLogLevel(newLevel).\n",
      "Running on Apache Spark version 3.3.0\n",
      "SparkUI available at http://all-of-us-11150-m.us-central1-b.c.terra-vpc-sc-fd39b54c.internal:39555\n",
      "Welcome to\n",
      "     __  __     <>__\n",
      "    / /_/ /__  __/ /\n",
      "   / __  / _ `/ / /\n",
      "  /_/ /_/\\_,_/_/_/   version 0.2.130.post1-c69cd67afb8b\n",
      "LOGGING: writing to /home/jupyter/workspaces/prswithwgsvsarraydata/hail-20241202-1712-0.2.130.post1-c69cd67afb8b.log\n"
     ]
    }
   ],
   "source": [
    "# read matrix table \n",
    "mt_wgs = hl.read_matrix_table(f\"{bucket}/WGSData/WGS_GT_QCed.mt\")"
   ]
  },
  {
   "cell_type": "code",
   "execution_count": 4,
   "metadata": {
    "hidden": true
   },
   "outputs": [
    {
     "name": "stderr",
     "output_type": "stream",
     "text": [
      "2024-12-02 17:13:18.001 Hail: INFO: Reading table to impute column types 1) / 1]\n",
      "2024-12-02 17:13:26.159 Hail: INFO: Loading <StructExpression of type struct{person_id: str, Age: int32, is_sex_Male: int32, is_sex_Female: int32, is_White: int32, is_Black_or_African_American: int32, is_Native_Hawaiian_or_Other_Pacific_Islander: int32, is_Asian: int32, is_Middle_Eastern_or_North_African: int32, is_gender_Male: int32, is_gender_Female: int32, is_Hispanic: int32, is_anc_pred_eur: int32, is_anc_pred_amr: int32, is_anc_pred_afr: int32, is_anc_pred_sas: int32, is_anc_pred_eas: int32, is_anc_pred_mid: int32, PC1: float64, PC2: float64, PC3: float64, PC4: float64, PC5: float64, PC6: float64, PC7: float64, PC8: float64, PC9: float64, PC10: float64, PC11: float64, PC12: float64, PC13: float64, PC14: float64, PC15: float64, PC16: float64, BMI: float64, Height: float64, DBP: float64, SBP: float64, HbA1c: float64, leukocyte: float64, Lymphocyte: float64, RBC: float64, Neutrophil: float64, Hemoglobin_concentration: float64, hematocrit_percentage: float64, Eosinophil: float64, Platelet: float64, Monocyte: float64, MCV: float64, MCH: float64, Basophil: float64, MCHC: float64, HDL: float64, LDL: float64, TC: float64, TG: float64, eur_bin: int32, amr_bin: int32, afr_bin: int32, oth_bin: int32, sas_bin: int32, eas_bin: int32, mid_bin: int32}> fields. Counts by type:\n",
      "  float64: 38\n",
      "  int32: 24\n",
      "  str: 1\n",
      "2024-12-02 17:13:27.325 Hail: INFO: Reading table to impute column types\n",
      "2024-12-02 17:13:30.577 Hail: INFO: Loading <StructExpression of type struct{person_id: str, Age: int32, is_sex_Male: int32, is_sex_Female: int32, is_White: int32, is_Black_or_African_American: int32, is_Native_Hawaiian_or_Other_Pacific_Islander: int32, is_Asian: int32, is_Middle_Eastern_or_North_African: int32, is_gender_Male: int32, is_gender_Female: int32, is_Hispanic: int32, is_anc_pred_eur: int32, is_anc_pred_amr: int32, is_anc_pred_afr: int32, is_anc_pred_sas: int32, is_anc_pred_eas: int32, is_anc_pred_mid: int32, PC1: float64, PC2: float64, PC3: float64, PC4: float64, PC5: float64, PC6: float64, PC7: float64, PC8: float64, PC9: float64, PC10: float64, PC11: float64, PC12: float64, PC13: float64, PC14: float64, PC15: float64, PC16: float64, Asthma: float64, Breast_Cancer: float64, CHD: float64, Colorectal_Cancer: int32, Prostate_Cancer: int32, T2D: float64, T1D: float64, eur_bin: int32, amr_bin: int32, afr_bin: int32, oth_bin: int32, sas_bin: int32, eas_bin: int32, mid_bin: int32}> fields. Counts by type:\n",
      "  int32: 26\n",
      "  float64: 21\n",
      "  str: 1\n"
     ]
    }
   ],
   "source": [
    "## read Sample_quant \n",
    "Sample_quant = hl.import_table(f\"{bucket}/Pheno/quant_all.tsv\", \n",
    "                         missing='',\n",
    "                        impute=True,\n",
    "                        types = {\"person_id\": \"str\"})\n",
    "Sample_quant = Sample_quant.key_by(\"person_id\")\n",
    "mt_wgs_quant = mt_wgs.semi_join_cols(Sample_quant)\n",
    "mt_wgs_quant = mt_wgs_quant.annotate_cols(**Sample_quant[mt_wgs_quant.s])\n",
    "\n",
    "\n",
    "#### read Sample_binary\n",
    "Sample_binary = hl.import_table(f\"{bucket}/Pheno/binary_all.tsv\", \n",
    "                         missing='',\n",
    "                        impute=True,\n",
    "                        types = {\"person_id\": \"str\"})\n",
    "Sample_binary = Sample_binary.key_by(\"person_id\")\n",
    "mt_wgs_binary = mt_wgs.semi_join_cols(Sample_binary)\n",
    "mt_wgs_binary = mt_wgs_binary.annotate_cols(**Sample_binary[mt_wgs_binary.s])"
   ]
  },
  {
   "cell_type": "code",
   "execution_count": 5,
   "metadata": {
    "hidden": true
   },
   "outputs": [],
   "source": [
    "def process_matrix_table(mt, db, region='us-central1', cloud='gcp'):\n",
    "    # Annotate rows with dbSNP_rsid\n",
    "    mt = db.annotate_rows_db(mt, 'dbSNP_rsid')\n",
    "    \n",
    "    # Simplify the format of dbSNP_rsid to a delimited string\n",
    "    mt = mt.annotate_rows(rsID=hl.delimit(mt.dbSNP_rsid.map(lambda x: x.rsid), delimiter=\",\"))\n",
    "    \n",
    "    # Key rows by rsID\n",
    "    mt = mt.key_rows_by('rsID')\n",
    "    \n",
    "    return mt\n",
    "\n",
    "# Define the DB connection\n",
    "db = hl.experimental.DB(region='us-central1', cloud='gcp')\n",
    "\n",
    "# Process the mt_wgs_quant and mt_wgs_binary using the helper function\n",
    "mt_wgs_quant = process_matrix_table(mt_wgs_quant, db)\n",
    "mt_wgs_binary = process_matrix_table(mt_wgs_binary, db)"
   ]
  },
  {
   "cell_type": "code",
   "execution_count": 6,
   "metadata": {
    "hidden": true
   },
   "outputs": [
    {
     "name": "stdout",
     "output_type": "stream",
     "text": [
      "Processing phenotype: Height\n"
     ]
    },
    {
     "name": "stderr",
     "output_type": "stream",
     "text": [
      "2024-12-02 17:13:35.174 Hail: INFO: Reading table to impute column types\n",
      "2024-12-02 17:13:38.254 Hail: INFO: Finished type imputation        (0 + 1) / 1]\n",
      "  Loading field 'CHR' as type int32 (imputed)\n",
      "  Loading field 'rsID' as type str (imputed)\n",
      "  Loading field 'BP' as type int32 (imputed)\n",
      "  Loading field 'A1_alt' as type str (imputed)\n",
      "  Loading field 'A2_ref' as type str (imputed)\n",
      "  Loading field 'BETA_posterior' as type float64 (imputed)\n"
     ]
    },
    {
     "name": "stdout",
     "output_type": "stream",
     "text": [
      "Processing phenotype: DBP\n"
     ]
    },
    {
     "name": "stderr",
     "output_type": "stream",
     "text": [
      "2024-12-02 17:13:39.094 Hail: INFO: Reading table to impute column types\n",
      "2024-12-02 17:13:41.958 Hail: INFO: Finished type imputation        (0 + 1) / 1]\n",
      "  Loading field 'CHR' as type int32 (imputed)\n",
      "  Loading field 'rsID' as type str (imputed)\n",
      "  Loading field 'BP' as type int32 (imputed)\n",
      "  Loading field 'A1_alt' as type str (imputed)\n",
      "  Loading field 'A2_ref' as type str (imputed)\n",
      "  Loading field 'BETA_posterior' as type float64 (imputed)\n"
     ]
    },
    {
     "name": "stdout",
     "output_type": "stream",
     "text": [
      "Processing phenotype: HDL\n"
     ]
    },
    {
     "name": "stderr",
     "output_type": "stream",
     "text": [
      "2024-12-02 17:13:42.724 Hail: INFO: Reading table to impute column types\n",
      "2024-12-02 17:13:45.562 Hail: INFO: Finished type imputation        (0 + 1) / 1]\n",
      "  Loading field 'CHR' as type int32 (imputed)\n",
      "  Loading field 'rsID' as type str (imputed)\n",
      "  Loading field 'BP' as type int32 (imputed)\n",
      "  Loading field 'A1_alt' as type str (imputed)\n",
      "  Loading field 'A2_ref' as type str (imputed)\n",
      "  Loading field 'BETA_posterior' as type float64 (imputed)\n"
     ]
    },
    {
     "name": "stdout",
     "output_type": "stream",
     "text": [
      "Processing phenotype: TC\n"
     ]
    },
    {
     "name": "stderr",
     "output_type": "stream",
     "text": [
      "2024-12-02 17:13:46.325 Hail: INFO: Reading table to impute column types\n",
      "2024-12-02 17:13:49.282 Hail: INFO: Finished type imputation        (0 + 1) / 1]\n",
      "  Loading field 'CHR' as type int32 (imputed)\n",
      "  Loading field 'rsID' as type str (imputed)\n",
      "  Loading field 'BP' as type int32 (imputed)\n",
      "  Loading field 'A1_alt' as type str (imputed)\n",
      "  Loading field 'A2_ref' as type str (imputed)\n",
      "  Loading field 'BETA_posterior' as type float64 (imputed)\n"
     ]
    },
    {
     "name": "stdout",
     "output_type": "stream",
     "text": [
      "Processing phenotype: RBC\n"
     ]
    },
    {
     "name": "stderr",
     "output_type": "stream",
     "text": [
      "2024-12-02 17:13:50.021 Hail: INFO: Reading table to impute column types\n",
      "2024-12-02 17:13:52.807 Hail: INFO: Finished type imputation        (0 + 1) / 1]\n",
      "  Loading field 'CHR' as type int32 (imputed)\n",
      "  Loading field 'rsID' as type str (imputed)\n",
      "  Loading field 'BP' as type int32 (imputed)\n",
      "  Loading field 'A1_alt' as type str (imputed)\n",
      "  Loading field 'A2_ref' as type str (imputed)\n",
      "  Loading field 'BETA_posterior' as type float64 (imputed)\n"
     ]
    },
    {
     "name": "stdout",
     "output_type": "stream",
     "text": [
      "Processing phenotype: leukocyte\n"
     ]
    },
    {
     "name": "stderr",
     "output_type": "stream",
     "text": [
      "2024-12-02 17:13:53.801 Hail: INFO: Reading table to impute column types\n",
      "2024-12-02 17:13:56.563 Hail: INFO: Finished type imputation        (0 + 1) / 1]\n",
      "  Loading field 'CHR' as type int32 (imputed)\n",
      "  Loading field 'rsID' as type str (imputed)\n",
      "  Loading field 'BP' as type int32 (imputed)\n",
      "  Loading field 'A1_alt' as type str (imputed)\n",
      "  Loading field 'A2_ref' as type str (imputed)\n",
      "  Loading field 'BETA_posterior' as type float64 (imputed)\n"
     ]
    },
    {
     "name": "stdout",
     "output_type": "stream",
     "text": [
      "Processing phenotype: T2D\n"
     ]
    },
    {
     "name": "stderr",
     "output_type": "stream",
     "text": [
      "2024-12-02 17:13:57.358 Hail: INFO: Reading table to impute column types\n",
      "2024-12-02 17:14:00.158 Hail: INFO: Finished type imputation        (0 + 1) / 1]\n",
      "  Loading field 'CHR' as type int32 (imputed)\n",
      "  Loading field 'rsID' as type str (imputed)\n",
      "  Loading field 'BP' as type int32 (imputed)\n",
      "  Loading field 'A1_alt' as type str (imputed)\n",
      "  Loading field 'A2_ref' as type str (imputed)\n",
      "  Loading field 'BETA_posterior' as type float64 (imputed)\n"
     ]
    },
    {
     "name": "stdout",
     "output_type": "stream",
     "text": [
      "Processing phenotype: Asthma\n"
     ]
    },
    {
     "name": "stderr",
     "output_type": "stream",
     "text": [
      "2024-12-02 17:14:00.891 Hail: INFO: Reading table to impute column types\n",
      "2024-12-02 17:14:03.561 Hail: INFO: Finished type imputation        (0 + 1) / 1]\n",
      "  Loading field 'CHR' as type int32 (imputed)\n",
      "  Loading field 'rsID' as type str (imputed)\n",
      "  Loading field 'BP' as type int32 (imputed)\n",
      "  Loading field 'A1_alt' as type str (imputed)\n",
      "  Loading field 'A2_ref' as type str (imputed)\n",
      "  Loading field 'BETA_posterior' as type float64 (imputed)\n"
     ]
    },
    {
     "name": "stdout",
     "output_type": "stream",
     "text": [
      "Processing phenotype: Breast_Cancer\n"
     ]
    },
    {
     "name": "stderr",
     "output_type": "stream",
     "text": [
      "2024-12-02 17:14:04.294 Hail: INFO: Reading table to impute column types\n",
      "2024-12-02 17:14:06.934 Hail: INFO: Finished type imputation        (0 + 1) / 1]\n",
      "  Loading field 'CHR' as type int32 (imputed)\n",
      "  Loading field 'rsID' as type str (imputed)\n",
      "  Loading field 'BP' as type int32 (imputed)\n",
      "  Loading field 'A1_alt' as type str (imputed)\n",
      "  Loading field 'A2_ref' as type str (imputed)\n",
      "  Loading field 'BETA_posterior' as type float64 (imputed)\n"
     ]
    },
    {
     "name": "stdout",
     "output_type": "stream",
     "text": [
      "Processing phenotype: Colorectal_Cancer\n"
     ]
    },
    {
     "name": "stderr",
     "output_type": "stream",
     "text": [
      "2024-12-02 17:14:07.645 Hail: INFO: Reading table to impute column types\n",
      "2024-12-02 17:14:10.371 Hail: INFO: Finished type imputation        (0 + 1) / 1]\n",
      "  Loading field 'CHR' as type int32 (imputed)\n",
      "  Loading field 'rsID' as type str (imputed)\n",
      "  Loading field 'BP' as type int32 (imputed)\n",
      "  Loading field 'A1_alt' as type str (imputed)\n",
      "  Loading field 'A2_ref' as type str (imputed)\n",
      "  Loading field 'BETA_posterior' as type float64 (imputed)\n"
     ]
    }
   ],
   "source": [
    "# Define the list of phenotypes for both quant and binary types\n",
    "quant_phenotypes = [\"Height\", \"DBP\", \"HDL\", \"TC\", \"RBC\", \"leukocyte\"]\n",
    "binary_phenotypes = [\"T2D\", \"Asthma\", \"Breast_Cancer\", \"Colorectal_Cancer\"]\n",
    "\n",
    "# Function to annotate phenotypes to the MatrixTable\n",
    "def annotate_phenotypes(phenotypes, mt, bucket, phenotype_type=\"quant\"):\n",
    "    for phenotype in phenotypes:\n",
    "        print(f\"Processing phenotype: {phenotype}\")\n",
    "        \n",
    "        # Import the phenotype table\n",
    "        phenotype_table = hl.import_table(\n",
    "            f'{bucket}/PRScs/WGS_{phenotype}_pst_eff_a1_b0.5_phiauto.txt',\n",
    "            impute=True\n",
    "        )\n",
    "        \n",
    "        # Key the phenotype table by 'rsID'\n",
    "        phenotype_table = phenotype_table.key_by('rsID')\n",
    "        \n",
    "        # Annotate rows in the Matrix Table with the phenotype data\n",
    "        if phenotype_type == \"quant\":\n",
    "            mt = mt.annotate_rows(\n",
    "                **{f\"{phenotype}_PRScs_result\": phenotype_table[mt.rsID]}\n",
    "            )\n",
    "        elif phenotype_type == \"binary\":\n",
    "            mt = mt.annotate_rows(\n",
    "                **{f\"{phenotype}_PRScs_result\": phenotype_table[mt.rsID]}\n",
    "            )\n",
    "        \n",
    "    return mt\n",
    "\n",
    "# Annotate quant phenotypes to the mt_wgs_quant\n",
    "mt_wgs_quant = annotate_phenotypes(quant_phenotypes, mt_wgs_quant, bucket, phenotype_type=\"quant\")\n",
    "\n",
    "# Annotate binary phenotypes to the mt_wgs_binary\n",
    "mt_wgs_binary = annotate_phenotypes(binary_phenotypes, mt_wgs_binary, bucket, phenotype_type=\"binary\")"
   ]
  },
  {
   "cell_type": "code",
   "execution_count": 7,
   "metadata": {
    "hidden": true
   },
   "outputs": [],
   "source": [
    "# Define the phenotypes for both quant and binary types\n",
    "quant_phenotypes = [\"Height\", \"DBP\", \"HDL\", \"TC\", \"RBC\", \"leukocyte\"]\n",
    "binary_phenotypes = [\"T2D\", \"Asthma\", \"Breast_Cancer\", \"Colorectal_Cancer\"]\n",
    "\n",
    "# Function to compute PGS for both quant and binary phenotypes\n",
    "def compute_pgs(phenotypes, mt, phenotype_type=\"quant\"):\n",
    "    # Annotate PGS for all phenotypes\n",
    "    mt = mt.annotate_cols(**{\n",
    "        f\"{phenotype}_pgs\": hl.struct(\n",
    "            pgs=hl.agg.sum(\n",
    "                mt[f\"{phenotype}_PRScs_result\"][\"BETA_posterior\"] * mt.GT\n",
    "            )\n",
    "        )\n",
    "        for phenotype in phenotypes\n",
    "    })\n",
    "    \n",
    "    return mt\n",
    "\n",
    "\n",
    "# Compute PGS for quant phenotypes\n",
    "mt_wgs_quant = compute_pgs(quant_phenotypes, mt_wgs_quant, phenotype_type=\"quant\")\n",
    "\n",
    "# Compute PGS for binary phenotypes\n",
    "mt_wgs_binary = compute_pgs(binary_phenotypes, mt_wgs_binary, phenotype_type=\"binary\")"
   ]
  },
  {
   "cell_type": "code",
   "execution_count": 8,
   "metadata": {
    "hidden": true
   },
   "outputs": [],
   "source": [
    "def export_Scores(mt, pheno, mt_type, method):\n",
    "    export_filename = f\"{bucket}/Scores/{mt_type}/{pheno}_{method}_checkpoint.ht\"  # Changed extension to .ht (Hail table)\n",
    "    sample_info = mt.cols().select(\n",
    "        \"Age\", 'is_sex_Male', 'is_sex_Female', \n",
    "        \"PC1\", \"PC2\", \"PC3\", \"PC4\", \"PC5\", \"PC6\", \"PC7\", \"PC8\", \n",
    "        \"PC9\", \"PC10\", \"PC11\", \"PC12\", \"PC13\", \"PC14\", \"PC15\", \"PC16\", \n",
    "        pheno + \"_pgs\", pheno)\n",
    "    sample_info = sample_info.annotate(**sample_info[pheno + \"_pgs\"])\n",
    "    sample_info = sample_info.drop(pheno + \"_pgs\")\n",
    "    \n",
    "    # Write the data as a Hail table (.ht)\n",
    "    sample_info = sample_info.checkpoint(export_filename, overwrite=True)  \n",
    "    print(f\"Wrote sample info to {export_filename}.\")"
   ]
  },
  {
   "cell_type": "code",
   "execution_count": null,
   "metadata": {
    "hidden": true
   },
   "outputs": [
    {
     "name": "stderr",
     "output_type": "stream",
     "text": [
      "2024-12-02 05:50:30.405 Hail: WARN: cols(): Resulting column table is sorted by 'col_key'.\n",
      "    To preserve matrix table column order, first unkey columns with 'key_cols_by()'\n",
      "2024-12-02 05:51:33.946 Hail: INFO: wrote table with 807891764 rows in 512 partitions to /tmp/__iruid_27399-Lnl129YkW0OpsMu0wDrhv5\n",
      "2024-12-02 06:00:04.291 Hail: INFO: Ordering unsorted dataset with network shuffle\n",
      "2024-12-02 06:00:11.250 Hail: INFO: Ordering unsorted dataset with network shuffle\n",
      "2024-12-02 06:00:19.552 Hail: INFO: wrote table with 924278 rows in 1 partition to /tmp/__iruid_28802-uMVkRyDAorPbG4q3kDVD9L\n",
      "2024-12-02 06:20:18.843 Hail: INFO: Coerced sorted dataset          (0 + 1) / 1]\n",
      "2024-12-02 06:20:21.650 Hail: INFO: wrote table with 91489 rows in 160 partitions to gs://fc-secure-9afe7562-2fad-4781-ab60-03528a626c19/Scores/WGS/DBP_PRScs_checkpoint.ht\n"
     ]
    },
    {
     "name": "stdout",
     "output_type": "stream",
     "text": [
      "Wrote sample info to gs://fc-secure-9afe7562-2fad-4781-ab60-03528a626c19/Scores/WGS/DBP_PRScs_checkpoint.ht.\n"
     ]
    },
    {
     "name": "stderr",
     "output_type": "stream",
     "text": [
      "2024-12-02 06:21:13.727 Hail: INFO: wrote table with 807891764 rows in 512 partitions to /tmp/__iruid_34577-r4UI6q0xCN8yowXPuKYd07\n",
      "2024-12-02 06:29:40.987 Hail: INFO: Ordering unsorted dataset with network shuffle\n",
      "2024-12-02 06:29:48.494 Hail: INFO: Ordering unsorted dataset with network shuffle\n",
      "2024-12-02 06:29:56.506 Hail: INFO: wrote table with 924278 rows in 1 partition to /tmp/__iruid_35980-v4mrFdLp2CIc893cwEhXKE\n",
      "2024-12-02 06:49:57.145 Hail: INFO: Coerced sorted dataset===>  (152 + 8) / 160]\n",
      "2024-12-02 06:49:59.667 Hail: INFO: wrote table with 91489 rows in 160 partitions to gs://fc-secure-9afe7562-2fad-4781-ab60-03528a626c19/Scores/WGS/HDL_PRScs_checkpoint.ht\n"
     ]
    },
    {
     "name": "stdout",
     "output_type": "stream",
     "text": [
      "Wrote sample info to gs://fc-secure-9afe7562-2fad-4781-ab60-03528a626c19/Scores/WGS/HDL_PRScs_checkpoint.ht.\n"
     ]
    },
    {
     "name": "stderr",
     "output_type": "stream",
     "text": [
      "2024-12-02 06:50:46.263 Hail: INFO: wrote table with 807891764 rows in 512 partitions to /tmp/__iruid_41755-JIZyloCnoXg09aPgX33RE8\n",
      "2024-12-02 06:58:49.326 Hail: INFO: Ordering unsorted dataset with network shuffle\n",
      "2024-12-02 06:58:56.592 Hail: INFO: Ordering unsorted dataset with network shuffle\n",
      "2024-12-02 06:59:04.733 Hail: INFO: wrote table with 924278 rows in 1 partition to /tmp/__iruid_43158-tGzhJ3wqRGK1ecxojPJySO\n",
      "2024-12-02 07:19:27.159 Hail: INFO: Coerced sorted dataset          (0 + 1) / 1]\n",
      "2024-12-02 07:19:29.520 Hail: INFO: wrote table with 91489 rows in 160 partitions to gs://fc-secure-9afe7562-2fad-4781-ab60-03528a626c19/Scores/WGS/Height_PRScs_checkpoint.ht\n"
     ]
    },
    {
     "name": "stdout",
     "output_type": "stream",
     "text": [
      "Wrote sample info to gs://fc-secure-9afe7562-2fad-4781-ab60-03528a626c19/Scores/WGS/Height_PRScs_checkpoint.ht.\n"
     ]
    },
    {
     "name": "stderr",
     "output_type": "stream",
     "text": [
      "2024-12-02 07:20:16.431 Hail: INFO: wrote table with 807891764 rows in 512 partitions to /tmp/__iruid_48933-V06W0EEJvK47UcuBTsEOJV\n",
      "2024-12-02 07:28:17.211 Hail: INFO: Ordering unsorted dataset with network shuffle\n",
      "2024-12-02 07:28:23.974 Hail: INFO: Ordering unsorted dataset with network shuffle\n",
      "2024-12-02 07:28:32.511 Hail: INFO: wrote table with 924278 rows in 1 partition to /tmp/__iruid_50336-ZmPNlYFZhpUOetlzYYmtD5\n",
      "2024-12-02 07:49:07.335 Hail: INFO: Coerced sorted dataset          (0 + 1) / 1]\n",
      "2024-12-02 07:49:10.316 Hail: INFO: wrote table with 91489 rows in 160 partitions to gs://fc-secure-9afe7562-2fad-4781-ab60-03528a626c19/Scores/WGS/RBC_PRScs_checkpoint.ht\n"
     ]
    },
    {
     "name": "stdout",
     "output_type": "stream",
     "text": [
      "Wrote sample info to gs://fc-secure-9afe7562-2fad-4781-ab60-03528a626c19/Scores/WGS/RBC_PRScs_checkpoint.ht.\n"
     ]
    },
    {
     "name": "stderr",
     "output_type": "stream",
     "text": [
      "2024-12-02 07:49:56.631 Hail: INFO: wrote table with 807891764 rows in 512 partitions to /tmp/__iruid_56111-zQdnMEPX2atYxVEIoTNicE\n",
      "2024-12-02 07:58:00.497 Hail: INFO: Ordering unsorted dataset with network shuffle\n",
      "2024-12-02 07:58:07.856 Hail: INFO: Ordering unsorted dataset with network shuffle\n",
      "2024-12-02 07:58:16.068 Hail: INFO: wrote table with 924278 rows in 1 partition to /tmp/__iruid_57514-FXMZyO9TX75RehLrBtq8su\n",
      "2024-12-02 08:18:42.252 Hail: INFO: Coerced sorted dataset          (0 + 1) / 1]\n",
      "2024-12-02 08:18:45.115 Hail: INFO: wrote table with 91489 rows in 160 partitions to gs://fc-secure-9afe7562-2fad-4781-ab60-03528a626c19/Scores/WGS/TC_PRScs_checkpoint.ht\n"
     ]
    },
    {
     "name": "stdout",
     "output_type": "stream",
     "text": [
      "Wrote sample info to gs://fc-secure-9afe7562-2fad-4781-ab60-03528a626c19/Scores/WGS/TC_PRScs_checkpoint.ht.\n"
     ]
    },
    {
     "name": "stderr",
     "output_type": "stream",
     "text": [
      "2024-12-02 08:19:32.331 Hail: INFO: wrote table with 807891764 rows in 512 partitions to /tmp/__iruid_63289-v4Cgt7rsTcphzHYMvjjrj2\n",
      "2024-12-02 08:27:37.532 Hail: INFO: Ordering unsorted dataset with network shuffle\n",
      "2024-12-02 08:27:45.109 Hail: INFO: Ordering unsorted dataset with network shuffle\n",
      "2024-12-02 08:27:53.857 Hail: INFO: wrote table with 924278 rows in 1 partition to /tmp/__iruid_64692-QpSB1hVxhIAltLPEXYYS5s\n",
      "2024-12-02 08:48:14.955 Hail: INFO: Coerced sorted dataset          (0 + 1) / 1]\n",
      "2024-12-02 08:48:17.415 Hail: INFO: wrote table with 91489 rows in 160 partitions to gs://fc-secure-9afe7562-2fad-4781-ab60-03528a626c19/Scores/WGS/leukocyte_PRScs_checkpoint.ht\n"
     ]
    },
    {
     "name": "stdout",
     "output_type": "stream",
     "text": [
      "Wrote sample info to gs://fc-secure-9afe7562-2fad-4781-ab60-03528a626c19/Scores/WGS/leukocyte_PRScs_checkpoint.ht.\n"
     ]
    },
    {
     "name": "stderr",
     "output_type": "stream",
     "text": [
      "2024-12-02 08:49:04.839 Hail: INFO: wrote table with 807891764 rows in 512 partitions to /tmp/__iruid_70357-uQcCAgj7iFHy8fr30wAh3n\n",
      "2024-12-02 08:57:09.058 Hail: INFO: Ordering unsorted dataset with network shuffle\n",
      "2024-12-02 08:57:16.665 Hail: INFO: Ordering unsorted dataset with network shuffle\n",
      "2024-12-02 08:57:25.411 Hail: INFO: wrote table with 924278 rows in 1 partition to /tmp/__iruid_71760-i1fwAO3IrPCvaG8IqfTbU7\n",
      "2024-12-02 09:18:54.798 Hail: INFO: Coerced sorted dataset          (0 + 1) / 1]\n",
      "2024-12-02 09:18:57.185 Hail: INFO: wrote table with 91630 rows in 112 partitions to gs://fc-secure-9afe7562-2fad-4781-ab60-03528a626c19/Scores/WGS/T2D_PRScs_checkpoint.ht\n"
     ]
    },
    {
     "name": "stdout",
     "output_type": "stream",
     "text": [
      "Wrote sample info to gs://fc-secure-9afe7562-2fad-4781-ab60-03528a626c19/Scores/WGS/T2D_PRScs_checkpoint.ht.\n"
     ]
    },
    {
     "name": "stderr",
     "output_type": "stream",
     "text": [
      "2024-12-02 09:19:51.415 Hail: INFO: wrote table with 807891764 rows in 512 partitions to /tmp/__iruid_77425-1BXNdGmQTdVLHxMWC2gqTb\n",
      "2024-12-02 09:32:56.475 Hail: INFO: Ordering unsorted dataset with network shuffle\n",
      "2024-12-02 09:33:04.026 Hail: INFO: Ordering unsorted dataset with network shuffle\n",
      "2024-12-02 09:33:12.516 Hail: INFO: wrote table with 924278 rows in 1 partition to /tmp/__iruid_78828-E7fAmabFTCVKE9gpJWHYvH\n",
      "[Stage 155:=====>                                          (16317 + 0) / 140126]\r"
     ]
    }
   ],
   "source": [
    "export_Scores(mt_wgs_quant, \"DBP\", \"WGS\", \"PRScs\")\n",
    "export_Scores(mt_wgs_quant, \"HDL\", \"WGS\", \"PRScs\")\n",
    "export_Scores(mt_wgs_quant, \"Height\", \"WGS\", \"PRScs\")\n",
    "export_Scores(mt_wgs_quant, \"RBC\", \"WGS\", \"PRScs\")\n",
    "export_Scores(mt_wgs_quant, \"TC\", \"WGS\", \"PRScs\")\n",
    "export_Scores(mt_wgs_quant, \"leukocyte\", \"WGS\", \"PRScs\")\n",
    "\n",
    "export_Scores(mt_wgs_binary, \"T2D\", \"WGS\", \"PRScs\")\n",
    "export_Scores(mt_wgs_binary, \"Asthma\", \"WGS\", \"PRScs\")\n",
    "export_Scores(mt_wgs_binary, \"Breast_Cancer\", \"WGS\", \"PRScs\")\n",
    "export_Scores(mt_wgs_binary, \"Colorectal_Cancer\", \"WGS\", \"PRScs\")"
   ]
  },
  {
   "cell_type": "code",
   "execution_count": 3,
   "metadata": {
    "hidden": true
   },
   "outputs": [
    {
     "name": "stderr",
     "output_type": "stream",
     "text": [
      "Initializing Hail with default parameters...\n",
      "/opt/conda/lib/python3.10/site-packages/hailtop/aiocloud/aiogoogle/user_config.py:43: UserWarning:\n",
      "\n",
      "Reading spark-defaults.conf to determine GCS requester pays configuration. This is deprecated. Please use `hailctl config set gcs_requester_pays/project` and `hailctl config set gcs_requester_pays/buckets`.\n",
      "\n",
      "Setting default log level to \"WARN\".\n",
      "To adjust logging level use sc.setLogLevel(newLevel). For SparkR, use setLogLevel(newLevel).\n",
      "Running on Apache Spark version 3.3.0\n",
      "SparkUI available at http://all-of-us-11150-m.us-central1-b.c.terra-vpc-sc-fd39b54c.internal:38447\n",
      "Welcome to\n",
      "     __  __     <>__\n",
      "    / /_/ /__  __/ /\n",
      "   / __  / _ `/ / /\n",
      "  /_/ /_/\\_,_/_/_/   version 0.2.130.post1-c69cd67afb8b\n",
      "LOGGING: writing to /home/jupyter/workspaces/prswithwgsvsarraydata/hail-20241202-1910-0.2.130.post1-c69cd67afb8b.log\n"
     ]
    }
   ],
   "source": [
    "Height_df = hl.read_table(f\"{bucket}/Scores/WGS/Height_PRScs_checkpoint.ht\")\n",
    "DBP_df = hl.read_table(f\"{bucket}/Scores/WGS/DBP_PRScs_checkpoint.ht\")\n",
    "HDL_df = hl.read_table(f\"{bucket}/Scores/WGS/HDL_PRScs_checkpoint.ht\")\n",
    "TC_df = hl.read_table(f\"{bucket}/Scores/WGS/TC_PRScs_checkpoint.ht\")\n",
    "RBC_df = hl.read_table(f\"{bucket}/Scores/WGS/RBC_PRScs_checkpoint.ht\")\n",
    "leukocyte_df = hl.read_table(f\"{bucket}/Scores/WGS/leukocyte_PRScs_checkpoint.ht\")\n",
    "T2D = hl.read_table(f\"{bucket}/Scores/WGS/T2D_PRScs_checkpoint.ht\")\n",
    "Asthma = hl.read_table(f\"{bucket}/Scores/WGS/Asthma_PRScs_checkpoint.ht\")\n",
    "Breast_Cancer = hl.read_table(f\"{bucket}/Scores/WGS/Breast_Cancer_PRScs_checkpoint.ht\")\n",
    "Colorectal_Cancer = hl.read_table(f\"{bucket}/Scores/WGS/Colorectal_Cancer_PRScs_checkpoint.ht\")"
   ]
  },
  {
   "cell_type": "code",
   "execution_count": 4,
   "metadata": {
    "hidden": true
   },
   "outputs": [
    {
     "name": "stderr",
     "output_type": "stream",
     "text": [
      "2024-12-02 19:13:18.105 Hail: INFO: merging 161 files totalling 6.4M...0) / 160]\n",
      "2024-12-02 19:13:23.868 Hail: INFO: while writing:\n",
      "    gs://fc-secure-9afe7562-2fad-4781-ab60-03528a626c19/Scores/WGS/Height_PRScs.gz\n",
      "  merge time: 5.762s\n",
      "2024-12-02 19:13:29.251 Hail: INFO: merging 161 files totalling 6.4M...3) / 160]\n",
      "2024-12-02 19:13:42.650 Hail: INFO: while writing:\n",
      "    gs://fc-secure-9afe7562-2fad-4781-ab60-03528a626c19/Scores/WGS/DBP_PRScs.gz\n",
      "  merge time: 13.399s\n",
      "2024-12-02 19:13:48.908 Hail: INFO: merging 161 files totalling 6.3M...9) / 160]\n",
      "2024-12-02 19:13:51.024 Hail: INFO: while writing:\n",
      "    gs://fc-secure-9afe7562-2fad-4781-ab60-03528a626c19/Scores/WGS/HDL_PRScs.gz\n",
      "  merge time: 2.116s\n",
      "2024-12-02 19:13:55.645 Hail: INFO: merging 161 files totalling 6.3M...6) / 160]\n",
      "2024-12-02 19:13:57.608 Hail: INFO: while writing:\n",
      "    gs://fc-secure-9afe7562-2fad-4781-ab60-03528a626c19/Scores/WGS/TC_PRScs.gz\n",
      "  merge time: 1.962s\n",
      "2024-12-02 19:14:02.354 Hail: INFO: merging 161 files totalling 6.4M...8) / 160]\n",
      "2024-12-02 19:14:04.519 Hail: INFO: while writing:\n",
      "    gs://fc-secure-9afe7562-2fad-4781-ab60-03528a626c19/Scores/WGS/RBC_PRScs.gz\n",
      "  merge time: 2.165s\n",
      "2024-12-02 19:14:06.643 Hail: INFO: merging 161 files totalling 6.4M...1) / 160]\n",
      "2024-12-02 19:14:09.800 Hail: INFO: while writing:\n",
      "    gs://fc-secure-9afe7562-2fad-4781-ab60-03528a626c19/Scores/WGS/leukocyte_PRScs.gz\n",
      "  merge time: 3.157s\n",
      "2024-12-02 19:14:11.479 Hail: INFO: merging 113 files totalling 6.3M...3) / 112]\n",
      "2024-12-02 19:14:12.032 Hail: INFO: while writing:\n",
      "    gs://fc-secure-9afe7562-2fad-4781-ab60-03528a626c19/Scores/WGS/T2D_PRScs.gz\n",
      "  merge time: 552.570ms\n",
      "2024-12-02 19:14:13.529 Hail: INFO: merging 161 files totalling 6.3M...4) / 160]\n",
      "2024-12-02 19:14:13.912 Hail: INFO: while writing:\n",
      "    gs://fc-secure-9afe7562-2fad-4781-ab60-03528a626c19/Scores/WGS/Asthma_PRScs.gz\n",
      "  merge time: 382.703ms\n",
      "2024-12-02 19:14:15.650 Hail: INFO: merging 161 files totalling 6.3M...7) / 160]\n",
      "2024-12-02 19:14:16.366 Hail: INFO: while writing:\n",
      "    gs://fc-secure-9afe7562-2fad-4781-ab60-03528a626c19/Scores/WGS/Breast_Cancer_PRScs.gz\n",
      "  merge time: 716.270ms\n",
      "2024-12-02 19:14:17.864 Hail: INFO: merging 161 files totalling 6.2M...4) / 160]\n",
      "2024-12-02 19:14:18.252 Hail: INFO: while writing:\n",
      "    gs://fc-secure-9afe7562-2fad-4781-ab60-03528a626c19/Scores/WGS/Colorectal_Cancer_PRScs.gz\n",
      "  merge time: 387.703ms\n"
     ]
    }
   ],
   "source": [
    "Height_df.export(f\"{bucket}/Scores/WGS/Height_PRScs.gz\")\n",
    "DBP_df.export(f\"{bucket}/Scores/WGS/DBP_PRScs.gz\")\n",
    "HDL_df.export(f\"{bucket}/Scores/WGS/HDL_PRScs.gz\")\n",
    "TC_df.export(f\"{bucket}/Scores/WGS/TC_PRScs.gz\")\n",
    "RBC_df.export(f\"{bucket}/Scores/WGS/RBC_PRScs.gz\")\n",
    "leukocyte_df.export(f\"{bucket}/Scores/WGS/leukocyte_PRScs.gz\")\n",
    "T2D.export(f\"{bucket}/Scores/WGS/T2D_PRScs.gz\")\n",
    "Asthma.export(f\"{bucket}/Scores/WGS/Asthma_PRScs.gz\")\n",
    "Breast_Cancer.export(f\"{bucket}/Scores/WGS/Breast_Cancer_PRScs.gz\")\n",
    "Colorectal_Cancer.export(f\"{bucket}/Scores/WGS/Colorectal_Cancer_PRScs.gz\")"
   ]
  },
  {
   "cell_type": "markdown",
   "metadata": {},
   "source": [
    "## Plot correlation"
   ]
  },
  {
   "cell_type": "code",
   "execution_count": 1,
   "metadata": {},
   "outputs": [],
   "source": [
    "from datetime import datetime\n",
    "import os\n",
    "import pandas as pd\n",
    "import numpy as np\n",
    "import seaborn as sns\n",
    "import matplotlib.pyplot as plt"
   ]
  },
  {
   "cell_type": "code",
   "execution_count": 4,
   "metadata": {
    "scrolled": true
   },
   "outputs": [],
   "source": [
    "# 91489 scores\n",
    "array_Height = pd.read_csv(f\"{bucket}/Scores/Array/Height_PRScs.gz\",sep = \"\\t\", index_col=\"s\")\n",
    "array_DBP = pd.read_csv(f\"{bucket}/Scores/Array/DBP_PRScs.gz\",sep = \"\\t\", index_col=\"s\")\n",
    "array_HDL = pd.read_csv(f\"{bucket}/Scores/Array/HDL_PRScs.gz\",sep = \"\\t\", index_col=\"s\")\n",
    "array_TC = pd.read_csv(f\"{bucket}/Scores/Array/TC_PRScs.gz\",sep = \"\\t\", index_col=\"s\")\n",
    "array_RBC = pd.read_csv(f\"{bucket}/Scores/Array/RBC_PRScs.gz\",sep = \"\\t\", index_col=\"s\")\n",
    "array_leukocyte = pd.read_csv(f\"{bucket}/Scores/Array/leukocyte_PRScs.gz\",sep = \"\\t\", index_col=\"s\")\n",
    "\n",
    "# 91630 scores\n",
    "array_Asthma = pd.read_csv(f\"{bucket}/Scores/Array/Asthma_PRScs.gz\",sep = \"\\t\", index_col=\"s\")\n",
    "array_T2D = pd.read_csv(f\"{bucket}/Scores/Array/T2D_PRScs.gz\",sep = \"\\t\", index_col=\"s\")\n",
    "array_Colorectal_Cancer = pd.read_csv(f\"{bucket}/Scores/Array/Colorectal_Cancer_PRScs.gz\",sep = \"\\t\", index_col=\"s\")\n",
    "array_Breast_Cancer = pd.read_csv(f\"{bucket}/Scores/Array/Breast_Cancer_PRScs.gz\",sep = \"\\t\", index_col=\"s\")"
   ]
  },
  {
   "cell_type": "code",
   "execution_count": 5,
   "metadata": {},
   "outputs": [],
   "source": [
    "# 91489 scores\n",
    "wgs_Height = pd.read_csv(f\"{bucket}/Scores/WGS/Height_PRScs.gz\",sep = \"\\t\", index_col=\"s\")\n",
    "wgs_DBP = pd.read_csv(f\"{bucket}/Scores/WGS/DBP_PRScs.gz\",sep = \"\\t\", index_col=\"s\")\n",
    "wgs_HDL = pd.read_csv(f\"{bucket}/Scores/WGS/HDL_PRScs.gz\",sep = \"\\t\", index_col=\"s\")\n",
    "wgs_TC = pd.read_csv(f\"{bucket}/Scores/WGS/TC_PRScs.gz\",sep = \"\\t\", index_col=\"s\")\n",
    "wgs_RBC = pd.read_csv(f\"{bucket}/Scores/WGS/RBC_PRScs.gz\",sep = \"\\t\", index_col=\"s\")\n",
    "wgs_leukocyte = pd.read_csv(f\"{bucket}/Scores/WGS/leukocyte_PRScs.gz\",sep = \"\\t\", index_col=\"s\")\n",
    "\n",
    "# 91630 scores\n",
    "wgs_Asthma = pd.read_csv(f\"{bucket}/Scores/WGS/Asthma_PRScs.gz\",sep = \"\\t\", index_col=\"s\")\n",
    "wgs_T2D = pd.read_csv(f\"{bucket}/Scores/WGS/T2D_PRScs.gz\",sep = \"\\t\", index_col=\"s\")\n",
    "wgs_Colorectal_Cancer = pd.read_csv(f\"{bucket}/Scores/WGS/Colorectal_Cancer_PRScs.gz\",sep = \"\\t\", index_col=\"s\")\n",
    "wgs_Breast_Cancer = pd.read_csv(f\"{bucket}/Scores/WGS/Breast_Cancer_PRScs.gz\",sep = \"\\t\", index_col=\"s\")"
   ]
  },
  {
   "cell_type": "code",
   "execution_count": 6,
   "metadata": {},
   "outputs": [],
   "source": [
    "df_Height = pd.merge(array_Height, wgs_Height, on='s', how='inner')\n",
    "df_DBP = pd.merge(array_DBP, wgs_DBP, on='s', how='inner')\n",
    "df_HDL = pd.merge(array_HDL, wgs_HDL, on='s', how='inner')\n",
    "df_TC = pd.merge(array_TC, wgs_TC, on='s', how='inner')\n",
    "df_RBC = pd.merge(array_RBC, wgs_RBC, on='s', how='inner')\n",
    "df_leukocyte = pd.merge(array_leukocyte, wgs_leukocyte, on='s', how='inner')\n",
    "\n",
    "df_Asthma = pd.merge(array_Asthma, wgs_Asthma, on='s', how='inner')\n",
    "df_T2D = pd.merge(array_T2D, wgs_T2D, on='s', how='inner')\n",
    "df_Colorectal_Cancer = pd.merge(array_Colorectal_Cancer, wgs_Colorectal_Cancer, on='s', how='inner')\n",
    "df_Breast_Cancer = pd.merge(array_Breast_Cancer, wgs_Breast_Cancer, on='s', how='inner')"
   ]
  },
  {
   "cell_type": "code",
   "execution_count": 7,
   "metadata": {},
   "outputs": [],
   "source": [
    "# get sample info\n",
    "quant = pd.read_csv(f\"{bucket}/Pheno/quant_all.tsv\",sep='\\t',index_col='person_id')\n",
    "binary = pd.read_csv(f\"{bucket}/Pheno/binary_all.tsv\",sep='\\t',index_col='person_id')\n",
    "\n",
    "quant = quant[['is_anc_pred_eur', 'is_anc_pred_amr','is_anc_pred_afr']]\n",
    "binary = binary[['is_anc_pred_eur', 'is_anc_pred_amr','is_anc_pred_afr']]\n",
    "\n",
    "# Create a new column 'region' based on the is_eur, is_amr, is_afr columns\n",
    "quant['Population'] = quant['is_anc_pred_eur'].map({1: 'EUR', 0: None}).fillna(quant['is_anc_pred_amr'].map({1: 'AMR', 0: None})).fillna(quant['is_anc_pred_afr'].map({1: 'AFR', 0: None}))\n",
    "binary['Population'] = binary['is_anc_pred_eur'].map({1: 'EUR', 0: None}).fillna(binary['is_anc_pred_amr'].map({1: 'AMR', 0: None})).fillna(binary['is_anc_pred_afr'].map({1: 'AFR', 0: None}))"
   ]
  },
  {
   "cell_type": "code",
   "execution_count": 8,
   "metadata": {},
   "outputs": [],
   "source": [
    "df_Height = df_Height.join(quant)\n",
    "df_DBP = df_DBP.join(quant)\n",
    "df_HDL = df_HDL.join(quant)\n",
    "df_TC = df_TC.join(quant)\n",
    "df_RBC = df_RBC.join(quant)\n",
    "df_leukocyte = df_leukocyte.join(quant)\n",
    "\n",
    "df_Asthma = df_Asthma.join(binary)\n",
    "df_T2D = df_T2D.join(binary)\n",
    "df_Colorectal_Cancer = df_Colorectal_Cancer.join(binary)\n",
    "df_Breast_Cancer = df_Breast_Cancer.join(binary)"
   ]
  },
  {
   "cell_type": "code",
   "execution_count": 14,
   "metadata": {},
   "outputs": [
    {
     "data": {
      "image/png": "[encoded data removed]",
      "text/plain": [
       "<Figure size 1500x800 with 10 Axes>"
      ]
     },
     "metadata": {},
     "output_type": "display_data"
    }
   ],
   "source": [
    "import numpy as np\n",
    "import pandas as pd\n",
    "import seaborn as sns\n",
    "import matplotlib.pyplot as plt\n",
    "\n",
    "# Original list of phenotypes and DataFrames (assuming dfs is defined as before)\n",
    "phenotypes = ['Height', 'DBP', 'HDL', 'TC', 'RBC', 'leukocyte', 'Asthma', 'T2D', 'Colorectal_Cancer', 'Breast_Cancer']\n",
    "dfs = {\n",
    "    'Height': df_Height,\n",
    "    'DBP': df_DBP,\n",
    "    'HDL': df_HDL,\n",
    "    'TC': df_TC,\n",
    "    'RBC': df_RBC,\n",
    "    'leukocyte': df_leukocyte,\n",
    "    'Asthma': df_Asthma,\n",
    "    'T2D': df_T2D,\n",
    "    'Colorectal_Cancer': df_Colorectal_Cancer,\n",
    "    'Breast_Cancer': df_Breast_Cancer\n",
    "}\n",
    "\n",
    "# Rename the phenotypes (3 chosen phenotypes)\n",
    "phenotypes_renamed = ['Height', 'DBP', 'HDL', 'TC', 'RBC', 'Leukocytes', 'Asthma', 'T2D', 'Colorectal Cancer', 'Breast Cancer']\n",
    "\n",
    "# Color map for the populations\n",
    "color_map = {\n",
    "    'EUR': 'red',\n",
    "    'AMR': '#ff7f0e',  \n",
    "    'AFR': 'slateblue'\n",
    "}\n",
    "\n",
    "# Create a 2x5 grid of subplots (2 rows, 5 columns)\n",
    "fig, axes = plt.subplots(2, 5, figsize=(15, 8), sharex=True, sharey=True)\n",
    "\n",
    "# Flatten the axes array for easier indexing\n",
    "axes = axes.flatten()\n",
    "\n",
    "# Loop through the list of phenotypes and plot on each subplot\n",
    "for i, pheno in enumerate(phenotypes_renamed):\n",
    "    original_pheno = phenotypes[i]  # Get the original phenotype name to access the dataframe\n",
    "    if original_pheno in dfs:\n",
    "        df = dfs[original_pheno]\n",
    "        \n",
    "        # Calculate the correlation between the two columns\n",
    "        correlation = np.corrcoef(df['pgs_x'], df['pgs_y'])[0, 1]\n",
    "\n",
    "        # Scatter plot of PGS with colors based on Population\n",
    "        sns.scatterplot(x='pgs_x', y='pgs_y', hue='Population', palette=color_map, data=df, ax=axes[i], \n",
    "                        s=10, alpha=0.7, edgecolor='black', legend=False)\n",
    "\n",
    "        # Regression line (no scatter, just the line)\n",
    "        sns.regplot(x='pgs_x', y='pgs_y', data=df, ax=axes[i], scatter=False, color='red', line_kws={'linewidth': 1}, ci=None)\n",
    "\n",
    "        # Labeling the plot\n",
    "        axes[i].set_xlabel('', fontsize=10)\n",
    "        axes[i].set_ylabel('', fontsize=10)\n",
    "        \n",
    "        # Correct string formatting for the plot title with larger font size\n",
    "        axes[i].set_title(f'PRS-CS: {pheno}', fontsize=16)\n",
    "\n",
    "        # Adding the correlation value to the plot with increased font size\n",
    "        axes[i].text(0.05, 0.95, f'r = {correlation:.5f}', ha='left', va='top', \n",
    "                     transform=axes[i].transAxes, color='black', fontsize=14)\n",
    "    else:\n",
    "        print(f\"DataFrame for {original_pheno} not found.\")\n",
    "\n",
    "    \n",
    "# Set shared axis titles\n",
    "fig.supxlabel(\"Array PGS\", fontsize=20)  # Shared x-axis title\n",
    "fig.text(0, 0.5, \"WGS PGS\", ha='center', va='center', fontsize=20, rotation=90)  # Shared y-axis title\n",
    "\n",
    "# Create a custom legend manually (set order and remove title)\n",
    "handles = [plt.Line2D([0], [0], marker='o', color='w', markerfacecolor=color_map[pop], markersize=10) \n",
    "           for pop in ['EUR', 'AMR', 'AFR']]\n",
    "\n",
    "# Add the legend to the upper-right corner inside the plot frame (adjust `bbox_to_anchor`)\n",
    "fig.legend(handles, ['EUR', 'AMR', 'AFR'], loc='upper right', bbox_to_anchor=(0.99, 0.91), title=None)\n",
    "\n",
    "# Adjust layout to prevent overlapping subplots and ensure the shared titles fit\n",
    "plt.tight_layout(rect=[0, 0, 1, 0.96])  # Leave space for the shared titles\n",
    "\n",
    "# Show the plot\n",
    "plt.show()"
   ]
  },
  {
   "cell_type": "code",
   "execution_count": null,
   "metadata": {},
   "outputs": [],
   "source": []
  }
 ],
 "metadata": {
  "kernelspec": {
   "display_name": "Python 3 (ipykernel)",
   "language": "python",
   "name": "python3"
  },
  "language_info": {
   "codemirror_mode": {
    "name": "ipython",
    "version": 3
   },
   "file_extension": ".py",
   "mimetype": "text/x-python",
   "name": "python",
   "nbconvert_exporter": "python",
   "pygments_lexer": "ipython3",
   "version": "3.10.9"
  },
  "toc": {
   "base_numbering": 1,
   "nav_menu": {},
   "number_sections": true,
   "sideBar": true,
   "skip_h1_title": false,
   "title_cell": "Table of Contents",
   "title_sidebar": "Contents",
   "toc_cell": false,
   "toc_position": {},
   "toc_section_display": true,
   "toc_window_display": false
  }
 },
 "nbformat": 4,
 "nbformat_minor": 2
}
