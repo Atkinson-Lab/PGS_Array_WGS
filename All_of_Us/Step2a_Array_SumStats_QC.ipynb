{
 "cells": [
  {
   "cell_type": "code",
   "execution_count": null,
   "metadata": {},
   "outputs": [],
   "source": [
    "## import packages\n",
    "from datetime import datetime\n",
    "import os\n",
    "import pandas as pd\n",
    "import numpy as np\n",
    "import random\n",
    "from itertools import chain\n",
    "import hail as hl\n",
    "from hail.linalg import BlockMatrix"
   ]
  },
  {
   "cell_type": "code",
   "execution_count": null,
   "metadata": {},
   "outputs": [],
   "source": [
    "DATASET = os.getenv('WORKSPACE_CDR')\n",
    "bucket = os.getenv('WORKSPACE_BUCKET')"
   ]
  },
  {
   "cell_type": "markdown",
   "metadata": {},
   "source": [
    "## Download the summary statistics for 10 phenotypes"
   ]
  },
  {
   "cell_type": "code",
   "execution_count": 10,
   "metadata": {
    "scrolled": true
   },
   "outputs": [
    {
     "name": "stdout",
     "output_type": "stream",
     "text": [
      "  % Total    % Received % Xferd  Average Speed   Time    Time     Time  Current\n",
      "                                 Dload  Upload   Total   Spent    Left  Speed\n",
      "  0     0    0     0    0     0      0      0 --:--:-- --:--:-- --:--:--     0Copying from <STDIN>...\n",
      "100 1953M  100 1953M    0     0  42.3M      0  0:00:46  0:00:46 --:--:-- 37.3M  / [0 files][264.0 KiB/    0.0 B]                                                / [0 files][100.0 MiB/    0.0 B]                                                / [0 files][200.1 MiB/    0.0 B]                                                / [0 files][300.1 MiB/    0.0 B]                                                / [0 files][400.1 MiB/    0.0 B]                                                / [0 files][500.2 MiB/    0.0 B]   30.8 MiB/s                                   / [0 files][600.2 MiB/    0.0 B]   35.0 MiB/s                                   / [0 files][700.2 MiB/    0.0 B]   41.4 MiB/s                                   / [0 files][800.2 MiB/    0.0 B]   49.2 MiB/s                                   / [0 files][900.0 MiB/    0.0 B]   45.1 MiB/s                                   / [0 files][ 1000 MiB/    0.0 B]   46.2 MiB/s                                   / [0 files][  1.1 GiB/    0.0 B]   44.4 MiB/s                                   / [0 files][  1.2 GiB/    0.0 B]   44.1 MiB/s                                   / [0 files][  1.3 GiB/    0.0 B]   49.3 MiB/s                                   / [0 files][  1.4 GiB/    0.0 B]   48.9 MiB/s                                   / [0 files][  1.5 GiB/    0.0 B]   47.4 MiB/s                                   / [0 files][  1.6 GiB/    0.0 B]   45.7 MiB/s                                   / [0 files][  1.7 GiB/    0.0 B]   44.2 MiB/s                                   / [0 files][  1.8 GiB/    0.0 B]   36.8 MiB/s                                   \n",
      "/ [1 files][    0.0 B/    0.0 B]      0.0 B/s                                   \n",
      "Operation completed over 1 objects.                                              \n",
      "  % Total    % Received % Xferd  Average Speed   Time    Time     Time  Current\n",
      "                                 Dload  Upload   Total   Spent    Left  Speed\n",
      "  0     0    0     0    0     0      0      0 --:--:-- --:--:-- --:--:--     0Copying from <STDIN>...\n",
      "100 2181M  100 2181M    0     0  41.1M      0  0:00:52  0:00:52 --:--:-- 49.4M  / [0 files][264.0 KiB/    0.0 B]                                                / [0 files][100.0 MiB/    0.0 B]                                                / [0 files][200.1 MiB/    0.0 B]                                                / [0 files][300.1 MiB/    0.0 B]                                                / [0 files][400.1 MiB/    0.0 B]                                                / [0 files][500.2 MiB/    0.0 B]   44.6 MiB/s                                   / [0 files][600.2 MiB/    0.0 B]   43.6 MiB/s                                   / [0 files][700.2 MiB/    0.0 B]   42.1 MiB/s                                   / [0 files][800.2 MiB/    0.0 B]   25.5 MiB/s                                   / [0 files][900.0 MiB/    0.0 B]   22.9 MiB/s                                   / [0 files][ 1000 MiB/    0.0 B]   48.4 MiB/s                                   / [0 files][  1.1 GiB/    0.0 B]   45.8 MiB/s                                   / [0 files][  1.2 GiB/    0.0 B]   29.9 MiB/s                                   / [0 files][  1.3 GiB/    0.0 B]   30.8 MiB/s                                   / [0 files][  1.4 GiB/    0.0 B]   41.8 MiB/s                                   / [0 files][  1.5 GiB/    0.0 B]   41.6 MiB/s                                   / [0 files][  1.6 GiB/    0.0 B]   45.4 MiB/s                                   / [0 files][  1.7 GiB/    0.0 B]   36.0 MiB/s                                   / [0 files][  1.8 GiB/    0.0 B]   33.9 MiB/s                                   / [0 files][  1.9 GiB/    0.0 B]   47.0 MiB/s                                   / [0 files][  2.0 GiB/    0.0 B]   47.9 MiB/s                                   \n",
      "/ [1 files][    0.0 B/    0.0 B]      0.0 B/s                                   \n",
      "Operation completed over 1 objects.                                              \n",
      "  % Total    % Received % Xferd  Average Speed   Time    Time     Time  Current\n",
      "                                 Dload  Upload   Total   Spent    Left  Speed\n",
      "  0 2175M    0     0    0     0      0      0 --:--:-- --:--:-- --:--:--     0Copying from <STDIN>...\n",
      "100 2175M  100 2175M    0     0  22.9M      0  0:01:34  0:01:34 --:--:-- 25.5M  / [0 files][264.0 KiB/    0.0 B]                                                / [0 files][100.0 MiB/    0.0 B]                                                / [0 files][200.1 MiB/    0.0 B]                                                / [0 files][300.1 MiB/    0.0 B]                                                / [0 files][400.1 MiB/    0.0 B]                                                / [0 files][500.2 MiB/    0.0 B]   41.2 MiB/s                                   / [0 files][600.2 MiB/    0.0 B]   34.1 MiB/s                                   / [0 files][700.2 MiB/    0.0 B]   47.9 MiB/s                                   / [0 files][800.2 MiB/    0.0 B]   42.8 MiB/s                                   / [0 files][900.0 MiB/    0.0 B]   34.1 MiB/s                                   / [0 files][ 1000 MiB/    0.0 B]   47.8 MiB/s                                   / [0 files][  1.1 GiB/    0.0 B]   43.9 MiB/s                                   / [0 files][  1.2 GiB/    0.0 B]   39.7 MiB/s                                   / [0 files][  1.3 GiB/    0.0 B]      0.0 B/s                                   / [0 files][  1.4 GiB/    0.0 B]      0.0 B/s                                   / [0 files][  1.5 GiB/    0.0 B]      0.0 B/s                                   / [0 files][  1.6 GiB/    0.0 B]      0.0 B/s                                   / [0 files][  1.7 GiB/    0.0 B]      0.0 B/s                                   / [0 files][  1.8 GiB/    0.0 B]      0.0 B/s                                   / [0 files][  1.9 GiB/    0.0 B]   17.4 MiB/s                                   / [0 files][  2.0 GiB/    0.0 B]   28.0 MiB/s                                   \n",
      "/ [1 files][    0.0 B/    0.0 B]      0.0 B/s                                   \n",
      "Operation completed over 1 objects.                                              \n",
      "  % Total    % Received % Xferd  Average Speed   Time    Time     Time  Current\n",
      "                                 Dload  Upload   Total   Spent    Left  Speed\n",
      "  0     0    0     0    0     0      0      0 --:--:-- --:--:-- --:--:--     0Copying from <STDIN>...\n",
      "100 2181M  100 2181M    0     0  44.6M      0  0:00:48  0:00:48 --:--:-- 46.2M  / [0 files][264.0 KiB/    0.0 B]                                                / [0 files][100.0 MiB/    0.0 B]                                                / [0 files][200.1 MiB/    0.0 B]                                                / [0 files][300.1 MiB/    0.0 B]                                                / [0 files][400.1 MiB/    0.0 B]                                                / [0 files][500.2 MiB/    0.0 B]   43.9 MiB/s                                   / [0 files][600.2 MiB/    0.0 B]   41.2 MiB/s                                   / [0 files][700.2 MiB/    0.0 B]   50.0 MiB/s                                   / [0 files][800.2 MiB/    0.0 B]   51.6 MiB/s                                   / [0 files][900.0 MiB/    0.0 B]   45.4 MiB/s                                   / [0 files][ 1000 MiB/    0.0 B]   48.8 MiB/s                                   / [0 files][  1.1 GiB/    0.0 B]   50.4 MiB/s                                   / [0 files][  1.2 GiB/    0.0 B]   45.4 MiB/s                                   / [0 files][  1.3 GiB/    0.0 B]   41.9 MiB/s                                   / [0 files][  1.4 GiB/    0.0 B]   42.5 MiB/s                                   / [0 files][  1.5 GiB/    0.0 B]   47.8 MiB/s                                   / [0 files][  1.6 GiB/    0.0 B]   45.4 MiB/s                                   / [0 files][  1.7 GiB/    0.0 B]   46.2 MiB/s                                   / [0 files][  1.8 GiB/    0.0 B]   47.5 MiB/s                                   / [0 files][  1.9 GiB/    0.0 B]   45.1 MiB/s                                   / [0 files][  2.0 GiB/    0.0 B]   46.1 MiB/s                                   \n",
      "/ [1 files][    0.0 B/    0.0 B]      0.0 B/s                                   \n",
      "Operation completed over 1 objects.                                              \n",
      "  % Total    % Received % Xferd  Average Speed   Time    Time     Time  Current\n",
      "                                 Dload  Upload   Total   Spent    Left  Speed\n",
      "  0     0    0     0    0     0      0      0 --:--:-- --:--:-- --:--:--     0Copying from <STDIN>...\n",
      "100 2194M  100 2194M    0     0  46.3M      0  0:00:47  0:00:47 --:--:-- 53.4M  / [0 files][264.0 KiB/    0.0 B]                                                / [0 files][100.0 MiB/    0.0 B]                                                / [0 files][200.1 MiB/    0.0 B]                                                / [0 files][300.1 MiB/    0.0 B]                                                / [0 files][400.1 MiB/    0.0 B]                                                / [0 files][500.2 MiB/    0.0 B]   47.5 MiB/s                                   / [0 files][600.2 MiB/    0.0 B]   52.9 MiB/s                                   / [0 files][700.2 MiB/    0.0 B]   47.9 MiB/s                                   / [0 files][800.2 MiB/    0.0 B]   45.2 MiB/s                                   / [0 files][900.0 MiB/    0.0 B]   47.2 MiB/s                                   / [0 files][ 1000 MiB/    0.0 B]   46.9 MiB/s                                   / [0 files][  1.1 GiB/    0.0 B]   48.3 MiB/s                                   / [0 files][  1.2 GiB/    0.0 B]   49.9 MiB/s                                   / [0 files][  1.3 GiB/    0.0 B]   48.2 MiB/s                                   / [0 files][  1.4 GiB/    0.0 B]   51.2 MiB/s                                   / [0 files][  1.5 GiB/    0.0 B]   51.1 MiB/s                                   / [0 files][  1.6 GiB/    0.0 B]   47.5 MiB/s                                   / [0 files][  1.7 GiB/    0.0 B]   48.5 MiB/s                                   / [0 files][  1.8 GiB/    0.0 B]   42.9 MiB/s                                   / [0 files][  1.9 GiB/    0.0 B]   44.3 MiB/s                                   / [0 files][  2.0 GiB/    0.0 B]   51.4 MiB/s                                   \n",
      "/ [1 files][    0.0 B/    0.0 B]      0.0 B/s                                   \n",
      "Operation completed over 1 objects.                                              \n",
      "  % Total    % Received % Xferd  Average Speed   Time    Time     Time  Current\n",
      "                                 Dload  Upload   Total   Spent    Left  Speed\n",
      "  0     0    0     0    0     0      0      0 --:--:-- --:--:-- --:--:--     0Copying from <STDIN>...\n",
      "100 2181M  100 2181M    0     0  38.6M      0  0:00:56  0:00:56 --:--:-- 45.4M  / [0 files][264.0 KiB/    0.0 B]                                                / [0 files][100.0 MiB/    0.0 B]                                                / [0 files][200.1 MiB/    0.0 B]                                                / [0 files][300.1 MiB/    0.0 B]                                                / [0 files][400.1 MiB/    0.0 B]   46.7 MiB/s                                   / [0 files][500.2 MiB/    0.0 B]   47.9 MiB/s                                   / [0 files][600.2 MiB/    0.0 B]   44.9 MiB/s                                   / [0 files][700.2 MiB/    0.0 B]   43.8 MiB/s                                   / [0 files][800.2 MiB/    0.0 B]   42.3 MiB/s                                   / [0 files][900.0 MiB/    0.0 B]   29.3 MiB/s                                   / [0 files][ 1000 MiB/    0.0 B]   34.2 MiB/s                                   / [0 files][  1.1 GiB/    0.0 B]   40.1 MiB/s                                   / [0 files][  1.2 GiB/    0.0 B]   49.8 MiB/s                                   / [0 files][  1.3 GiB/    0.0 B]   46.6 MiB/s                                   / [0 files][  1.4 GiB/    0.0 B]   26.9 MiB/s                                   / [0 files][  1.5 GiB/    0.0 B]   25.1 MiB/s                                   / [0 files][  1.6 GiB/    0.0 B]   43.8 MiB/s                                   / [0 files][  1.7 GiB/    0.0 B]   47.5 MiB/s                                   / [0 files][  1.8 GiB/    0.0 B]   23.9 MiB/s                                   / [0 files][  1.9 GiB/    0.0 B]   21.9 MiB/s                                   / [0 files][  2.0 GiB/    0.0 B]   49.8 MiB/s                                   \n",
      "/ [1 files][    0.0 B/    0.0 B]      0.0 B/s                                   \n",
      "Operation completed over 1 objects.                                              \n",
      "  % Total    % Received % Xferd  Average Speed   Time    Time     Time  Current\n",
      "                                 Dload  Upload   Total   Spent    Left  Speed\n",
      "  0     0    0     0    0     0      0      0 --:--:-- --:--:-- --:--:--     0Copying from <STDIN>...\n"
     ]
    },
    {
     "name": "stdout",
     "output_type": "stream",
     "text": [
      "100 2352M  100 2352M    0     0  42.1M      0  0:00:55  0:00:55 --:--:-- 56.6M  / [0 files][264.0 KiB/    0.0 B]                                                / [0 files][100.0 MiB/    0.0 B]                                                / [0 files][200.1 MiB/    0.0 B]                                                / [0 files][300.1 MiB/    0.0 B]                                                / [0 files][400.1 MiB/    0.0 B]                                                / [0 files][500.2 MiB/    0.0 B]   50.7 MiB/s                                   / [0 files][600.2 MiB/    0.0 B]   47.9 MiB/s                                   / [0 files][700.2 MiB/    0.0 B]   49.2 MiB/s                                   / [0 files][800.2 MiB/    0.0 B]   52.5 MiB/s                                   / [0 files][900.0 MiB/    0.0 B]   34.8 MiB/s                                   / [0 files][ 1000 MiB/    0.0 B]   34.1 MiB/s                                   / [0 files][  1.1 GiB/    0.0 B]   34.3 MiB/s                                   / [0 files][  1.2 GiB/    0.0 B]   43.7 MiB/s                                   / [0 files][  1.3 GiB/    0.0 B]   47.2 MiB/s                                   / [0 files][  1.4 GiB/    0.0 B]   51.5 MiB/s                                   / [0 files][  1.5 GiB/    0.0 B]   51.8 MiB/s                                   / [0 files][  1.6 GiB/    0.0 B]   29.5 MiB/s                                   41  0:00:15 34.5M/ [0 files][  1.7 GiB/    0.0 B]   45.6 MiB/s                                   / [0 files][  1.8 GiB/    0.0 B]   40.5 MiB/s                                   / [0 files][  1.9 GiB/    0.0 B]   42.1 MiB/s                                   / [0 files][  2.0 GiB/    0.0 B]   40.8 MiB/s                                   / [0 files][  2.0 GiB/    0.0 B]   41.8 MiB/s                                   / [0 files][  2.2 GiB/    0.0 B]   51.2 MiB/s                                   \n",
      "/ [1 files][    0.0 B/    0.0 B]      0.0 B/s                                   \n",
      "Operation completed over 1 objects.                                              \n",
      "  % Total    % Received % Xferd  Average Speed   Time    Time     Time  Current\n",
      "                                 Dload  Upload   Total   Spent    Left  Speed\n",
      "  0     0    0     0    0     0      0      0 --:--:-- --:--:-- --:--:--     0Copying from <STDIN>...\n",
      "100 2275M  100 2275M    0     0  20.1M      0  0:01:52  0:01:52 --:--:-- 21.6M  / [0 files][264.0 KiB/    0.0 B]                                                / [0 files][100.0 MiB/    0.0 B]                                                / [0 files][200.1 MiB/    0.0 B]                                                / [0 files][300.1 MiB/    0.0 B]                                                / [0 files][400.1 MiB/    0.0 B]                                                / [0 files][500.2 MiB/    0.0 B]   35.2 MiB/s                                   / [0 files][600.2 MiB/    0.0 B]   30.6 MiB/s                                    0:01:06  0:00:21  0:00:45 28.8M/ [0 files][700.2 MiB/    0.0 B]   30.5 MiB/s                                   / [0 files][800.2 MiB/    0.0 B]   23.2 MiB/s                                   / [0 files][900.0 MiB/    0.0 B]   28.5 MiB/s                                   / [0 files][ 1000 MiB/    0.0 B]   30.6 MiB/s                                   / [0 files][  1.1 GiB/    0.0 B]   30.2 MiB/s                                   / [0 files][  1.2 GiB/    0.0 B]      0.0 B/s                                   2275M   58 1324M    0     0  27.8M      0  0:01:21  0:00:47  0:00:34 9420k/ [0 files][  1.3 GiB/    0.0 B]      0.0 B/s                                   / [0 files][  1.4 GiB/    0.0 B]      0.0 B/s                                   / [0 files][  1.5 GiB/    0.0 B]      0.0 B/s                                   / [0 files][  1.6 GiB/    0.0 B]      0.0 B/s                                   / [0 files][  1.7 GiB/    0.0 B]      0.0 B/s                                   / [0 files][  1.8 GiB/    0.0 B]      0.0 B/s                                   / [0 files][  1.9 GiB/    0.0 B]      0.0 B/s                                   / [0 files][  2.0 GiB/    0.0 B]      0.0 B/s                                   / [0 files][  2.0 GiB/    0.0 B]   20.2 MiB/s                                   \n",
      "/ [1 files][    0.0 B/    0.0 B]      0.0 B/s                                   \n",
      "Operation completed over 1 objects.                                              \n",
      "  % Total    % Received % Xferd  Average Speed   Time    Time     Time  Current\n",
      "                                 Dload  Upload   Total   Spent    Left  Speed\n",
      "  0     0    0     0    0     0      0      0 --:--:-- --:--:-- --:--:--     0Copying from <STDIN>...\n",
      "100 1756M  100 1756M    0     0  39.8M      0  0:00:44  0:00:44 --:--:-- 39.2M  / [0 files][264.0 KiB/    0.0 B]                                                / [0 files][100.0 MiB/    0.0 B]                                                / [0 files][200.1 MiB/    0.0 B]                                                0  37.5M      0  0:00:46  0:00:07  0:00:39 44.9M/ [0 files][300.1 MiB/    0.0 B]                                                / [0 files][400.1 MiB/    0.0 B]                                                / [0 files][500.2 MiB/    0.0 B]   23.0 MiB/s                                   / [0 files][600.2 MiB/    0.0 B]   42.5 MiB/s                                   / [0 files][700.2 MiB/    0.0 B]   49.0 MiB/s                                   / [0 files][800.2 MiB/    0.0 B]   47.2 MiB/s                                   / [0 files][900.0 MiB/    0.0 B]   34.6 MiB/s                                   / [0 files][ 1000 MiB/    0.0 B]   29.3 MiB/s                                   / [0 files][  1.1 GiB/    0.0 B]   32.5 MiB/s                                   / [0 files][  1.2 GiB/    0.0 B]   47.8 MiB/s                                   / [0 files][  1.3 GiB/    0.0 B]   23.5 MiB/s                                   / [0 files][  1.4 GiB/    0.0 B]   35.1 MiB/s                                   / [0 files][  1.5 GiB/    0.0 B]   43.9 MiB/s                                   / [0 files][  1.6 GiB/    0.0 B]   45.3 MiB/s                                   \n",
      "/ [1 files][    0.0 B/    0.0 B]      0.0 B/s                                   \n",
      "Operation completed over 1 objects.                                              \n",
      "  % Total    % Received % Xferd  Average Speed   Time    Time     Time  Current\n",
      "                                 Dload  Upload   Total   Spent    Left  Speed\n",
      "  0     0    0     0    0     0      0      0 --:--:-- --:--:-- --:--:--     0Copying from <STDIN>...\n",
      "100 1501M  100 1501M    0     0  42.5M      0  0:00:35  0:00:35 --:--:-- 47.9M  / [0 files][264.0 KiB/    0.0 B]                                                / [0 files][100.0 MiB/    0.0 B]                                                / [0 files][200.1 MiB/    0.0 B]                                                / [0 files][300.1 MiB/    0.0 B]                                                / [0 files][400.1 MiB/    0.0 B]                                                / [0 files][500.2 MiB/    0.0 B]   47.0 MiB/s                                   / [0 files][600.2 MiB/    0.0 B]   48.1 MiB/s                                   / [0 files][700.2 MiB/    0.0 B]   41.1 MiB/s                                    41.4M      0  0:00:36  0:00:21  0:00:15 43.0M/ [0 files][800.2 MiB/    0.0 B]   23.4 MiB/s                                   / [0 files][900.0 MiB/    0.0 B]   38.7 MiB/s                                   / [0 files][ 1000 MiB/    0.0 B]   46.3 MiB/s                                   / [0 files][  1.1 GiB/    0.0 B]   44.9 MiB/s                                   / [0 files][  1.2 GiB/    0.0 B]   45.7 MiB/s                                   / [0 files][  1.3 GiB/    0.0 B]   46.7 MiB/s                                   / [0 files][  1.4 GiB/    0.0 B]   48.8 MiB/s                                   \n",
      "/ [1 files][    0.0 B/    0.0 B]      0.0 B/s                                   \n",
      "Operation completed over 1 objects.                                              \n"
     ]
    }
   ],
   "source": [
    "!curl https://pan-ukb-us-east-1.s3.amazonaws.com/sumstats_flat_files/continuous-50-both_sexes-irnt.tsv.bgz | gsutil cp - \"gs://fc-secure-9afe7562-2fad-4781-ab60-03528a626c19/Sumstats/continuous-50-both_sexes-irnt.tsv.bgz\"\n",
    "!curl https://pan-ukb-us-east-1.s3.amazonaws.com/sumstats_flat_files/continuous-DBP-both_sexes-auto_medadj_irnt.tsv.bgz | gsutil cp - \"gs://fc-secure-9afe7562-2fad-4781-ab60-03528a626c19/Sumstats/continuous-DBP-both_sexes-auto_medadj_irnt.tsv.bgz\"\n",
    "!curl https://pan-ukb-us-east-1.s3.amazonaws.com/sumstats_flat_files/biomarkers-30760-both_sexes-irnt.tsv.bgz | gsutil cp - \"gs://fc-secure-9afe7562-2fad-4781-ab60-03528a626c19/Sumstats/biomarkers-30760-both_sexes-irnt.tsv.bgz\"\n",
    "!curl https://pan-ukb-us-east-1.s3.amazonaws.com/sumstats_flat_files/biomarkers-30690-both_sexes-irnt.tsv.bgz | gsutil cp - \"gs://fc-secure-9afe7562-2fad-4781-ab60-03528a626c19/Sumstats/biomarkers-30690-both_sexes-irnt.tsv.bgz\"\n",
    "!curl https://pan-ukb-us-east-1.s3.amazonaws.com/sumstats_flat_files/continuous-30010-both_sexes-irnt.tsv.bgz | gsutil cp - \"gs://fc-secure-9afe7562-2fad-4781-ab60-03528a626c19/Sumstats/continuous-30010-both_sexes-irnt.tsv.bgz\"\n",
    "!curl https://pan-ukb-us-east-1.s3.amazonaws.com/sumstats_flat_files/continuous-30000-both_sexes-irnt.tsv.bgz | gsutil cp - \"gs://fc-secure-9afe7562-2fad-4781-ab60-03528a626c19/Sumstats/continuous-30000-both_sexes-irnt.tsv.bgz\"\n",
    "!curl https://pan-ukb-us-east-1.s3.amazonaws.com/sumstats_flat_files/phecode-250.2-both_sexes.tsv.bgz | gsutil cp - \"gs://fc-secure-9afe7562-2fad-4781-ab60-03528a626c19/Sumstats/phecode-250.2-both_sexes.tsv.bgz\"\n",
    "!curl https://pan-ukb-us-east-1.s3.amazonaws.com/sumstats_flat_files/phecode-495-both_sexes.tsv.bgz | gsutil cp - \"gs://fc-secure-9afe7562-2fad-4781-ab60-03528a626c19/Sumstats/phecode-495-both_sexes.tsv.bgz\"\n",
    "!curl https://pan-ukb-us-east-1.s3.amazonaws.com/sumstats_flat_files/phecode-174.1-females.tsv.bgz | gsutil cp - \"gs://fc-secure-9afe7562-2fad-4781-ab60-03528a626c19/Sumstats/phecode-174.1-females.tsv.bgz\"\n",
    "!curl https://pan-ukb-us-east-1.s3.amazonaws.com/sumstats_flat_files/phecode-153-both_sexes.tsv.bgz | gsutil cp - \"gs://fc-secure-9afe7562-2fad-4781-ab60-03528a626c19/Sumstats/phecode-153-both_sexes.tsv.bgz\""
   ]
  },
  {
   "cell_type": "markdown",
   "metadata": {},
   "source": [
    "## QC\n",
    "\n",
    "1. Liftover, key the sumstats by locus\n",
    "2. Restrict to biallelic variants \n",
    "3. Negative strand problems\n",
    "4. Annotate to matrix table, and swap ref:alt if necessary"
   ]
  },
  {
   "cell_type": "markdown",
   "metadata": {},
   "source": [
    "### Liftover, then key the sumstats by locus"
   ]
  },
  {
   "cell_type": "code",
   "execution_count": 4,
   "metadata": {},
   "outputs": [
    {
     "name": "stderr",
     "output_type": "stream",
     "text": [
      "Initializing Hail with default parameters...\n",
      "Setting default log level to \"WARN\".\n",
      "To adjust logging level use sc.setLogLevel(newLevel). For SparkR, use setLogLevel(newLevel).\n",
      "Running on Apache Spark version 3.1.3\n",
      "SparkUI available at http://all-of-us-2936-m.c.terra-vpc-sc-fd39b54c.internal:33887\n",
      "Welcome to\n",
      "     __  __     <>__\n",
      "    / /_/ /__  __/ /\n",
      "   / __  / _ `/ / /\n",
      "  /_/ /_/\\_,_/_/_/   version 0.2.107-2387bb00ceee\n",
      "LOGGING: writing to /home/jupyter/workspaces/prswithwgsvsarraydata/hail-20230323-2045-0.2.107-2387bb00ceee.log\n"
     ]
    }
   ],
   "source": [
    "rg37 = hl.get_reference('GRCh37')\n",
    "rg38 = hl.get_reference('GRCh38')  \n",
    "rg37.add_liftover('gs://hail-common/references/grch37_to_grch38.over.chain.gz', rg38)  "
   ]
  },
  {
   "cell_type": "code",
   "execution_count": null,
   "metadata": {},
   "outputs": [],
   "source": [
    "var_array = hl.read_table(f\"{bucket}/ArrayData/Array_Vars_QCed.ht\")\n",
    "var_array = var_array.key_by(\"locus\")"
   ]
  },
  {
   "cell_type": "code",
   "execution_count": 8,
   "metadata": {},
   "outputs": [],
   "source": [
    "# write a function to streamline this\n",
    "def sumstats_QC(filename_in, filename_temp, filename_out, var_array):\n",
    "    sumstats = hl.import_table(filename_in, \n",
    "                               impute=True, \n",
    "                               types={\"pos\": \"str\"})\n",
    "    # most of the fields are irrelevant for our analysis, drop it first to save computation \n",
    "    sumstats = sumstats.select(sumstats.chr, \n",
    "                               sumstats.pos,\n",
    "                               sumstats.ref,\n",
    "                               sumstats.alt,\n",
    "                               sumstats.beta_meta, \n",
    "                               sumstats.se_meta, \n",
    "                               sumstats.neglog10_pval_meta)\n",
    "    \n",
    "    sumstats = sumstats.annotate(variant = sumstats['chr']+\":\"+sumstats['pos'] +\":\"+ sumstats['ref'] +\":\"+ sumstats['alt'])\n",
    "    sumstats = sumstats.annotate(**hl.parse_variant(sumstats.variant, reference_genome='GRCh37'))\n",
    "    sumstats = sumstats.annotate(**hl.liftover(sumstats.locus, 'GRCh38', include_strand=True))\n",
    "    sumstats = sumstats.rename({'result' : 'locus_GRCh38',\n",
    "                                'locus' : 'locus_GRCh37'})\n",
    "    sumstats = sumstats.filter((hl.is_defined(sumstats.locus_GRCh38)) & \n",
    "                                      (~hl.is_nan(sumstats.beta_meta)) &\n",
    "                                      (~hl.is_nan(sumstats.se_meta)) &\n",
    "                                      (~hl.is_nan(sumstats.neglog10_pval_meta))) \n",
    "    sumstats = sumstats.key_by(sumstats.locus_GRCh38)\n",
    "    \n",
    "    \n",
    "    \n",
    "    ############## biallelic SNPs ############\n",
    "    sumstats_loci_count = sumstats.group_by(*sumstats.key).aggregate(n_allele = hl.agg.count())\n",
    "    sumstats = sumstats.annotate(**sumstats_loci_count[sumstats.locus_GRCh38])\n",
    "    sumstats = sumstats.filter(sumstats.n_allele == 1)\n",
    "\n",
    "    ## check if is_SNP\n",
    "    sumstats = sumstats.filter(hl.is_snp(sumstats.alleles[0], sumstats.alleles[1]))\n",
    "    \n",
    "    ############## flip negative strand ############\n",
    "    alleles_fix_neg_strand = hl.if_else(sumstats.is_negative_strand, \n",
    "           hl.reverse_complement(sumstats.alleles[0]) + \":\" + hl.reverse_complement(sumstats.alleles[1]), \n",
    "           sumstats.alleles[0] + \":\" + sumstats.alleles[1]).split(':')\n",
    "\n",
    "    sumstats = sumstats.annotate(alleles_fix_neg_strand = alleles_fix_neg_strand)\n",
    "    sumstats = sumstats.checkpoint(filename_temp) \n",
    "    \n",
    "    ############## check ref:alt, flip if necessary ############\n",
    "    var_array = var_array.annotate(**sumstats[var_array.locus])\n",
    "    var_array = var_array.filter((~hl.is_nan(var_array.beta_meta)) &\n",
    "                                  (~hl.is_nan(var_array.se_meta)) &\n",
    "                                  (~hl.is_nan(var_array.neglog10_pval_meta)))\n",
    "    \n",
    "    var_array = var_array.annotate(beta_meta_fix_ref_alt = hl.case()\n",
    "        .when(((var_array.alleles[0] == var_array.alleles_fix_neg_strand[0]) & (var_array.alleles[1] == var_array.alleles_fix_neg_strand[1])), var_array.beta_meta) \n",
    "        .when(((var_array.alleles[0] == var_array.alleles_fix_neg_strand[1]) & (var_array.alleles[1] == var_array.alleles_fix_neg_strand[0])), -var_array.beta_meta)\n",
    "        .default(float('nan')))\n",
    "    \n",
    "    sumstats_QCed = var_array.select(\n",
    "                        rsid = var_array.rsid,\n",
    "                        alleles1_array = var_array.alleles[0],\n",
    "                        alleles2_array = var_array.alleles[1],\n",
    "                        alleles1_sumstats_original = var_array.ref,\n",
    "                        alleles2_sumstats_original = var_array.alt,\n",
    "                        is_negative_strand = var_array.is_negative_strand,\n",
    "                        alleles1_sumstats_fixstrand = var_array.alleles_fix_neg_strand[0],\n",
    "                        alleles2_sumstats_fixstrand = var_array.alleles_fix_neg_strand[1],\n",
    "                        beta_meta = var_array.beta_meta,\n",
    "                        beta_meta_fix_ref_alt = var_array.beta_meta_fix_ref_alt,\n",
    "                        se_meta = var_array.se_meta,\n",
    "                        neglog10_pval_meta = var_array.neglog10_pval_meta)\n",
    "    \n",
    "    sumstats_QCed.export(filename_out)"
   ]
  },
  {
   "cell_type": "markdown",
   "metadata": {},
   "source": [
    "### Note:\n",
    "\n",
    "Binary phenotype sumstats doesn't have `af_meta_hq`, `beta_meta_hq`,`se_meta_hq`,`neglog10_pval_meta_hq` fields;  \n",
    "\n",
    "Therefore, used `beta_meta`,`se_meta`,`neglog10_pval_meta` fields for binary traits\n",
    "\n",
    "Moreover, binary traits split `af` by case vs control; didn't include AF fields in QC pipeline for binary traits "
   ]
  },
  {
   "cell_type": "code",
   "execution_count": 7,
   "metadata": {},
   "outputs": [
    {
     "name": "stdout",
     "output_type": "stream",
     "text": [
      "Height 2023-03-23 16:06:02.239457\n"
     ]
    },
    {
     "name": "stderr",
     "output_type": "stream",
     "text": [
      "2023-03-23 16:06:16.110 Hail: INFO: wrote table with 1949630 rows in 1 partition to /tmp/persist_tableJz7t06OTFL\n",
      "2023-03-23 16:06:19.700 Hail: INFO: Reading table to impute column types 1) / 1]\n",
      "2023-03-23 16:07:21.721 Hail: INFO: Loading <StructExpression of type struct{chr: str, pos: str, ref: str, alt: str, af_meta_hq: float64, beta_meta_hq: float64, se_meta_hq: float64, neglog10_pval_meta_hq: float64, neglog10_pval_heterogeneity_hq: float64, af_meta: float64, beta_meta: float64, se_meta: float64, neglog10_pval_meta: float64, neglog10_pval_heterogeneity: float64, af_AFR: float64, af_AMR: float64, af_CSA: float64, af_EAS: float64, af_EUR: float64, beta_AFR: float64, beta_AMR: float64, beta_CSA: float64, beta_EAS: float64, beta_EUR: float64, se_AFR: float64, se_AMR: float64, se_CSA: float64, se_EAS: float64, se_EUR: float64, neglog10_pval_AFR: float64, neglog10_pval_AMR: float64, neglog10_pval_CSA: float64, neglog10_pval_EAS: float64, neglog10_pval_EUR: float64, low_confidence_AFR: bool, low_confidence_AMR: bool, low_confidence_CSA: bool, low_confidence_EAS: bool, low_confidence_EUR: bool}> fields. Counts by type:\n",
      "  float64: 30\n",
      "  bool: 5\n",
      "  str: 4\n",
      "2023-03-23 16:08:58.410 Hail: INFO: Ordering unsorted dataset with network shuffle\n",
      "2023-03-23 16:10:25.994 Hail: INFO: Ordering unsorted dataset with network shuffle\n",
      "2023-03-23 16:13:42.581 Hail: INFO: wrote table with 26354000 rows in 15 partitions to gs://fc-secure-9afe7562-2fad-4781-ab60-03528a626c19/Sumstats/continuous-50-both_sexes-irnt_checkpoint.ht\n",
      "2023-03-23 16:14:28.203 Hail: INFO: merging 2 files totalling 24.1M... + 1) / 1]\n",
      "2023-03-23 16:14:29.003 Hail: INFO: while writing:\n",
      "    gs://fc-secure-9afe7562-2fad-4781-ab60-03528a626c19/Sumstats/Array_Height_QCed.tsv.bgz\n",
      "  merge time: 799.127ms\n"
     ]
    },
    {
     "name": "stdout",
     "output_type": "stream",
     "text": [
      "DBP 2023-03-23 16:14:29.030924\n"
     ]
    },
    {
     "name": "stderr",
     "output_type": "stream",
     "text": [
      "2023-03-23 16:14:39.525 Hail: INFO: wrote table with 1725455 rows in 1 partition to /tmp/persist_tablekjTZXwdKxn\n",
      "2023-03-23 16:14:40.153 Hail: INFO: Reading table to impute column types\n",
      "2023-03-23 16:15:38.928 Hail: INFO: Loading <StructExpression of type struct{chr: str, pos: str, ref: str, alt: str, af_meta_hq: float64, beta_meta_hq: float64, se_meta_hq: float64, neglog10_pval_meta_hq: float64, neglog10_pval_heterogeneity_hq: float64, af_meta: float64, beta_meta: float64, se_meta: float64, neglog10_pval_meta: float64, neglog10_pval_heterogeneity: float64, af_AFR: float64, af_AMR: float64, af_CSA: float64, af_EAS: float64, af_EUR: float64, af_MID: float64, beta_AFR: float64, beta_AMR: float64, beta_CSA: float64, beta_EAS: float64, beta_EUR: float64, beta_MID: float64, se_AFR: float64, se_AMR: float64, se_CSA: float64, se_EAS: float64, se_EUR: float64, se_MID: float64, neglog10_pval_AFR: float64, neglog10_pval_AMR: float64, neglog10_pval_CSA: float64, neglog10_pval_EAS: float64, neglog10_pval_EUR: float64, neglog10_pval_MID: float64, low_confidence_AFR: bool, low_confidence_AMR: bool, low_confidence_CSA: bool, low_confidence_EAS: bool, low_confidence_EUR: bool, low_confidence_MID: bool}> fields. Counts by type:\n",
      "  float64: 34\n",
      "  bool: 6\n",
      "  str: 4\n",
      "2023-03-23 16:17:07.437 Hail: INFO: Ordering unsorted dataset with network shuffle\n",
      "2023-03-23 16:18:38.769 Hail: INFO: Ordering unsorted dataset with network shuffle\n",
      "2023-03-23 16:21:46.975 Hail: INFO: wrote table with 21612699 rows in 17 partitions to gs://fc-secure-9afe7562-2fad-4781-ab60-03528a626c19/Sumstats/continuous-DBP-both_sexes-auto_medadj_irnt_checkpoint.ht\n",
      "2023-03-23 16:22:25.283 Hail: INFO: merging 2 files totalling 24.1M... + 1) / 1]\n",
      "2023-03-23 16:22:25.759 Hail: INFO: while writing:\n",
      "    gs://fc-secure-9afe7562-2fad-4781-ab60-03528a626c19/Sumstats/Array_DBP_QCed.tsv.bgz\n",
      "  merge time: 475.337ms\n"
     ]
    },
    {
     "name": "stdout",
     "output_type": "stream",
     "text": [
      "HDL 2023-03-23 16:22:25.773188\n"
     ]
    },
    {
     "name": "stderr",
     "output_type": "stream",
     "text": [
      "2023-03-23 16:22:37.357 Hail: INFO: wrote table with 1725679 rows in 1 partition to /tmp/persist_tabledD2CRPYmhO\n",
      "2023-03-23 16:22:38.679 Hail: INFO: Reading table to impute column types 1) / 1]\n",
      "2023-03-23 16:23:33.932 Hail: INFO: Loading <StructExpression of type struct{chr: str, pos: str, ref: str, alt: str, af_meta_hq: float64, beta_meta_hq: float64, se_meta_hq: float64, neglog10_pval_meta_hq: float64, neglog10_pval_heterogeneity_hq: float64, af_meta: float64, beta_meta: float64, se_meta: float64, neglog10_pval_meta: float64, neglog10_pval_heterogeneity: float64, af_AFR: float64, af_AMR: float64, af_CSA: float64, af_EAS: float64, af_EUR: float64, af_MID: float64, beta_AFR: float64, beta_AMR: float64, beta_CSA: float64, beta_EAS: float64, beta_EUR: float64, beta_MID: float64, se_AFR: float64, se_AMR: float64, se_CSA: float64, se_EAS: float64, se_EUR: float64, se_MID: float64, neglog10_pval_AFR: float64, neglog10_pval_AMR: float64, neglog10_pval_CSA: float64, neglog10_pval_EAS: float64, neglog10_pval_EUR: float64, neglog10_pval_MID: float64, low_confidence_AFR: bool, low_confidence_AMR: bool, low_confidence_CSA: bool, low_confidence_EAS: bool, low_confidence_EUR: bool, low_confidence_MID: bool}> fields. Counts by type:\n",
      "  float64: 34\n",
      "  bool: 6\n",
      "  str: 4\n",
      "2023-03-23 16:25:05.531 Hail: INFO: Ordering unsorted dataset with network shuffle\n",
      "2023-03-23 16:26:31.965 Hail: INFO: Ordering unsorted dataset with network shuffle\n",
      "2023-03-23 16:29:45.909 Hail: INFO: wrote table with 21447186 rows in 17 partitions to gs://fc-secure-9afe7562-2fad-4781-ab60-03528a626c19/Sumstats/biomarkers-30760-both_sexes-irnt_checkpoint.ht\n",
      "2023-03-23 16:30:23.620 Hail: INFO: merging 2 files totalling 24.1M... + 1) / 1]\n",
      "2023-03-23 16:30:24.346 Hail: INFO: while writing:\n",
      "    gs://fc-secure-9afe7562-2fad-4781-ab60-03528a626c19/Sumstats/Array_HDL_QCed.tsv.bgz\n",
      "  merge time: 726.007ms\n"
     ]
    },
    {
     "name": "stdout",
     "output_type": "stream",
     "text": [
      "TC 2023-03-23 16:30:24.364942\n"
     ]
    },
    {
     "name": "stderr",
     "output_type": "stream",
     "text": [
      "2023-03-23 16:30:38.551 Hail: INFO: wrote table with 1725456 rows in 1 partition to /tmp/persist_table9Uql3BLPeY\n",
      "2023-03-23 16:30:39.071 Hail: INFO: Reading table to impute column types\n",
      "2023-03-23 16:31:37.915 Hail: INFO: Loading <StructExpression of type struct{chr: str, pos: str, ref: str, alt: str, af_meta_hq: float64, beta_meta_hq: float64, se_meta_hq: float64, neglog10_pval_meta_hq: float64, neglog10_pval_heterogeneity_hq: float64, af_meta: float64, beta_meta: float64, se_meta: float64, neglog10_pval_meta: float64, neglog10_pval_heterogeneity: float64, af_AFR: float64, af_AMR: float64, af_CSA: float64, af_EAS: float64, af_EUR: float64, af_MID: float64, beta_AFR: float64, beta_AMR: float64, beta_CSA: float64, beta_EAS: float64, beta_EUR: float64, beta_MID: float64, se_AFR: float64, se_AMR: float64, se_CSA: float64, se_EAS: float64, se_EUR: float64, se_MID: float64, neglog10_pval_AFR: float64, neglog10_pval_AMR: float64, neglog10_pval_CSA: float64, neglog10_pval_EAS: float64, neglog10_pval_EUR: float64, neglog10_pval_MID: float64, low_confidence_AFR: bool, low_confidence_AMR: bool, low_confidence_CSA: bool, low_confidence_EAS: bool, low_confidence_EUR: bool, low_confidence_MID: bool}> fields. Counts by type:\n",
      "  float64: 34\n",
      "  bool: 6\n",
      "  str: 4\n",
      "2023-03-23 16:33:03.025 Hail: INFO: Ordering unsorted dataset with network shuffle\n",
      "2023-03-23 16:34:43.752 Hail: INFO: Ordering unsorted dataset with network shuffle\n",
      "2023-03-23 16:37:52.261 Hail: INFO: wrote table with 21637295 rows in 17 partitions to gs://fc-secure-9afe7562-2fad-4781-ab60-03528a626c19/Sumstats/biomarkers-30690-both_sexes-irnt_checkpoint.ht\n",
      "2023-03-23 16:38:31.604 Hail: INFO: merging 2 files totalling 24.1M... + 1) / 1]\n",
      "2023-03-23 16:38:32.038 Hail: INFO: while writing:\n",
      "    gs://fc-secure-9afe7562-2fad-4781-ab60-03528a626c19/Sumstats/Array_TC_QCed.tsv.bgz\n",
      "  merge time: 434.612ms\n"
     ]
    },
    {
     "name": "stdout",
     "output_type": "stream",
     "text": [
      "RBC 2023-03-23 16:38:32.051817\n"
     ]
    },
    {
     "name": "stderr",
     "output_type": "stream",
     "text": [
      "2023-03-23 16:38:46.246 Hail: INFO: wrote table with 1724611 rows in 1 partition to /tmp/persist_tableu46fc0h7kx\n",
      "2023-03-23 16:38:47.722 Hail: INFO: Reading table to impute column types 1) / 1]\n",
      "2023-03-23 16:39:48.434 Hail: INFO: Loading <StructExpression of type struct{chr: str, pos: str, ref: str, alt: str, af_meta_hq: float64, beta_meta_hq: float64, se_meta_hq: float64, neglog10_pval_meta_hq: float64, neglog10_pval_heterogeneity_hq: float64, af_meta: float64, beta_meta: float64, se_meta: float64, neglog10_pval_meta: float64, neglog10_pval_heterogeneity: float64, af_AFR: float64, af_AMR: float64, af_CSA: float64, af_EAS: float64, af_EUR: float64, af_MID: float64, beta_AFR: float64, beta_AMR: float64, beta_CSA: float64, beta_EAS: float64, beta_EUR: float64, beta_MID: float64, se_AFR: float64, se_AMR: float64, se_CSA: float64, se_EAS: float64, se_EUR: float64, se_MID: float64, neglog10_pval_AFR: float64, neglog10_pval_AMR: float64, neglog10_pval_CSA: float64, neglog10_pval_EAS: float64, neglog10_pval_EUR: float64, neglog10_pval_MID: float64, low_confidence_AFR: bool, low_confidence_AMR: bool, low_confidence_CSA: bool, low_confidence_EAS: bool, low_confidence_EUR: bool, low_confidence_MID: bool}> fields. Counts by type:\n",
      "  float64: 34\n",
      "  bool: 6\n",
      "  str: 4\n",
      "2023-03-23 16:41:05.334 Hail: INFO: Ordering unsorted dataset with network shuffle\n",
      "2023-03-23 16:42:29.975 Hail: INFO: Ordering unsorted dataset with network shuffle\n",
      "2023-03-23 16:45:46.115 Hail: INFO: wrote table with 21768202 rows in 17 partitions to gs://fc-secure-9afe7562-2fad-4781-ab60-03528a626c19/Sumstats/continuous-30010-both_sexes-irnt_checkpoint.ht\n",
      "2023-03-23 16:46:26.214 Hail: INFO: merging 2 files totalling 24.1M... + 1) / 1]\n",
      "2023-03-23 16:46:26.673 Hail: INFO: while writing:\n",
      "    gs://fc-secure-9afe7562-2fad-4781-ab60-03528a626c19/Sumstats/Array_RBC_QCed.tsv.bgz\n",
      "  merge time: 458.379ms\n"
     ]
    },
    {
     "name": "stdout",
     "output_type": "stream",
     "text": [
      "leukocyte 2023-03-23 16:46:26.685795\n"
     ]
    },
    {
     "name": "stderr",
     "output_type": "stream",
     "text": [
      "2023-03-23 16:46:39.413 Hail: INFO: wrote table with 1725037 rows in 1 partition to /tmp/persist_tablenQ0ixFrlH4\n",
      "2023-03-23 16:46:40.898 Hail: INFO: Reading table to impute column types 1) / 1]\n",
      "2023-03-23 16:47:33.858 Hail: INFO: Loading <StructExpression of type struct{chr: str, pos: str, ref: str, alt: str, af_meta_hq: float64, beta_meta_hq: float64, se_meta_hq: float64, neglog10_pval_meta_hq: float64, neglog10_pval_heterogeneity_hq: float64, af_meta: float64, beta_meta: float64, se_meta: float64, neglog10_pval_meta: float64, neglog10_pval_heterogeneity: float64, af_AFR: float64, af_AMR: float64, af_CSA: float64, af_EAS: float64, af_EUR: float64, af_MID: float64, beta_AFR: float64, beta_AMR: float64, beta_CSA: float64, beta_EAS: float64, beta_EUR: float64, beta_MID: float64, se_AFR: float64, se_AMR: float64, se_CSA: float64, se_EAS: float64, se_EUR: float64, se_MID: float64, neglog10_pval_AFR: float64, neglog10_pval_AMR: float64, neglog10_pval_CSA: float64, neglog10_pval_EAS: float64, neglog10_pval_EUR: float64, neglog10_pval_MID: float64, low_confidence_AFR: bool, low_confidence_AMR: bool, low_confidence_CSA: bool, low_confidence_EAS: bool, low_confidence_EUR: bool, low_confidence_MID: bool}> fields. Counts by type:\n",
      "  float64: 34\n",
      "  bool: 6\n",
      "  str: 4\n",
      "2023-03-23 16:48:56.214 Hail: INFO: Ordering unsorted dataset with network shuffle\n",
      "2023-03-23 16:50:17.696 Hail: INFO: Ordering unsorted dataset with network shuffle\n",
      "2023-03-23 16:53:17.415 Hail: INFO: wrote table with 21670282 rows in 17 partitions to gs://fc-secure-9afe7562-2fad-4781-ab60-03528a626c19/Sumstats/continuous-30000-both_sexes-irnt_checkpoint.ht\n",
      "2023-03-23 16:53:56.691 Hail: INFO: merging 2 files totalling 24.1M... + 1) / 1]\n",
      "2023-03-23 16:53:57.191 Hail: INFO: while writing:\n",
      "    gs://fc-secure-9afe7562-2fad-4781-ab60-03528a626c19/Sumstats/Array_leukocyte_QCed.tsv.bgz\n",
      "  merge time: 499.805ms\n"
     ]
    },
    {
     "name": "stdout",
     "output_type": "stream",
     "text": [
      "T2D 2023-03-23 16:53:57.204369\n"
     ]
    },
    {
     "name": "stderr",
     "output_type": "stream",
     "text": [
      "2023-03-23 16:54:09.798 Hail: INFO: wrote table with 1626966 rows in 1 partition to /tmp/persist_table7OrCT88jwW\n",
      "2023-03-23 16:54:11.088 Hail: INFO: Reading table to impute column types 1) / 1]\n",
      "2023-03-23 16:55:13.536 Hail: INFO: Loading <StructExpression of type struct{chr: str, pos: str, ref: str, alt: str, af_cases_meta_hq: float64, af_controls_meta_hq: float64, beta_meta_hq: float64, se_meta_hq: float64, neglog10_pval_meta_hq: float64, neglog10_pval_heterogeneity_hq: float64, af_cases_meta: float64, af_controls_meta: float64, beta_meta: float64, se_meta: float64, neglog10_pval_meta: float64, neglog10_pval_heterogeneity: float64, af_cases_AFR: float64, af_cases_CSA: float64, af_cases_EAS: float64, af_cases_EUR: float64, af_cases_MID: float64, af_controls_AFR: float64, af_controls_CSA: float64, af_controls_EAS: float64, af_controls_EUR: float64, af_controls_MID: float64, beta_AFR: float64, beta_CSA: float64, beta_EAS: float64, beta_EUR: float64, beta_MID: float64, se_AFR: float64, se_CSA: float64, se_EAS: float64, se_EUR: float64, se_MID: float64, neglog10_pval_AFR: float64, neglog10_pval_CSA: float64, neglog10_pval_EAS: float64, neglog10_pval_EUR: float64, neglog10_pval_MID: float64, low_confidence_AFR: bool, low_confidence_CSA: bool, low_confidence_EAS: bool, low_confidence_EUR: bool, low_confidence_MID: bool}> fields. Counts by type:\n",
      "  float64: 37\n",
      "  bool: 5\n",
      "  str: 4\n"
     ]
    },
    {
     "ename": "AttributeError",
     "evalue": "Table instance has no field, method, or property 'af_meta_hq'\n    Did you mean:\n        Data fields: 'beta_meta_hq' [row], 'se_meta_hq' [row], 'af_cases_meta_hq' [row], 'af_controls_meta_hq' [row], 'beta_meta' [row]",
     "output_type": "error",
     "traceback": [
      "\u001b[0;31m---------------------------------------------------------------------------\u001b[0m",
      "\u001b[0;31mAttributeError\u001b[0m                            Traceback (most recent call last)",
      "\u001b[0;32m/tmp/ipykernel_4537/2814066045.py\u001b[0m in \u001b[0;36m<module>\u001b[0;34m\u001b[0m\n\u001b[1;32m     41\u001b[0m             \u001b[0;34mf\"{bucket}/Sumstats/phecode-250.2-both_sexes_checkpoint.ht\"\u001b[0m\u001b[0;34m,\u001b[0m\u001b[0;34m\u001b[0m\u001b[0;34m\u001b[0m\u001b[0m\n\u001b[1;32m     42\u001b[0m             \u001b[0;34mf\"{bucket}/Sumstats/Array_T2D_QCed.tsv.bgz\"\u001b[0m\u001b[0;34m,\u001b[0m\u001b[0;34m\u001b[0m\u001b[0;34m\u001b[0m\u001b[0m\n\u001b[0;32m---> 43\u001b[0;31m             var_array)\n\u001b[0m\u001b[1;32m     44\u001b[0m \u001b[0;34m\u001b[0m\u001b[0m\n\u001b[1;32m     45\u001b[0m \u001b[0mprint\u001b[0m\u001b[0;34m(\u001b[0m\u001b[0;34m\"Asthma \"\u001b[0m \u001b[0;34m+\u001b[0m \u001b[0mstr\u001b[0m\u001b[0;34m(\u001b[0m\u001b[0mdatetime\u001b[0m\u001b[0;34m.\u001b[0m\u001b[0mnow\u001b[0m\u001b[0;34m(\u001b[0m\u001b[0;34m)\u001b[0m\u001b[0;34m)\u001b[0m\u001b[0;34m)\u001b[0m\u001b[0;34m\u001b[0m\u001b[0;34m\u001b[0m\u001b[0m\n",
      "\u001b[0;32m/tmp/ipykernel_4537/1655210608.py\u001b[0m in \u001b[0;36msumstats_QC\u001b[0;34m(filename_in, filename_temp, filename_out, var_array)\u001b[0m\n\u001b[1;32m      9\u001b[0m                                \u001b[0msumstats\u001b[0m\u001b[0;34m.\u001b[0m\u001b[0mref\u001b[0m\u001b[0;34m,\u001b[0m\u001b[0;34m\u001b[0m\u001b[0;34m\u001b[0m\u001b[0m\n\u001b[1;32m     10\u001b[0m                                \u001b[0msumstats\u001b[0m\u001b[0;34m.\u001b[0m\u001b[0malt\u001b[0m\u001b[0;34m,\u001b[0m\u001b[0;34m\u001b[0m\u001b[0;34m\u001b[0m\u001b[0m\n\u001b[0;32m---> 11\u001b[0;31m                                \u001b[0msumstats\u001b[0m\u001b[0;34m.\u001b[0m\u001b[0maf_meta_hq\u001b[0m\u001b[0;34m,\u001b[0m\u001b[0;34m\u001b[0m\u001b[0;34m\u001b[0m\u001b[0m\n\u001b[0m\u001b[1;32m     12\u001b[0m                                \u001b[0msumstats\u001b[0m\u001b[0;34m.\u001b[0m\u001b[0mbeta_meta_hq\u001b[0m\u001b[0;34m,\u001b[0m\u001b[0;34m\u001b[0m\u001b[0;34m\u001b[0m\u001b[0m\n\u001b[1;32m     13\u001b[0m                                \u001b[0msumstats\u001b[0m\u001b[0;34m.\u001b[0m\u001b[0mse_meta_hq\u001b[0m\u001b[0;34m,\u001b[0m\u001b[0;34m\u001b[0m\u001b[0;34m\u001b[0m\u001b[0m\n",
      "\u001b[0;32m/opt/conda/lib/python3.7/site-packages/hail/table.py\u001b[0m in \u001b[0;36m__getattr__\u001b[0;34m(self, item)\u001b[0m\n\u001b[1;32m    120\u001b[0m             \u001b[0;32mreturn\u001b[0m \u001b[0mself\u001b[0m\u001b[0;34m.\u001b[0m\u001b[0m__dict__\u001b[0m\u001b[0;34m[\u001b[0m\u001b[0mitem\u001b[0m\u001b[0;34m]\u001b[0m\u001b[0;34m\u001b[0m\u001b[0;34m\u001b[0m\u001b[0m\n\u001b[1;32m    121\u001b[0m \u001b[0;34m\u001b[0m\u001b[0m\n\u001b[0;32m--> 122\u001b[0;31m         \u001b[0;32mraise\u001b[0m \u001b[0mAttributeError\u001b[0m\u001b[0;34m(\u001b[0m\u001b[0mget_nice_attr_error\u001b[0m\u001b[0;34m(\u001b[0m\u001b[0mself\u001b[0m\u001b[0;34m,\u001b[0m \u001b[0mitem\u001b[0m\u001b[0;34m)\u001b[0m\u001b[0;34m)\u001b[0m\u001b[0;34m\u001b[0m\u001b[0;34m\u001b[0m\u001b[0m\n\u001b[0m\u001b[1;32m    123\u001b[0m \u001b[0;34m\u001b[0m\u001b[0m\n\u001b[1;32m    124\u001b[0m     \u001b[0;32mdef\u001b[0m \u001b[0m_copy_fields_from\u001b[0m\u001b[0;34m(\u001b[0m\u001b[0mself\u001b[0m\u001b[0;34m,\u001b[0m \u001b[0mother\u001b[0m\u001b[0;34m:\u001b[0m \u001b[0;34m'ExprContainer'\u001b[0m\u001b[0;34m)\u001b[0m\u001b[0;34m:\u001b[0m\u001b[0;34m\u001b[0m\u001b[0;34m\u001b[0m\u001b[0m\n",
      "\u001b[0;31mAttributeError\u001b[0m: Table instance has no field, method, or property 'af_meta_hq'\n    Did you mean:\n        Data fields: 'beta_meta_hq' [row], 'se_meta_hq' [row], 'af_cases_meta_hq' [row], 'af_controls_meta_hq' [row], 'beta_meta' [row]"
     ]
    }
   ],
   "source": [
    "# 5 worker + 0 preeemptible\n",
    "\n",
    "print(\"Height \" + str(datetime.now()))\n",
    "sumstats_QC(f\"{bucket}/Sumstats/continuous-50-both_sexes-irnt.tsv.bgz\",\n",
    "            f\"{bucket}/Sumstats/continuous-50-both_sexes-irnt_checkpoint.ht\",\n",
    "            f\"{bucket}/Sumstats/Array_Height_QCed.tsv.bgz\",\n",
    "            var_array)\n",
    "\n",
    "print(\"DBP \" + str(datetime.now()))\n",
    "sumstats_QC(f\"{bucket}/Sumstats/continuous-DBP-both_sexes-auto_medadj_irnt.tsv.bgz\",\n",
    "            f\"{bucket}/Sumstats/continuous-DBP-both_sexes-auto_medadj_irnt_checkpoint.ht\",\n",
    "            f\"{bucket}/Sumstats/Array_DBP_QCed.tsv.bgz\",\n",
    "            var_array)\n",
    "\n",
    "print(\"HDL \" + str(datetime.now()))\n",
    "sumstats_QC(f\"{bucket}/Sumstats/biomarkers-30760-both_sexes-irnt.tsv.bgz\",\n",
    "            f\"{bucket}/Sumstats/biomarkers-30760-both_sexes-irnt_checkpoint.ht\",\n",
    "            f\"{bucket}/Sumstats/Array_HDL_QCed.tsv.bgz\",\n",
    "            var_array)\n",
    "\n",
    "print(\"TC \" + str(datetime.now()))\n",
    "sumstats_QC(f\"{bucket}/Sumstats/biomarkers-30690-both_sexes-irnt.tsv.bgz\",\n",
    "            f\"{bucket}/Sumstats/biomarkers-30690-both_sexes-irnt_checkpoint.ht\",\n",
    "            f\"{bucket}/Sumstats/Array_TC_QCed.tsv.bgz\",\n",
    "            var_array)\n",
    "\n",
    "print(\"RBC \" + str(datetime.now()))\n",
    "sumstats_QC(f\"{bucket}/Sumstats/continuous-30010-both_sexes-irnt.tsv.bgz\",\n",
    "            f\"{bucket}/Sumstats/continuous-30010-both_sexes-irnt_checkpoint.ht\",\n",
    "            f\"{bucket}/Sumstats/Array_RBC_QCed.tsv.bgz\",\n",
    "            var_array)\n",
    "\n",
    "print(\"leukocyte \" + str(datetime.now()))\n",
    "sumstats_QC(f\"{bucket}/Sumstats/continuous-30000-both_sexes-irnt.tsv.bgz\",\n",
    "            f\"{bucket}/Sumstats/continuous-30000-both_sexes-irnt_checkpoint.ht\",\n",
    "            f\"{bucket}/Sumstats/Array_leukocyte_QCed.tsv.bgz\",\n",
    "            var_array)"
   ]
  },
  {
   "cell_type": "code",
   "execution_count": 13,
   "metadata": {},
   "outputs": [
    {
     "name": "stdout",
     "output_type": "stream",
     "text": [
      "T2D 2023-03-23 20:56:11.491241\n"
     ]
    },
    {
     "name": "stderr",
     "output_type": "stream",
     "text": [
      "2023-03-23 20:56:24.264 Hail: INFO: wrote table with 1626966 rows in 1 partition to /tmp/persist_tableGvlWIPGdE0\n",
      "2023-03-23 20:56:24.900 Hail: INFO: Reading table to impute column types\n",
      "2023-03-23 20:57:26.676 Hail: INFO: Loading <StructExpression of type struct{chr: str, pos: str, ref: str, alt: str, af_cases_meta_hq: float64, af_controls_meta_hq: float64, beta_meta_hq: float64, se_meta_hq: float64, neglog10_pval_meta_hq: float64, neglog10_pval_heterogeneity_hq: float64, af_cases_meta: float64, af_controls_meta: float64, beta_meta: float64, se_meta: float64, neglog10_pval_meta: float64, neglog10_pval_heterogeneity: float64, af_cases_AFR: float64, af_cases_CSA: float64, af_cases_EAS: float64, af_cases_EUR: float64, af_cases_MID: float64, af_controls_AFR: float64, af_controls_CSA: float64, af_controls_EAS: float64, af_controls_EUR: float64, af_controls_MID: float64, beta_AFR: float64, beta_CSA: float64, beta_EAS: float64, beta_EUR: float64, beta_MID: float64, se_AFR: float64, se_CSA: float64, se_EAS: float64, se_EUR: float64, se_MID: float64, neglog10_pval_AFR: float64, neglog10_pval_CSA: float64, neglog10_pval_EAS: float64, neglog10_pval_EUR: float64, neglog10_pval_MID: float64, low_confidence_AFR: bool, low_confidence_CSA: bool, low_confidence_EAS: bool, low_confidence_EUR: bool, low_confidence_MID: bool}> fields. Counts by type:\n",
      "  float64: 37\n",
      "  bool: 5\n",
      "  str: 4\n",
      "2023-03-23 20:58:41.513 Hail: INFO: Ordering unsorted dataset with network shuffle\n",
      "2023-03-23 21:00:08.049 Hail: INFO: Ordering unsorted dataset with network shuffle\n",
      "2023-03-23 21:03:28.566 Hail: INFO: wrote table with 25630720 rows in 18 partitions to gs://fc-secure-9afe7562-2fad-4781-ab60-03528a626c19/Sumstats/phecode-250.2-both_sexes_checkpoint.ht\n",
      "2023-03-23 21:04:11.858 Hail: INFO: merging 2 files totalling 20.7M... + 1) / 1]\n",
      "2023-03-23 21:04:12.357 Hail: INFO: while writing:\n",
      "    gs://fc-secure-9afe7562-2fad-4781-ab60-03528a626c19/Sumstats/Array_T2D_QCed.tsv.bgz\n",
      "  merge time: 498.605ms\n"
     ]
    },
    {
     "name": "stdout",
     "output_type": "stream",
     "text": [
      "Asthma 2023-03-23 21:04:12.377135\n"
     ]
    },
    {
     "name": "stderr",
     "output_type": "stream",
     "text": [
      "2023-03-23 21:04:23.914 Hail: INFO: wrote table with 1627642 rows in 1 partition to /tmp/persist_tables7M5yslARO\n",
      "2023-03-23 21:04:25.326 Hail: INFO: Reading table to impute column types 1) / 1]\n",
      "2023-03-23 21:05:24.166 Hail: INFO: Loading <StructExpression of type struct{chr: str, pos: str, ref: str, alt: str, af_cases_meta: float64, af_controls_meta: float64, beta_meta: float64, se_meta: float64, neglog10_pval_meta: float64, neglog10_pval_heterogeneity: float64, af_cases_AFR: float64, af_cases_AMR: float64, af_cases_CSA: float64, af_cases_EAS: float64, af_cases_EUR: float64, af_cases_MID: float64, af_controls_AFR: float64, af_controls_AMR: float64, af_controls_CSA: float64, af_controls_EAS: float64, af_controls_EUR: float64, af_controls_MID: float64, beta_AFR: float64, beta_AMR: float64, beta_CSA: float64, beta_EAS: float64, beta_EUR: float64, beta_MID: float64, se_AFR: float64, se_AMR: float64, se_CSA: float64, se_EAS: float64, se_EUR: float64, se_MID: float64, neglog10_pval_AFR: float64, neglog10_pval_AMR: float64, neglog10_pval_CSA: float64, neglog10_pval_EAS: float64, neglog10_pval_EUR: float64, neglog10_pval_MID: float64, low_confidence_AFR: bool, low_confidence_AMR: bool, low_confidence_CSA: bool, low_confidence_EAS: bool, low_confidence_EUR: bool, low_confidence_MID: bool}> fields. Counts by type:\n",
      "  float64: 36\n",
      "  bool: 6\n",
      "  str: 4\n",
      "2023-03-23 21:06:53.261 Hail: INFO: Ordering unsorted dataset with network shuffle\n",
      "2023-03-23 21:08:13.276 Hail: INFO: Ordering unsorted dataset with network shuffle\n",
      "2023-03-23 21:11:26.964 Hail: INFO: wrote table with 25408669 rows in 18 partitions to gs://fc-secure-9afe7562-2fad-4781-ab60-03528a626c19/Sumstats/phecode-495-both_sexes_checkpoint.ht\n",
      "2023-03-23 21:12:04.681 Hail: INFO: merging 2 files totalling 20.8M... + 1) / 1]\n",
      "2023-03-23 21:12:05.171 Hail: INFO: while writing:\n",
      "    gs://fc-secure-9afe7562-2fad-4781-ab60-03528a626c19/Sumstats/Array_Asthma_QCed.tsv.bgz\n",
      "  merge time: 489.583ms\n"
     ]
    },
    {
     "name": "stdout",
     "output_type": "stream",
     "text": [
      "Breast_Cancer 2023-03-23 21:12:05.188041\n"
     ]
    },
    {
     "name": "stderr",
     "output_type": "stream",
     "text": [
      "2023-03-23 21:12:18.111 Hail: INFO: wrote table with 2081246 rows in 1 partition to /tmp/persist_tablec7QXZ99EfG\n",
      "2023-03-23 21:12:19.432 Hail: INFO: Reading table to impute column types 1) / 1]\n",
      "2023-03-23 21:13:14.167 Hail: INFO: Loading <StructExpression of type struct{chr: str, pos: str, ref: str, alt: str, af_cases_meta: float64, af_controls_meta: float64, beta_meta: float64, se_meta: float64, neglog10_pval_meta: float64, neglog10_pval_heterogeneity: float64, af_cases_AFR: float64, af_cases_CSA: float64, af_cases_EAS: float64, af_cases_EUR: float64, af_controls_AFR: float64, af_controls_CSA: float64, af_controls_EAS: float64, af_controls_EUR: float64, beta_AFR: float64, beta_CSA: float64, beta_EAS: float64, beta_EUR: float64, se_AFR: float64, se_CSA: float64, se_EAS: float64, se_EUR: float64, neglog10_pval_AFR: float64, neglog10_pval_CSA: float64, neglog10_pval_EAS: float64, neglog10_pval_EUR: float64, low_confidence_AFR: bool, low_confidence_CSA: bool, low_confidence_EAS: bool, low_confidence_EUR: bool}> fields. Counts by type:\n",
      "  float64: 26\n",
      "  str: 4\n",
      "  bool: 4\n",
      "2023-03-23 21:14:57.931 Hail: INFO: Ordering unsorted dataset with network shuffle\n",
      "2023-03-23 21:16:23.643 Hail: INFO: Ordering unsorted dataset with network shuffle\n",
      "2023-03-23 21:19:33.798 Hail: INFO: wrote table with 22035418 rows in 14 partitions to gs://fc-secure-9afe7562-2fad-4781-ab60-03528a626c19/Sumstats/phecode-174.1-females_checkpoing.ht\n",
      "2023-03-23 21:20:10.581 Hail: INFO: merging 2 files totalling 20.7M... + 1) / 1]\n",
      "2023-03-23 21:20:11.051 Hail: INFO: while writing:\n",
      "    gs://fc-secure-9afe7562-2fad-4781-ab60-03528a626c19/Sumstats/Array_Breast_Cancer_QCed.tsv.bgz\n",
      "  merge time: 469.871ms\n"
     ]
    },
    {
     "name": "stdout",
     "output_type": "stream",
     "text": [
      "Colorectal_Cancer 2023-03-23 21:20:11.065135\n"
     ]
    },
    {
     "name": "stderr",
     "output_type": "stream",
     "text": [
      "2023-03-23 21:20:23.893 Hail: INFO: wrote table with 2415301 rows in 1 partition to /tmp/persist_table40xy2auDWl\n",
      "2023-03-23 21:20:25.171 Hail: INFO: Reading table to impute column types 1) / 1]\n",
      "2023-03-23 21:21:22.050 Hail: INFO: Finished type imputation=>    (11 + 1) / 12]\n",
      "  Loading field 'chr' as type str (imputed)\n",
      "  Loading field 'pos' as type str (user-supplied type)\n",
      "  Loading field 'ref' as type str (imputed)\n",
      "  Loading field 'alt' as type str (imputed)\n",
      "  Loading field 'af_cases_meta' as type float64 (imputed)\n",
      "  Loading field 'af_controls_meta' as type float64 (imputed)\n",
      "  Loading field 'beta_meta' as type float64 (imputed)\n",
      "  Loading field 'se_meta' as type float64 (imputed)\n",
      "  Loading field 'neglog10_pval_meta' as type float64 (imputed)\n",
      "  Loading field 'neglog10_pval_heterogeneity' as type float64 (imputed)\n",
      "  Loading field 'af_cases_AFR' as type float64 (imputed)\n",
      "  Loading field 'af_cases_CSA' as type float64 (imputed)\n",
      "  Loading field 'af_cases_EUR' as type float64 (imputed)\n",
      "  Loading field 'af_controls_AFR' as type float64 (imputed)\n",
      "  Loading field 'af_controls_CSA' as type float64 (imputed)\n",
      "  Loading field 'af_controls_EUR' as type float64 (imputed)\n",
      "  Loading field 'beta_AFR' as type float64 (imputed)\n",
      "  Loading field 'beta_CSA' as type float64 (imputed)\n",
      "  Loading field 'beta_EUR' as type float64 (imputed)\n",
      "  Loading field 'se_AFR' as type float64 (imputed)\n",
      "  Loading field 'se_CSA' as type float64 (imputed)\n",
      "  Loading field 'se_EUR' as type float64 (imputed)\n",
      "  Loading field 'neglog10_pval_AFR' as type float64 (imputed)\n",
      "  Loading field 'neglog10_pval_CSA' as type float64 (imputed)\n",
      "  Loading field 'neglog10_pval_EUR' as type float64 (imputed)\n",
      "  Loading field 'low_confidence_AFR' as type bool (imputed)\n",
      "  Loading field 'low_confidence_CSA' as type bool (imputed)\n",
      "  Loading field 'low_confidence_EUR' as type bool (imputed)\n",
      "2023-03-23 21:22:45.584 Hail: INFO: Ordering unsorted dataset with network shuffle\n",
      "2023-03-23 21:24:43.525 Hail: INFO: Ordering unsorted dataset with network shuffle\n",
      "2023-03-23 21:27:52.950 Hail: INFO: wrote table with 18997753 rows in 12 partitions to gs://fc-secure-9afe7562-2fad-4781-ab60-03528a626c19/Sumstats/phecode-153-both_sexes_checkpoint.ht\n",
      "2023-03-23 21:28:25.259 Hail: INFO: merging 2 files totalling 20.6M... + 1) / 1]\n",
      "2023-03-23 21:28:25.662 Hail: INFO: while writing:\n",
      "    gs://fc-secure-9afe7562-2fad-4781-ab60-03528a626c19/Sumstats/Array_Colorectal_Cancer_QCed.tsv.bgz\n",
      "  merge time: 403.165ms\n"
     ]
    }
   ],
   "source": [
    "print(\"T2D \" + str(datetime.now()))\n",
    "sumstats_QC(f\"{bucket}/Sumstats/phecode-250.2-both_sexes.tsv.bgz\",\n",
    "            f\"{bucket}/Sumstats/phecode-250.2-both_sexes_checkpoint.ht\",\n",
    "            f\"{bucket}/Sumstats/Array_T2D_QCed.tsv.bgz\",\n",
    "            var_array)\n",
    "\n",
    "print(\"Asthma \" + str(datetime.now()))\n",
    "sumstats_QC(f\"{bucket}/Sumstats/phecode-495-both_sexes.tsv.bgz\",\n",
    "            f\"{bucket}/Sumstats/phecode-495-both_sexes_checkpoint.ht\",\n",
    "            f\"{bucket}/Sumstats/Array_Asthma_QCed.tsv.bgz\",\n",
    "            var_array)\n",
    "\n",
    "print(\"Breast_Cancer \" + str(datetime.now()))\n",
    "sumstats_QC(f\"{bucket}/Sumstats/phecode-174.1-females.tsv.bgz\",\n",
    "            f\"{bucket}/Sumstats/phecode-174.1-females_checkpoing.ht\",\n",
    "            f\"{bucket}/Sumstats/Array_Breast_Cancer_QCed.tsv.bgz\",\n",
    "            var_array)\n",
    "\n",
    "print(\"Colorectal_Cancer \" + str(datetime.now()))\n",
    "sumstats_QC(f\"{bucket}/Sumstats/phecode-153-both_sexes.tsv.bgz\",\n",
    "            f\"{bucket}/Sumstats/phecode-153-both_sexes_checkpoint.ht\",\n",
    "            f\"{bucket}/Sumstats/Array_Colorectal_Cancer_QCed.tsv.bgz\",\n",
    "            var_array)"
   ]
  },
  {
   "cell_type": "code",
   "execution_count": null,
   "metadata": {},
   "outputs": [],
   "source": []
  }
 ],
 "metadata": {
  "kernelspec": {
   "display_name": "Python 3 (ipykernel)",
   "language": "python",
   "name": "python3"
  },
  "language_info": {
   "codemirror_mode": {
    "name": "ipython",
    "version": 3
   },
   "file_extension": ".py",
   "mimetype": "text/x-python",
   "name": "python",
   "nbconvert_exporter": "python",
   "pygments_lexer": "ipython3",
   "version": "3.10.9"
  },
  "toc": {
   "base_numbering": 1,
   "nav_menu": {},
   "number_sections": false,
   "sideBar": true,
   "skip_h1_title": false,
   "title_cell": "Table of Contents",
   "title_sidebar": "Contents",
   "toc_cell": false,
   "toc_position": {},
   "toc_section_display": true,
   "toc_window_display": false
  }
 },
 "nbformat": 4,
 "nbformat_minor": 2
}
