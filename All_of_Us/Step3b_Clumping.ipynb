{
 "cells": [
  {
   "cell_type": "code",
   "execution_count": 1,
   "metadata": {},
   "outputs": [],
   "source": [
    "## import packages\n",
    "from datetime import datetime\n",
    "import os\n",
    "import pandas as pd\n",
    "import numpy as np"
   ]
  },
  {
   "cell_type": "code",
   "execution_count": 2,
   "metadata": {},
   "outputs": [],
   "source": [
    "DATASET = os.getenv('WORKSPACE_CDR')\n",
    "bucket = os.getenv('WORKSPACE_BUCKET')"
   ]
  },
  {
   "cell_type": "code",
   "execution_count": 4,
   "metadata": {},
   "outputs": [],
   "source": [
    "%%bash\n",
    "\n",
    "for trait in Asthma Breast_Cancer Colorectal_Cancer DBP HDL Height leukocyte RBC T2D TC; do\n",
    "    mv Sumstats/WGS_${trait}_QCed.tsv.bgz Sumstats/WGS_${trait}_QCed.tsv.gz\n",
    "    gunzip Sumstats/WGS_${trait}_QCed.tsv.gz\n",
    "done"
   ]
  },
  {
   "cell_type": "markdown",
   "metadata": {},
   "source": [
    "### Note:\n",
    "\n",
    "In order to perform P+T, add an additional column `varid` in the summary statistics; This `varid` should have the same form as the reference panel (hg38)"
   ]
  },
  {
   "cell_type": "code",
   "execution_count": 5,
   "metadata": {},
   "outputs": [],
   "source": [
    "def process_sumstats(trait):\n",
    "    # Read in the file\n",
    "    input_file = f'./Sumstats/WGS_{trait}_QCed.tsv'\n",
    "    sumstats = pd.read_csv(input_file, sep='\\t')\n",
    "\n",
    "    # Create 'varid' column\n",
    "    sumstats['varid'] = sumstats['locus'].str[3:] + \":\" + sumstats['alleles1_sumstats_fixstrand'] + \":\" + sumstats['alleles2_sumstats_fixstrand']\n",
    "\n",
    "    # Calculate 'pval_meta'\n",
    "    sumstats['pval_meta'] = 10 ** (-sumstats['neglog10_pval_meta'])\n",
    "\n",
    "    # Write the updated file to a new output\n",
    "    output_file = f'./Sumstats/WGS_{trait}_QCed.tsv'\n",
    "    sumstats.to_csv(output_file, sep='\\t', index=False, header=True, quoting=False)\n",
    "\n",
    "    # Replace all missing rsid values with NA\n",
    "    os.system(f\"sed -i 's/\\\\t\\\\t/\\\\tNA\\\\t/g' {output_file}\")\n",
    "    os.system(f\"sed -i 's/\\\\t$/\\\\tNA/g' {output_file}\")"
   ]
  },
  {
   "cell_type": "code",
   "execution_count": 6,
   "metadata": {},
   "outputs": [],
   "source": [
    "traits = ['Asthma', 'Breast_Cancer', 'Colorectal_Cancer', 'DBP', 'HDL', 'Height', 'leukocyte', 'RBC', 'T2D', 'TC']\n",
    "\n",
    "for trait in traits:\n",
    "    process_sumstats(trait)"
   ]
  },
  {
   "cell_type": "code",
   "execution_count": 6,
   "metadata": {},
   "outputs": [
    {
     "name": "stdout",
     "output_type": "stream",
     "text": [
      "PLINK v1.90b6.22 64-bit (16 Apr 2021)          www.cog-genomics.org/plink/1.9/\n",
      "(C) 2005-2021 Shaun Purcell, Christopher Chang   GNU General Public License v3\n",
      "Logging to Sumstats/WGS_Asthma_QCed.log.\n",
      "Options in effect:\n",
      "  --bfile REF/all_hg38_QCed\n",
      "  --clump Sumstats/WGS_Asthma_QCed.tsv\n",
      "  --clump-field pval_meta\n",
      "  --clump-kb 250\n",
      "  --clump-p1 1\n",
      "  --clump-r2 0.1\n",
      "  --clump-snp-field varid\n",
      "  --out Sumstats/WGS_Asthma_QCed\n",
      "\n",
      "60285 MB RAM detected; reserving 30142 MB for main workspace.\n",
      "12542279 variants loaded from .bim file.\n",
      "2573 people (1276 males, 1296 females, 1 ambiguous) loaded from .fam.\n",
      "Ambiguous sex ID written to Sumstats/WGS_Asthma_QCed.nosex .\n",
      "Using 1 thread (no multithreaded calculations invoked).\n",
      "Before main variant filters, 2561 founders and 12 nonfounders present.\n",
      "Calculating allele frequencies... 10111213141516171819202122232425262728293031323334353637383940414243444546474849505152535455565758596061626364656667686970717273747576777879808182838485868788899091929394959697989 done.\n",
      "12542279 variants and 2573 people pass filters and QC.\n",
      "Note: No phenotypes present.\n"
     ]
    },
    {
     "name": "stderr",
     "output_type": "stream",
     "text": [
      "Warning: '6:32638548:G:A' is missing from the main dataset, and is a top\n",
      "variant.\n",
      "Warning: '6:32645046:T:C' is missing from the main dataset, and is a top\n",
      "variant.\n",
      "Warning: '6:32645050:G:A' is missing from the main dataset, and is a top\n",
      "variant.\n",
      "433169 more top variant IDs missing; see log file.\n"
     ]
    },
    {
     "name": "stdout",
     "output_type": "stream",
     "text": [
      "--clump: 468426 clumps formed from 8172127 top variants.\n",
      "Results written to Sumstats/WGS_Asthma_QCed.clumped .\n",
      "PLINK v1.90b6.22 64-bit (16 Apr 2021)          www.cog-genomics.org/plink/1.9/\n",
      "(C) 2005-2021 Shaun Purcell, Christopher Chang   GNU General Public License v3\n",
      "Logging to Sumstats/WGS_Breast_Cancer_QCed.log.\n",
      "Options in effect:\n",
      "  --bfile REF/all_hg38_QCed\n",
      "  --clump Sumstats/WGS_Breast_Cancer_QCed.tsv\n",
      "  --clump-field pval_meta\n",
      "  --clump-kb 250\n",
      "  --clump-p1 1\n",
      "  --clump-r2 0.1\n",
      "  --clump-snp-field varid\n",
      "  --out Sumstats/WGS_Breast_Cancer_QCed\n",
      "\n",
      "60285 MB RAM detected; reserving 30142 MB for main workspace.\n",
      "12542279 variants loaded from .bim file.\n",
      "2573 people (1276 males, 1296 females, 1 ambiguous) loaded from .fam.\n",
      "Ambiguous sex ID written to Sumstats/WGS_Breast_Cancer_QCed.nosex .\n",
      "Using 1 thread (no multithreaded calculations invoked).\n",
      "Before main variant filters, 2561 founders and 12 nonfounders present.\n",
      "Calculating allele frequencies... 10111213141516171819202122232425262728293031323334353637383940414243444546474849505152535455565758596061626364656667686970717273747576777879808182838485868788899091929394959697989 done.\n",
      "12542279 variants and 2573 people pass filters and QC.\n",
      "Note: No phenotypes present.\n"
     ]
    },
    {
     "name": "stderr",
     "output_type": "stream",
     "text": [
      "Warning: '11:69646918:C:T' is missing from the main dataset, and is a top\n",
      "variant.\n",
      "Warning: '5:44853250:A:G' is missing from the main dataset, and is a top\n",
      "variant.\n",
      "Warning: '5:44834131:G:A' is missing from the main dataset, and is a top\n",
      "variant.\n",
      "432851 more top variant IDs missing; see log file.\n"
     ]
    },
    {
     "name": "stdout",
     "output_type": "stream",
     "text": [
      "--clump: 468563 clumps formed from 8169116 top variants.\n",
      "Results written to Sumstats/WGS_Breast_Cancer_QCed.clumped .\n",
      "PLINK v1.90b6.22 64-bit (16 Apr 2021)          www.cog-genomics.org/plink/1.9/\n",
      "(C) 2005-2021 Shaun Purcell, Christopher Chang   GNU General Public License v3\n",
      "Logging to Sumstats/WGS_Colorectal_Cancer_QCed.log.\n",
      "Options in effect:\n",
      "  --bfile REF/all_hg38_QCed\n",
      "  --clump Sumstats/WGS_Colorectal_Cancer_QCed.tsv\n",
      "  --clump-field pval_meta\n",
      "  --clump-kb 250\n",
      "  --clump-p1 1\n",
      "  --clump-r2 0.1\n",
      "  --clump-snp-field varid\n",
      "  --out Sumstats/WGS_Colorectal_Cancer_QCed\n",
      "\n",
      "60285 MB RAM detected; reserving 30142 MB for main workspace.\n",
      "12542279 variants loaded from .bim file.\n",
      "2573 people (1276 males, 1296 females, 1 ambiguous) loaded from .fam.\n",
      "Ambiguous sex ID written to Sumstats/WGS_Colorectal_Cancer_QCed.nosex .\n",
      "Using 1 thread (no multithreaded calculations invoked).\n",
      "Before main variant filters, 2561 founders and 12 nonfounders present.\n",
      "Calculating allele frequencies... 10111213141516171819202122232425262728293031323334353637383940414243444546474849505152535455565758596061626364656667686970717273747576777879808182838485868788899091929394959697989 done.\n",
      "12542279 variants and 2573 people pass filters and QC.\n",
      "Note: No phenotypes present.\n"
     ]
    },
    {
     "name": "stderr",
     "output_type": "stream",
     "text": [
      "Warning: '2:22770492:T:C' is missing from the main dataset, and is a top\n",
      "variant.\n",
      "Warning: '12:45749141:T:C' is missing from the main dataset, and is a top\n",
      "variant.\n",
      "Warning: '7:2176950:G:A' is missing from the main dataset, and is a top\n",
      "variant.\n",
      "429493 more top variant IDs missing; see log file.\n"
     ]
    },
    {
     "name": "stdout",
     "output_type": "stream",
     "text": [
      "--clump: 464134 clumps formed from 8108345 top variants.\n",
      "Results written to Sumstats/WGS_Colorectal_Cancer_QCed.clumped .\n",
      "PLINK v1.90b6.22 64-bit (16 Apr 2021)          www.cog-genomics.org/plink/1.9/\n",
      "(C) 2005-2021 Shaun Purcell, Christopher Chang   GNU General Public License v3\n",
      "Logging to Sumstats/WGS_T2D_QCed.log.\n",
      "Options in effect:\n",
      "  --bfile REF/all_hg38_QCed\n",
      "  --clump Sumstats/WGS_T2D_QCed.tsv\n",
      "  --clump-field pval_meta\n",
      "  --clump-kb 250\n",
      "  --clump-p1 1\n",
      "  --clump-r2 0.1\n",
      "  --clump-snp-field varid\n",
      "  --out Sumstats/WGS_T2D_QCed\n",
      "\n",
      "60285 MB RAM detected; reserving 30142 MB for main workspace.\n",
      "12542279 variants loaded from .bim file.\n",
      "2573 people (1276 males, 1296 females, 1 ambiguous) loaded from .fam.\n",
      "Ambiguous sex ID written to Sumstats/WGS_T2D_QCed.nosex .\n",
      "Using 1 thread (no multithreaded calculations invoked).\n",
      "Before main variant filters, 2561 founders and 12 nonfounders present.\n",
      "Calculating allele frequencies... 10111213141516171819202122232425262728293031323334353637383940414243444546474849505152535455565758596061626364656667686970717273747576777879808182838485868788899091929394959697989 done.\n",
      "12542279 variants and 2573 people pass filters and QC.\n",
      "Note: No phenotypes present.\n"
     ]
    },
    {
     "name": "stderr",
     "output_type": "stream",
     "text": [
      "Warning: '12:4275678:T:G' is missing from the main dataset, and is a top\n",
      "variant.\n",
      "Warning: '6:32465877:T:C' is missing from the main dataset, and is a top\n",
      "variant.\n",
      "Warning: '6:32667643:G:A' is missing from the main dataset, and is a top\n",
      "variant.\n",
      "433021 more top variant IDs missing; see log file.\n"
     ]
    },
    {
     "name": "stdout",
     "output_type": "stream",
     "text": [
      "--clump: 468161 clumps formed from 8171402 top variants.\n",
      "Results written to Sumstats/WGS_T2D_QCed.clumped .\n",
      "PLINK v1.90b6.22 64-bit (16 Apr 2021)          www.cog-genomics.org/plink/1.9/\n",
      "(C) 2005-2021 Shaun Purcell, Christopher Chang   GNU General Public License v3\n",
      "Logging to Sumstats/WGS_DBP_QCed.log.\n",
      "Options in effect:\n",
      "  --bfile REF/all_hg38_QCed\n",
      "  --clump Sumstats/WGS_DBP_QCed.tsv\n",
      "  --clump-field pval_meta\n",
      "  --clump-kb 250\n",
      "  --clump-p1 1\n",
      "  --clump-r2 0.1\n",
      "  --clump-snp-field varid\n",
      "  --out Sumstats/WGS_DBP_QCed\n",
      "\n",
      "60285 MB RAM detected; reserving 30142 MB for main workspace.\n",
      "12542279 variants loaded from .bim file.\n",
      "2573 people (1276 males, 1296 females, 1 ambiguous) loaded from .fam.\n",
      "Ambiguous sex ID written to Sumstats/WGS_DBP_QCed.nosex .\n",
      "Using 1 thread (no multithreaded calculations invoked).\n",
      "Before main variant filters, 2561 founders and 12 nonfounders present.\n",
      "Calculating allele frequencies... 10111213141516171819202122232425262728293031323334353637383940414243444546474849505152535455565758596061626364656667686970717273747576777879808182838485868788899091929394959697989 done.\n",
      "12542279 variants and 2573 people pass filters and QC.\n",
      "Note: No phenotypes present.\n"
     ]
    },
    {
     "name": "stderr",
     "output_type": "stream",
     "text": [
      "Warning: '15:74755085:C:T' is missing from the main dataset, and is a top\n",
      "variant.\n",
      "Warning: '6:31269672:T:C' is missing from the main dataset, and is a top\n",
      "variant.\n",
      "Warning: '15:69291095:C:T' is missing from the main dataset, and is a top\n",
      "variant.\n",
      "427532 more top variant IDs missing; see log file.\n"
     ]
    },
    {
     "name": "stdout",
     "output_type": "stream",
     "text": [
      "--clump: 466453 clumps formed from 8075950 top variants.\n",
      "Results written to Sumstats/WGS_DBP_QCed.clumped .\n",
      "PLINK v1.90b6.22 64-bit (16 Apr 2021)          www.cog-genomics.org/plink/1.9/\n",
      "(C) 2005-2021 Shaun Purcell, Christopher Chang   GNU General Public License v3\n",
      "Logging to Sumstats/WGS_HDL_QCed.log.\n",
      "Options in effect:\n",
      "  --bfile REF/all_hg38_QCed\n",
      "  --clump Sumstats/WGS_HDL_QCed.tsv\n",
      "  --clump-field pval_meta\n",
      "  --clump-kb 250\n",
      "  --clump-p1 1\n",
      "  --clump-r2 0.1\n",
      "  --clump-snp-field varid\n",
      "  --out Sumstats/WGS_HDL_QCed\n",
      "\n",
      "60285 MB RAM detected; reserving 30142 MB for main workspace.\n",
      "12542279 variants loaded from .bim file.\n",
      "2573 people (1276 males, 1296 females, 1 ambiguous) loaded from .fam.\n",
      "Ambiguous sex ID written to Sumstats/WGS_HDL_QCed.nosex .\n",
      "Using 1 thread (no multithreaded calculations invoked).\n",
      "Before main variant filters, 2561 founders and 12 nonfounders present.\n",
      "Calculating allele frequencies... 10111213141516171819202122232425262728293031323334353637383940414243444546474849505152535455565758596061626364656667686970717273747576777879808182838485868788899091929394959697989 done.\n",
      "12542279 variants and 2573 people pass filters and QC.\n",
      "Note: No phenotypes present.\n"
     ]
    },
    {
     "name": "stderr",
     "output_type": "stream",
     "text": [
      "Warning: '8:19936070:C:T' is missing from the main dataset, and is a top\n",
      "variant.\n",
      "Warning: '8:19956018:A:G' is missing from the main dataset, and is a top\n",
      "variant.\n",
      "Warning: '19:8364439:G:A' is missing from the main dataset, and is a top\n",
      "variant.\n",
      "426795 more top variant IDs missing; see log file.\n"
     ]
    },
    {
     "name": "stdout",
     "output_type": "stream",
     "text": [
      "--clump: 465726 clumps formed from 8057739 top variants.\n",
      "Results written to Sumstats/WGS_HDL_QCed.clumped .\n",
      "PLINK v1.90b6.22 64-bit (16 Apr 2021)          www.cog-genomics.org/plink/1.9/\n",
      "(C) 2005-2021 Shaun Purcell, Christopher Chang   GNU General Public License v3\n",
      "Logging to Sumstats/WGS_Height_QCed.log.\n",
      "Options in effect:\n",
      "  --bfile REF/all_hg38_QCed\n",
      "  --clump Sumstats/WGS_Height_QCed.tsv\n",
      "  --clump-field pval_meta\n",
      "  --clump-kb 250\n",
      "  --clump-p1 1\n",
      "  --clump-r2 0.1\n",
      "  --clump-snp-field varid\n",
      "  --out Sumstats/WGS_Height_QCed\n",
      "\n",
      "60285 MB RAM detected; reserving 30142 MB for main workspace.\n",
      "12542279 variants loaded from .bim file.\n",
      "2573 people (1276 males, 1296 females, 1 ambiguous) loaded from .fam.\n",
      "Ambiguous sex ID written to Sumstats/WGS_Height_QCed.nosex .\n",
      "Using 1 thread (no multithreaded calculations invoked).\n",
      "Before main variant filters, 2561 founders and 12 nonfounders present.\n",
      "Calculating allele frequencies... 10111213141516171819202122232425262728293031323334353637383940414243444546474849505152535455565758596061626364656667686970717273747576777879808182838485868788899091929394959697989 done.\n",
      "12542279 variants and 2573 people pass filters and QC.\n",
      "Note: No phenotypes present.\n"
     ]
    },
    {
     "name": "stderr",
     "output_type": "stream",
     "text": [
      "Warning: '20:35431781:C:T' is missing from the main dataset, and is a top\n",
      "variant.\n",
      "Warning: '20:35434589:A:C' is missing from the main dataset, and is a top\n",
      "variant.\n",
      "Warning: '20:35437976:A:G' is missing from the main dataset, and is a top\n",
      "variant.\n",
      "433081 more top variant IDs missing; see log file.\n"
     ]
    },
    {
     "name": "stdout",
     "output_type": "stream",
     "text": [
      "--clump: 468717 clumps formed from 8171631 top variants.\n",
      "Results written to Sumstats/WGS_Height_QCed.clumped .\n",
      "PLINK v1.90b6.22 64-bit (16 Apr 2021)          www.cog-genomics.org/plink/1.9/\n",
      "(C) 2005-2021 Shaun Purcell, Christopher Chang   GNU General Public License v3\n",
      "Logging to Sumstats/WGS_leukocyte_QCed.log.\n",
      "Options in effect:\n",
      "  --bfile REF/all_hg38_QCed\n",
      "  --clump Sumstats/WGS_leukocyte_QCed.tsv\n",
      "  --clump-field pval_meta\n",
      "  --clump-kb 250\n",
      "  --clump-p1 1\n",
      "  --clump-r2 0.1\n",
      "  --clump-snp-field varid\n",
      "  --out Sumstats/WGS_leukocyte_QCed\n",
      "\n",
      "60285 MB RAM detected; reserving 30142 MB for main workspace.\n",
      "12542279 variants loaded from .bim file.\n",
      "2573 people (1276 males, 1296 females, 1 ambiguous) loaded from .fam.\n",
      "Ambiguous sex ID written to Sumstats/WGS_leukocyte_QCed.nosex .\n",
      "Using 1 thread (no multithreaded calculations invoked).\n",
      "Before main variant filters, 2561 founders and 12 nonfounders present.\n",
      "Calculating allele frequencies... 10111213141516171819202122232425262728293031323334353637383940414243444546474849505152535455565758596061626364656667686970717273747576777879808182838485868788899091929394959697989 done.\n",
      "12542279 variants and 2573 people pass filters and QC.\n",
      "Note: No phenotypes present.\n"
     ]
    },
    {
     "name": "stderr",
     "output_type": "stream",
     "text": [
      "Warning: '6:31270713:T:C' is missing from the main dataset, and is a top\n",
      "variant.\n",
      "Warning: '6:32475888:T:C' is missing from the main dataset, and is a top\n",
      "variant.\n",
      "Warning: '6:32476311:C:G' is missing from the main dataset, and is a top\n",
      "variant.\n",
      "427682 more top variant IDs missing; see log file.\n"
     ]
    },
    {
     "name": "stdout",
     "output_type": "stream",
     "text": [
      "--clump: 466426 clumps formed from 8081861 top variants.\n",
      "Results written to Sumstats/WGS_leukocyte_QCed.clumped .\n",
      "PLINK v1.90b6.22 64-bit (16 Apr 2021)          www.cog-genomics.org/plink/1.9/\n",
      "(C) 2005-2021 Shaun Purcell, Christopher Chang   GNU General Public License v3\n",
      "Logging to Sumstats/WGS_RBC_QCed.log.\n",
      "Options in effect:\n",
      "  --bfile REF/all_hg38_QCed\n",
      "  --clump Sumstats/WGS_RBC_QCed.tsv\n",
      "  --clump-field pval_meta\n",
      "  --clump-kb 250\n",
      "  --clump-p1 1\n",
      "  --clump-r2 0.1\n",
      "  --clump-snp-field varid\n",
      "  --out Sumstats/WGS_RBC_QCed\n",
      "\n",
      "60285 MB RAM detected; reserving 30142 MB for main workspace.\n",
      "12542279 variants loaded from .bim file.\n",
      "2573 people (1276 males, 1296 females, 1 ambiguous) loaded from .fam.\n",
      "Ambiguous sex ID written to Sumstats/WGS_RBC_QCed.nosex .\n",
      "Using 1 thread (no multithreaded calculations invoked).\n",
      "Before main variant filters, 2561 founders and 12 nonfounders present.\n",
      "Calculating allele frequencies... 10111213141516171819202122232425262728293031323334353637383940414243444546474849505152535455565758596061626364656667686970717273747576777879808182838485868788899091929394959697989 done.\n",
      "12542279 variants and 2573 people pass filters and QC.\n",
      "Note: No phenotypes present.\n"
     ]
    },
    {
     "name": "stderr",
     "output_type": "stream",
     "text": [
      "Warning: '9:133271182:C:T' is missing from the main dataset, and is a top\n",
      "variant.\n",
      "Warning: '9:133266456:C:T' is missing from the main dataset, and is a top\n",
      "variant.\n",
      "Warning: '9:133273983:G:A' is missing from the main dataset, and is a top\n",
      "variant.\n",
      "428411 more top variant IDs missing; see log file.\n"
     ]
    },
    {
     "name": "stdout",
     "output_type": "stream",
     "text": [
      "--clump: 466830 clumps formed from 8104912 top variants.\n",
      "Results written to Sumstats/WGS_RBC_QCed.clumped .\n",
      "PLINK v1.90b6.22 64-bit (16 Apr 2021)          www.cog-genomics.org/plink/1.9/\n",
      "(C) 2005-2021 Shaun Purcell, Christopher Chang   GNU General Public License v3\n",
      "Logging to Sumstats/WGS_TC_QCed.log.\n",
      "Options in effect:\n",
      "  --bfile REF/all_hg38_QCed\n",
      "  --clump Sumstats/WGS_TC_QCed.tsv\n",
      "  --clump-field pval_meta\n",
      "  --clump-kb 250\n",
      "  --clump-p1 1\n",
      "  --clump-r2 0.1\n",
      "  --clump-snp-field varid\n",
      "  --out Sumstats/WGS_TC_QCed\n",
      "\n",
      "60285 MB RAM detected; reserving 30142 MB for main workspace.\n",
      "12542279 variants loaded from .bim file.\n",
      "2573 people (1276 males, 1296 females, 1 ambiguous) loaded from .fam.\n",
      "Ambiguous sex ID written to Sumstats/WGS_TC_QCed.nosex .\n",
      "Using 1 thread (no multithreaded calculations invoked).\n",
      "Before main variant filters, 2561 founders and 12 nonfounders present.\n",
      "Calculating allele frequencies... 10111213141516171819202122232425262728293031323334353637383940414243444546474849505152535455565758596061626364656667686970717273747576777879808182838485868788899091929394959697989 done.\n",
      "12542279 variants and 2573 people pass filters and QC.\n",
      "Note: No phenotypes present.\n"
     ]
    },
    {
     "name": "stderr",
     "output_type": "stream",
     "text": [
      "Warning: '19:44793107:G:A' is missing from the main dataset, and is a top\n",
      "variant.\n",
      "Warning: '19:44799247:G:A' is missing from the main dataset, and is a top\n",
      "variant.\n",
      "Warning: '19:44920687:C:T' is missing from the main dataset, and is a top\n",
      "variant.\n",
      "427536 more top variant IDs missing; see log file.\n"
     ]
    },
    {
     "name": "stdout",
     "output_type": "stream",
     "text": [
      "--clump: 466573 clumps formed from 8078592 top variants.\n",
      "Results written to Sumstats/WGS_TC_QCed.clumped .\n"
     ]
    }
   ],
   "source": [
    "%%bash\n",
    "\n",
    "traits=(\"Asthma\" \"Breast_Cancer\" \"Colorectal_Cancer\" \"T2D\" \"DBP\" \"HDL\" \"Height\" \"leukocyte\" \"RBC\" \"TC\")\n",
    "\n",
    "for trait in \"${traits[@]}\"; do\n",
    "    plink \\\n",
    "        --bfile REF/all_hg38_QCed \\\n",
    "        --clump Sumstats/WGS_${trait}_QCed.tsv \\\n",
    "        --clump-p1 1 \\\n",
    "        --clump-r2 0.1 \\\n",
    "        --clump-kb 250 \\\n",
    "        --clump-snp-field varid \\\n",
    "        --clump-field pval_meta \\\n",
    "        --out Sumstats/WGS_${trait}_QCed\n",
    "done"
   ]
  },
  {
   "cell_type": "code",
   "execution_count": 10,
   "metadata": {},
   "outputs": [],
   "source": [
    "def select_clump(trait):\n",
    "\n",
    "    clumped = pd.read_csv(f'Sumstats/WGS_{trait}_QCed.clumped', delim_whitespace=True)  \n",
    "    original = pd.read_csv(f'Sumstats/WGS_{trait}_QCed.tsv', sep=\"\\t\")  \n",
    "    \n",
    "    # Filter the original data to keep only the clumped variants\n",
    "    original_sub = original[original['varid'].isin(clumped['SNP'])]\n",
    "    \n",
    "    original_sub.to_csv(f'Sumstats/WGS_{trait}_QCed_clumped.tsv', sep='\\t', index=False, header=True)"
   ]
  },
  {
   "cell_type": "code",
   "execution_count": 11,
   "metadata": {},
   "outputs": [],
   "source": [
    "traits = ['Asthma', 'Breast_Cancer', 'Colorectal_Cancer', 'DBP', 'HDL', 'Height', 'leukocyte', 'RBC', 'T2D', 'TC']\n",
    "\n",
    "for trait in traits:\n",
    "    select_clump(trait)"
   ]
  },
  {
   "cell_type": "code",
   "execution_count": null,
   "metadata": {},
   "outputs": [],
   "source": []
  }
 ],
 "metadata": {
  "kernelspec": {
   "display_name": "Python 3 (ipykernel)",
   "language": "python",
   "name": "python3"
  },
  "language_info": {
   "codemirror_mode": {
    "name": "ipython",
    "version": 3
   },
   "file_extension": ".py",
   "mimetype": "text/x-python",
   "name": "python",
   "nbconvert_exporter": "python",
   "pygments_lexer": "ipython3",
   "version": "3.10.9"
  },
  "toc": {
   "base_numbering": 1,
   "nav_menu": {},
   "number_sections": false,
   "sideBar": true,
   "skip_h1_title": false,
   "title_cell": "Table of Contents",
   "title_sidebar": "Contents",
   "toc_cell": false,
   "toc_position": {},
   "toc_section_display": true,
   "toc_window_display": false
  }
 },
 "nbformat": 4,
 "nbformat_minor": 2
}
